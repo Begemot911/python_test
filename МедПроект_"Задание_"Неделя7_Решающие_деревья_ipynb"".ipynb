{
  "nbformat": 4,
  "nbformat_minor": 0,
  "metadata": {
    "kernelspec": {
      "display_name": "Python 3",
      "language": "python",
      "name": "python3"
    },
    "language_info": {
      "codemirror_mode": {
        "name": "ipython",
        "version": 3
      },
      "file_extension": ".py",
      "mimetype": "text/x-python",
      "name": "python",
      "nbconvert_exporter": "python",
      "pygments_lexer": "ipython3",
      "version": "3.6.3"
    },
    "colab": {
      "provenance": [],
      "include_colab_link": true
    }
  },
  "cells": [
    {
      "cell_type": "markdown",
      "metadata": {
        "id": "view-in-github",
        "colab_type": "text"
      },
      "source": [
        "<a href=\"https://colab.research.google.com/github/Begemot911/python_test/blob/main/%D0%9C%D0%B5%D0%B4%D0%9F%D1%80%D0%BE%D0%B5%D0%BA%D1%82_%22%D0%97%D0%B0%D0%B4%D0%B0%D0%BD%D0%B8%D0%B5_%22%D0%9D%D0%B5%D0%B4%D0%B5%D0%BB%D1%8F7_%D0%A0%D0%B5%D1%88%D0%B0%D1%8E%D1%89%D0%B8%D0%B5_%D0%B4%D0%B5%D1%80%D0%B5%D0%B2%D1%8C%D1%8F_ipynb%22%22.ipynb\" target=\"_parent\"><img src=\"https://colab.research.google.com/assets/colab-badge.svg\" alt=\"Open In Colab\"/></a>"
      ]
    },
    {
      "cell_type": "code",
      "metadata": {
        "id": "hzhK_juRHJpg",
        "colab": {
          "base_uri": "https://localhost:8080/"
        },
        "outputId": "07a74624-fb7f-444c-a044-a2ea34c7eadc"
      },
      "source": [
        "# скачиваем файл\n",
        "!wget --no-check-certificate 'https://docs.google.com/uc?export=download&id=1rwQRsjsUgJjFYJH5OhkzOC7PeezZhdEl' -O heart.csv"
      ],
      "execution_count": null,
      "outputs": [
        {
          "output_type": "stream",
          "name": "stdout",
          "text": [
            "--2025-01-07 13:45:47--  https://docs.google.com/uc?export=download&id=1rwQRsjsUgJjFYJH5OhkzOC7PeezZhdEl\n",
            "Resolving docs.google.com (docs.google.com)... 173.194.193.139, 173.194.193.101, 173.194.193.113, ...\n",
            "Connecting to docs.google.com (docs.google.com)|173.194.193.139|:443... connected.\n",
            "HTTP request sent, awaiting response... 303 See Other\n",
            "Location: https://drive.usercontent.google.com/download?id=1rwQRsjsUgJjFYJH5OhkzOC7PeezZhdEl&export=download [following]\n",
            "--2025-01-07 13:45:47--  https://drive.usercontent.google.com/download?id=1rwQRsjsUgJjFYJH5OhkzOC7PeezZhdEl&export=download\n",
            "Resolving drive.usercontent.google.com (drive.usercontent.google.com)... 108.177.121.132, 2607:f8b0:4001:c19::84\n",
            "Connecting to drive.usercontent.google.com (drive.usercontent.google.com)|108.177.121.132|:443... connected.\n",
            "HTTP request sent, awaiting response... 200 OK\n",
            "Length: 11328 (11K) [application/octet-stream]\n",
            "Saving to: ‘heart.csv’\n",
            "\n",
            "heart.csv           100%[===================>]  11.06K  --.-KB/s    in 0s      \n",
            "\n",
            "2025-01-07 13:45:49 (56.3 MB/s) - ‘heart.csv’ saved [11328/11328]\n",
            "\n"
          ]
        }
      ]
    },
    {
      "cell_type": "code",
      "metadata": {
        "id": "clz8cDlPqMMR",
        "colab": {
          "base_uri": "https://localhost:8080/"
        },
        "outputId": "b0a5dec7-5f47-45bd-f941-b08c6e3457e3"
      },
      "source": [
        "# устанавливаем нужную версию библиотеки sklearn, чтобы ответы сошлись\n",
        "!pip install scikit-learn==0.22.1"
      ],
      "execution_count": null,
      "outputs": [
        {
          "output_type": "stream",
          "name": "stdout",
          "text": [
            "Collecting scikit-learn==0.22.1\n",
            "  Downloading scikit-learn-0.22.1.tar.gz (6.9 MB)\n",
            "\u001b[2K     \u001b[90m━━━━━━━━━━━━━━━━━━━━━━━━━━━━━━━━━━━━━━━━\u001b[0m \u001b[32m6.9/6.9 MB\u001b[0m \u001b[31m20.5 MB/s\u001b[0m eta \u001b[36m0:00:00\u001b[0m\n",
            "\u001b[?25h  Preparing metadata (setup.py) ... \u001b[?25l\u001b[?25hdone\n",
            "Requirement already satisfied: numpy>=1.11.0 in /usr/local/lib/python3.10/dist-packages (from scikit-learn==0.22.1) (1.26.4)\n",
            "Requirement already satisfied: scipy>=0.17.0 in /usr/local/lib/python3.10/dist-packages (from scikit-learn==0.22.1) (1.13.1)\n",
            "Requirement already satisfied: joblib>=0.11 in /usr/local/lib/python3.10/dist-packages (from scikit-learn==0.22.1) (1.4.2)\n",
            "Building wheels for collected packages: scikit-learn\n",
            "  \u001b[1;31merror\u001b[0m: \u001b[1msubprocess-exited-with-error\u001b[0m\n",
            "  \n",
            "  \u001b[31m×\u001b[0m \u001b[32mpython setup.py bdist_wheel\u001b[0m did not run successfully.\n",
            "  \u001b[31m│\u001b[0m exit code: \u001b[1;36m1\u001b[0m\n",
            "  \u001b[31m╰─>\u001b[0m See above for output.\n",
            "  \n",
            "  \u001b[1;35mnote\u001b[0m: This error originates from a subprocess, and is likely not a problem with pip.\n",
            "  Building wheel for scikit-learn (setup.py) ... \u001b[?25lerror\n",
            "\u001b[31m  ERROR: Failed building wheel for scikit-learn\u001b[0m\u001b[31m\n",
            "\u001b[0m\u001b[?25h  Running setup.py clean for scikit-learn\n",
            "Failed to build scikit-learn\n",
            "\u001b[31mERROR: ERROR: Failed to build installable wheels for some pyproject.toml based projects (scikit-learn)\u001b[0m\u001b[31m\n",
            "\u001b[0m"
          ]
        }
      ]
    },
    {
      "cell_type": "code",
      "metadata": {
        "id": "nRzTwvrrHJpm"
      },
      "source": [
        "import numpy as np\n",
        "import pandas as pd"
      ],
      "execution_count": null,
      "outputs": []
    },
    {
      "cell_type": "markdown",
      "metadata": {
        "id": "zeGGzfLJHJpq"
      },
      "source": [
        "В этом задании вы будете работать с [данными о пациентах, у части которых есть заболевание сердца](https://www.kaggle.com/ronitf/heart-disease-uci). Вам нужно построить модель, классифицирующую пациентов на больных этим заболеванием и тех, у кого его нет, а также проанализировать результаты."
      ]
    },
    {
      "cell_type": "code",
      "metadata": {
        "id": "tRH_5jlMHJpr",
        "colab": {
          "base_uri": "https://localhost:8080/",
          "height": 206
        },
        "outputId": "b311d9d2-0776-449c-e37b-3d4c6042e24d"
      },
      "source": [
        "data = pd.read_csv('heart.csv')\n",
        "data.head()"
      ],
      "execution_count": null,
      "outputs": [
        {
          "output_type": "execute_result",
          "data": {
            "text/plain": [
              "   age  sex  cp  trestbps  chol  fbs  restecg  thalach  exang  oldpeak  slope  \\\n",
              "0   63    1   3       145   233    1        0      150      0      2.3      0   \n",
              "1   37    1   2       130   250    0        1      187      0      3.5      0   \n",
              "2   41    0   1       130   204    0        0      172      0      1.4      2   \n",
              "3   56    1   1       120   236    0        1      178      0      0.8      2   \n",
              "4   57    0   0       120   354    0        1      163      1      0.6      2   \n",
              "\n",
              "   ca  thal  target  \n",
              "0   0     1       1  \n",
              "1   0     2       1  \n",
              "2   0     2       1  \n",
              "3   0     2       1  \n",
              "4   0     2       1  "
            ],
            "text/html": [
              "\n",
              "  <div id=\"df-3ddd2cae-ec6d-499f-a7f7-5903aa5ace60\" class=\"colab-df-container\">\n",
              "    <div>\n",
              "<style scoped>\n",
              "    .dataframe tbody tr th:only-of-type {\n",
              "        vertical-align: middle;\n",
              "    }\n",
              "\n",
              "    .dataframe tbody tr th {\n",
              "        vertical-align: top;\n",
              "    }\n",
              "\n",
              "    .dataframe thead th {\n",
              "        text-align: right;\n",
              "    }\n",
              "</style>\n",
              "<table border=\"1\" class=\"dataframe\">\n",
              "  <thead>\n",
              "    <tr style=\"text-align: right;\">\n",
              "      <th></th>\n",
              "      <th>age</th>\n",
              "      <th>sex</th>\n",
              "      <th>cp</th>\n",
              "      <th>trestbps</th>\n",
              "      <th>chol</th>\n",
              "      <th>fbs</th>\n",
              "      <th>restecg</th>\n",
              "      <th>thalach</th>\n",
              "      <th>exang</th>\n",
              "      <th>oldpeak</th>\n",
              "      <th>slope</th>\n",
              "      <th>ca</th>\n",
              "      <th>thal</th>\n",
              "      <th>target</th>\n",
              "    </tr>\n",
              "  </thead>\n",
              "  <tbody>\n",
              "    <tr>\n",
              "      <th>0</th>\n",
              "      <td>63</td>\n",
              "      <td>1</td>\n",
              "      <td>3</td>\n",
              "      <td>145</td>\n",
              "      <td>233</td>\n",
              "      <td>1</td>\n",
              "      <td>0</td>\n",
              "      <td>150</td>\n",
              "      <td>0</td>\n",
              "      <td>2.3</td>\n",
              "      <td>0</td>\n",
              "      <td>0</td>\n",
              "      <td>1</td>\n",
              "      <td>1</td>\n",
              "    </tr>\n",
              "    <tr>\n",
              "      <th>1</th>\n",
              "      <td>37</td>\n",
              "      <td>1</td>\n",
              "      <td>2</td>\n",
              "      <td>130</td>\n",
              "      <td>250</td>\n",
              "      <td>0</td>\n",
              "      <td>1</td>\n",
              "      <td>187</td>\n",
              "      <td>0</td>\n",
              "      <td>3.5</td>\n",
              "      <td>0</td>\n",
              "      <td>0</td>\n",
              "      <td>2</td>\n",
              "      <td>1</td>\n",
              "    </tr>\n",
              "    <tr>\n",
              "      <th>2</th>\n",
              "      <td>41</td>\n",
              "      <td>0</td>\n",
              "      <td>1</td>\n",
              "      <td>130</td>\n",
              "      <td>204</td>\n",
              "      <td>0</td>\n",
              "      <td>0</td>\n",
              "      <td>172</td>\n",
              "      <td>0</td>\n",
              "      <td>1.4</td>\n",
              "      <td>2</td>\n",
              "      <td>0</td>\n",
              "      <td>2</td>\n",
              "      <td>1</td>\n",
              "    </tr>\n",
              "    <tr>\n",
              "      <th>3</th>\n",
              "      <td>56</td>\n",
              "      <td>1</td>\n",
              "      <td>1</td>\n",
              "      <td>120</td>\n",
              "      <td>236</td>\n",
              "      <td>0</td>\n",
              "      <td>1</td>\n",
              "      <td>178</td>\n",
              "      <td>0</td>\n",
              "      <td>0.8</td>\n",
              "      <td>2</td>\n",
              "      <td>0</td>\n",
              "      <td>2</td>\n",
              "      <td>1</td>\n",
              "    </tr>\n",
              "    <tr>\n",
              "      <th>4</th>\n",
              "      <td>57</td>\n",
              "      <td>0</td>\n",
              "      <td>0</td>\n",
              "      <td>120</td>\n",
              "      <td>354</td>\n",
              "      <td>0</td>\n",
              "      <td>1</td>\n",
              "      <td>163</td>\n",
              "      <td>1</td>\n",
              "      <td>0.6</td>\n",
              "      <td>2</td>\n",
              "      <td>0</td>\n",
              "      <td>2</td>\n",
              "      <td>1</td>\n",
              "    </tr>\n",
              "  </tbody>\n",
              "</table>\n",
              "</div>\n",
              "    <div class=\"colab-df-buttons\">\n",
              "\n",
              "  <div class=\"colab-df-container\">\n",
              "    <button class=\"colab-df-convert\" onclick=\"convertToInteractive('df-3ddd2cae-ec6d-499f-a7f7-5903aa5ace60')\"\n",
              "            title=\"Convert this dataframe to an interactive table.\"\n",
              "            style=\"display:none;\">\n",
              "\n",
              "  <svg xmlns=\"http://www.w3.org/2000/svg\" height=\"24px\" viewBox=\"0 -960 960 960\">\n",
              "    <path d=\"M120-120v-720h720v720H120Zm60-500h600v-160H180v160Zm220 220h160v-160H400v160Zm0 220h160v-160H400v160ZM180-400h160v-160H180v160Zm440 0h160v-160H620v160ZM180-180h160v-160H180v160Zm440 0h160v-160H620v160Z\"/>\n",
              "  </svg>\n",
              "    </button>\n",
              "\n",
              "  <style>\n",
              "    .colab-df-container {\n",
              "      display:flex;\n",
              "      gap: 12px;\n",
              "    }\n",
              "\n",
              "    .colab-df-convert {\n",
              "      background-color: #E8F0FE;\n",
              "      border: none;\n",
              "      border-radius: 50%;\n",
              "      cursor: pointer;\n",
              "      display: none;\n",
              "      fill: #1967D2;\n",
              "      height: 32px;\n",
              "      padding: 0 0 0 0;\n",
              "      width: 32px;\n",
              "    }\n",
              "\n",
              "    .colab-df-convert:hover {\n",
              "      background-color: #E2EBFA;\n",
              "      box-shadow: 0px 1px 2px rgba(60, 64, 67, 0.3), 0px 1px 3px 1px rgba(60, 64, 67, 0.15);\n",
              "      fill: #174EA6;\n",
              "    }\n",
              "\n",
              "    .colab-df-buttons div {\n",
              "      margin-bottom: 4px;\n",
              "    }\n",
              "\n",
              "    [theme=dark] .colab-df-convert {\n",
              "      background-color: #3B4455;\n",
              "      fill: #D2E3FC;\n",
              "    }\n",
              "\n",
              "    [theme=dark] .colab-df-convert:hover {\n",
              "      background-color: #434B5C;\n",
              "      box-shadow: 0px 1px 3px 1px rgba(0, 0, 0, 0.15);\n",
              "      filter: drop-shadow(0px 1px 2px rgba(0, 0, 0, 0.3));\n",
              "      fill: #FFFFFF;\n",
              "    }\n",
              "  </style>\n",
              "\n",
              "    <script>\n",
              "      const buttonEl =\n",
              "        document.querySelector('#df-3ddd2cae-ec6d-499f-a7f7-5903aa5ace60 button.colab-df-convert');\n",
              "      buttonEl.style.display =\n",
              "        google.colab.kernel.accessAllowed ? 'block' : 'none';\n",
              "\n",
              "      async function convertToInteractive(key) {\n",
              "        const element = document.querySelector('#df-3ddd2cae-ec6d-499f-a7f7-5903aa5ace60');\n",
              "        const dataTable =\n",
              "          await google.colab.kernel.invokeFunction('convertToInteractive',\n",
              "                                                    [key], {});\n",
              "        if (!dataTable) return;\n",
              "\n",
              "        const docLinkHtml = 'Like what you see? Visit the ' +\n",
              "          '<a target=\"_blank\" href=https://colab.research.google.com/notebooks/data_table.ipynb>data table notebook</a>'\n",
              "          + ' to learn more about interactive tables.';\n",
              "        element.innerHTML = '';\n",
              "        dataTable['output_type'] = 'display_data';\n",
              "        await google.colab.output.renderOutput(dataTable, element);\n",
              "        const docLink = document.createElement('div');\n",
              "        docLink.innerHTML = docLinkHtml;\n",
              "        element.appendChild(docLink);\n",
              "      }\n",
              "    </script>\n",
              "  </div>\n",
              "\n",
              "\n",
              "<div id=\"df-e60d0b37-2534-47d9-acf2-24f58a3c7bc4\">\n",
              "  <button class=\"colab-df-quickchart\" onclick=\"quickchart('df-e60d0b37-2534-47d9-acf2-24f58a3c7bc4')\"\n",
              "            title=\"Suggest charts\"\n",
              "            style=\"display:none;\">\n",
              "\n",
              "<svg xmlns=\"http://www.w3.org/2000/svg\" height=\"24px\"viewBox=\"0 0 24 24\"\n",
              "     width=\"24px\">\n",
              "    <g>\n",
              "        <path d=\"M19 3H5c-1.1 0-2 .9-2 2v14c0 1.1.9 2 2 2h14c1.1 0 2-.9 2-2V5c0-1.1-.9-2-2-2zM9 17H7v-7h2v7zm4 0h-2V7h2v10zm4 0h-2v-4h2v4z\"/>\n",
              "    </g>\n",
              "</svg>\n",
              "  </button>\n",
              "\n",
              "<style>\n",
              "  .colab-df-quickchart {\n",
              "      --bg-color: #E8F0FE;\n",
              "      --fill-color: #1967D2;\n",
              "      --hover-bg-color: #E2EBFA;\n",
              "      --hover-fill-color: #174EA6;\n",
              "      --disabled-fill-color: #AAA;\n",
              "      --disabled-bg-color: #DDD;\n",
              "  }\n",
              "\n",
              "  [theme=dark] .colab-df-quickchart {\n",
              "      --bg-color: #3B4455;\n",
              "      --fill-color: #D2E3FC;\n",
              "      --hover-bg-color: #434B5C;\n",
              "      --hover-fill-color: #FFFFFF;\n",
              "      --disabled-bg-color: #3B4455;\n",
              "      --disabled-fill-color: #666;\n",
              "  }\n",
              "\n",
              "  .colab-df-quickchart {\n",
              "    background-color: var(--bg-color);\n",
              "    border: none;\n",
              "    border-radius: 50%;\n",
              "    cursor: pointer;\n",
              "    display: none;\n",
              "    fill: var(--fill-color);\n",
              "    height: 32px;\n",
              "    padding: 0;\n",
              "    width: 32px;\n",
              "  }\n",
              "\n",
              "  .colab-df-quickchart:hover {\n",
              "    background-color: var(--hover-bg-color);\n",
              "    box-shadow: 0 1px 2px rgba(60, 64, 67, 0.3), 0 1px 3px 1px rgba(60, 64, 67, 0.15);\n",
              "    fill: var(--button-hover-fill-color);\n",
              "  }\n",
              "\n",
              "  .colab-df-quickchart-complete:disabled,\n",
              "  .colab-df-quickchart-complete:disabled:hover {\n",
              "    background-color: var(--disabled-bg-color);\n",
              "    fill: var(--disabled-fill-color);\n",
              "    box-shadow: none;\n",
              "  }\n",
              "\n",
              "  .colab-df-spinner {\n",
              "    border: 2px solid var(--fill-color);\n",
              "    border-color: transparent;\n",
              "    border-bottom-color: var(--fill-color);\n",
              "    animation:\n",
              "      spin 1s steps(1) infinite;\n",
              "  }\n",
              "\n",
              "  @keyframes spin {\n",
              "    0% {\n",
              "      border-color: transparent;\n",
              "      border-bottom-color: var(--fill-color);\n",
              "      border-left-color: var(--fill-color);\n",
              "    }\n",
              "    20% {\n",
              "      border-color: transparent;\n",
              "      border-left-color: var(--fill-color);\n",
              "      border-top-color: var(--fill-color);\n",
              "    }\n",
              "    30% {\n",
              "      border-color: transparent;\n",
              "      border-left-color: var(--fill-color);\n",
              "      border-top-color: var(--fill-color);\n",
              "      border-right-color: var(--fill-color);\n",
              "    }\n",
              "    40% {\n",
              "      border-color: transparent;\n",
              "      border-right-color: var(--fill-color);\n",
              "      border-top-color: var(--fill-color);\n",
              "    }\n",
              "    60% {\n",
              "      border-color: transparent;\n",
              "      border-right-color: var(--fill-color);\n",
              "    }\n",
              "    80% {\n",
              "      border-color: transparent;\n",
              "      border-right-color: var(--fill-color);\n",
              "      border-bottom-color: var(--fill-color);\n",
              "    }\n",
              "    90% {\n",
              "      border-color: transparent;\n",
              "      border-bottom-color: var(--fill-color);\n",
              "    }\n",
              "  }\n",
              "</style>\n",
              "\n",
              "  <script>\n",
              "    async function quickchart(key) {\n",
              "      const quickchartButtonEl =\n",
              "        document.querySelector('#' + key + ' button');\n",
              "      quickchartButtonEl.disabled = true;  // To prevent multiple clicks.\n",
              "      quickchartButtonEl.classList.add('colab-df-spinner');\n",
              "      try {\n",
              "        const charts = await google.colab.kernel.invokeFunction(\n",
              "            'suggestCharts', [key], {});\n",
              "      } catch (error) {\n",
              "        console.error('Error during call to suggestCharts:', error);\n",
              "      }\n",
              "      quickchartButtonEl.classList.remove('colab-df-spinner');\n",
              "      quickchartButtonEl.classList.add('colab-df-quickchart-complete');\n",
              "    }\n",
              "    (() => {\n",
              "      let quickchartButtonEl =\n",
              "        document.querySelector('#df-e60d0b37-2534-47d9-acf2-24f58a3c7bc4 button');\n",
              "      quickchartButtonEl.style.display =\n",
              "        google.colab.kernel.accessAllowed ? 'block' : 'none';\n",
              "    })();\n",
              "  </script>\n",
              "</div>\n",
              "    </div>\n",
              "  </div>\n"
            ],
            "application/vnd.google.colaboratory.intrinsic+json": {
              "type": "dataframe",
              "variable_name": "data",
              "summary": "{\n  \"name\": \"data\",\n  \"rows\": 303,\n  \"fields\": [\n    {\n      \"column\": \"age\",\n      \"properties\": {\n        \"dtype\": \"number\",\n        \"std\": 9,\n        \"min\": 29,\n        \"max\": 77,\n        \"num_unique_values\": 41,\n        \"samples\": [\n          46,\n          66,\n          48\n        ],\n        \"semantic_type\": \"\",\n        \"description\": \"\"\n      }\n    },\n    {\n      \"column\": \"sex\",\n      \"properties\": {\n        \"dtype\": \"number\",\n        \"std\": 0,\n        \"min\": 0,\n        \"max\": 1,\n        \"num_unique_values\": 2,\n        \"samples\": [\n          0,\n          1\n        ],\n        \"semantic_type\": \"\",\n        \"description\": \"\"\n      }\n    },\n    {\n      \"column\": \"cp\",\n      \"properties\": {\n        \"dtype\": \"number\",\n        \"std\": 1,\n        \"min\": 0,\n        \"max\": 3,\n        \"num_unique_values\": 4,\n        \"samples\": [\n          2,\n          0\n        ],\n        \"semantic_type\": \"\",\n        \"description\": \"\"\n      }\n    },\n    {\n      \"column\": \"trestbps\",\n      \"properties\": {\n        \"dtype\": \"number\",\n        \"std\": 17,\n        \"min\": 94,\n        \"max\": 200,\n        \"num_unique_values\": 49,\n        \"samples\": [\n          104,\n          123\n        ],\n        \"semantic_type\": \"\",\n        \"description\": \"\"\n      }\n    },\n    {\n      \"column\": \"chol\",\n      \"properties\": {\n        \"dtype\": \"number\",\n        \"std\": 51,\n        \"min\": 126,\n        \"max\": 564,\n        \"num_unique_values\": 152,\n        \"samples\": [\n          277,\n          169\n        ],\n        \"semantic_type\": \"\",\n        \"description\": \"\"\n      }\n    },\n    {\n      \"column\": \"fbs\",\n      \"properties\": {\n        \"dtype\": \"number\",\n        \"std\": 0,\n        \"min\": 0,\n        \"max\": 1,\n        \"num_unique_values\": 2,\n        \"samples\": [\n          0,\n          1\n        ],\n        \"semantic_type\": \"\",\n        \"description\": \"\"\n      }\n    },\n    {\n      \"column\": \"restecg\",\n      \"properties\": {\n        \"dtype\": \"number\",\n        \"std\": 0,\n        \"min\": 0,\n        \"max\": 2,\n        \"num_unique_values\": 3,\n        \"samples\": [\n          0,\n          1\n        ],\n        \"semantic_type\": \"\",\n        \"description\": \"\"\n      }\n    },\n    {\n      \"column\": \"thalach\",\n      \"properties\": {\n        \"dtype\": \"number\",\n        \"std\": 22,\n        \"min\": 71,\n        \"max\": 202,\n        \"num_unique_values\": 91,\n        \"samples\": [\n          159,\n          152\n        ],\n        \"semantic_type\": \"\",\n        \"description\": \"\"\n      }\n    },\n    {\n      \"column\": \"exang\",\n      \"properties\": {\n        \"dtype\": \"number\",\n        \"std\": 0,\n        \"min\": 0,\n        \"max\": 1,\n        \"num_unique_values\": 2,\n        \"samples\": [\n          1,\n          0\n        ],\n        \"semantic_type\": \"\",\n        \"description\": \"\"\n      }\n    },\n    {\n      \"column\": \"oldpeak\",\n      \"properties\": {\n        \"dtype\": \"number\",\n        \"std\": 1.1610750220686343,\n        \"min\": 0.0,\n        \"max\": 6.2,\n        \"num_unique_values\": 40,\n        \"samples\": [\n          1.9,\n          3.0\n        ],\n        \"semantic_type\": \"\",\n        \"description\": \"\"\n      }\n    },\n    {\n      \"column\": \"slope\",\n      \"properties\": {\n        \"dtype\": \"number\",\n        \"std\": 0,\n        \"min\": 0,\n        \"max\": 2,\n        \"num_unique_values\": 3,\n        \"samples\": [\n          0,\n          2\n        ],\n        \"semantic_type\": \"\",\n        \"description\": \"\"\n      }\n    },\n    {\n      \"column\": \"ca\",\n      \"properties\": {\n        \"dtype\": \"number\",\n        \"std\": 1,\n        \"min\": 0,\n        \"max\": 4,\n        \"num_unique_values\": 5,\n        \"samples\": [\n          2,\n          4\n        ],\n        \"semantic_type\": \"\",\n        \"description\": \"\"\n      }\n    },\n    {\n      \"column\": \"thal\",\n      \"properties\": {\n        \"dtype\": \"number\",\n        \"std\": 0,\n        \"min\": 0,\n        \"max\": 3,\n        \"num_unique_values\": 4,\n        \"samples\": [\n          2,\n          0\n        ],\n        \"semantic_type\": \"\",\n        \"description\": \"\"\n      }\n    },\n    {\n      \"column\": \"target\",\n      \"properties\": {\n        \"dtype\": \"number\",\n        \"std\": 0,\n        \"min\": 0,\n        \"max\": 1,\n        \"num_unique_values\": 2,\n        \"samples\": [\n          0,\n          1\n        ],\n        \"semantic_type\": \"\",\n        \"description\": \"\"\n      }\n    }\n  ]\n}"
            }
          },
          "metadata": {},
          "execution_count": 4
        }
      ]
    },
    {
      "cell_type": "code",
      "source": [
        "data.loc[:2]"
      ],
      "metadata": {
        "colab": {
          "base_uri": "https://localhost:8080/",
          "height": 143
        },
        "id": "M5QymlxrGVAm",
        "outputId": "730c24b2-0398-45d3-da9a-e0a5f4f3bd3a"
      },
      "execution_count": null,
      "outputs": [
        {
          "output_type": "execute_result",
          "data": {
            "text/plain": [
              "   age  sex  cp  trestbps  chol  fbs  restecg  thalach  exang  oldpeak  slope  \\\n",
              "0   63    1   3       145   233    1        0      150      0      2.3      0   \n",
              "1   37    1   2       130   250    0        1      187      0      3.5      0   \n",
              "2   41    0   1       130   204    0        0      172      0      1.4      2   \n",
              "\n",
              "   ca  thal  target  \n",
              "0   0     1       1  \n",
              "1   0     2       1  \n",
              "2   0     2       1  "
            ],
            "text/html": [
              "\n",
              "  <div id=\"df-265a9cc6-98b8-40e6-8633-3d20e1c9447d\" class=\"colab-df-container\">\n",
              "    <div>\n",
              "<style scoped>\n",
              "    .dataframe tbody tr th:only-of-type {\n",
              "        vertical-align: middle;\n",
              "    }\n",
              "\n",
              "    .dataframe tbody tr th {\n",
              "        vertical-align: top;\n",
              "    }\n",
              "\n",
              "    .dataframe thead th {\n",
              "        text-align: right;\n",
              "    }\n",
              "</style>\n",
              "<table border=\"1\" class=\"dataframe\">\n",
              "  <thead>\n",
              "    <tr style=\"text-align: right;\">\n",
              "      <th></th>\n",
              "      <th>age</th>\n",
              "      <th>sex</th>\n",
              "      <th>cp</th>\n",
              "      <th>trestbps</th>\n",
              "      <th>chol</th>\n",
              "      <th>fbs</th>\n",
              "      <th>restecg</th>\n",
              "      <th>thalach</th>\n",
              "      <th>exang</th>\n",
              "      <th>oldpeak</th>\n",
              "      <th>slope</th>\n",
              "      <th>ca</th>\n",
              "      <th>thal</th>\n",
              "      <th>target</th>\n",
              "    </tr>\n",
              "  </thead>\n",
              "  <tbody>\n",
              "    <tr>\n",
              "      <th>0</th>\n",
              "      <td>63</td>\n",
              "      <td>1</td>\n",
              "      <td>3</td>\n",
              "      <td>145</td>\n",
              "      <td>233</td>\n",
              "      <td>1</td>\n",
              "      <td>0</td>\n",
              "      <td>150</td>\n",
              "      <td>0</td>\n",
              "      <td>2.3</td>\n",
              "      <td>0</td>\n",
              "      <td>0</td>\n",
              "      <td>1</td>\n",
              "      <td>1</td>\n",
              "    </tr>\n",
              "    <tr>\n",
              "      <th>1</th>\n",
              "      <td>37</td>\n",
              "      <td>1</td>\n",
              "      <td>2</td>\n",
              "      <td>130</td>\n",
              "      <td>250</td>\n",
              "      <td>0</td>\n",
              "      <td>1</td>\n",
              "      <td>187</td>\n",
              "      <td>0</td>\n",
              "      <td>3.5</td>\n",
              "      <td>0</td>\n",
              "      <td>0</td>\n",
              "      <td>2</td>\n",
              "      <td>1</td>\n",
              "    </tr>\n",
              "    <tr>\n",
              "      <th>2</th>\n",
              "      <td>41</td>\n",
              "      <td>0</td>\n",
              "      <td>1</td>\n",
              "      <td>130</td>\n",
              "      <td>204</td>\n",
              "      <td>0</td>\n",
              "      <td>0</td>\n",
              "      <td>172</td>\n",
              "      <td>0</td>\n",
              "      <td>1.4</td>\n",
              "      <td>2</td>\n",
              "      <td>0</td>\n",
              "      <td>2</td>\n",
              "      <td>1</td>\n",
              "    </tr>\n",
              "  </tbody>\n",
              "</table>\n",
              "</div>\n",
              "    <div class=\"colab-df-buttons\">\n",
              "\n",
              "  <div class=\"colab-df-container\">\n",
              "    <button class=\"colab-df-convert\" onclick=\"convertToInteractive('df-265a9cc6-98b8-40e6-8633-3d20e1c9447d')\"\n",
              "            title=\"Convert this dataframe to an interactive table.\"\n",
              "            style=\"display:none;\">\n",
              "\n",
              "  <svg xmlns=\"http://www.w3.org/2000/svg\" height=\"24px\" viewBox=\"0 -960 960 960\">\n",
              "    <path d=\"M120-120v-720h720v720H120Zm60-500h600v-160H180v160Zm220 220h160v-160H400v160Zm0 220h160v-160H400v160ZM180-400h160v-160H180v160Zm440 0h160v-160H620v160ZM180-180h160v-160H180v160Zm440 0h160v-160H620v160Z\"/>\n",
              "  </svg>\n",
              "    </button>\n",
              "\n",
              "  <style>\n",
              "    .colab-df-container {\n",
              "      display:flex;\n",
              "      gap: 12px;\n",
              "    }\n",
              "\n",
              "    .colab-df-convert {\n",
              "      background-color: #E8F0FE;\n",
              "      border: none;\n",
              "      border-radius: 50%;\n",
              "      cursor: pointer;\n",
              "      display: none;\n",
              "      fill: #1967D2;\n",
              "      height: 32px;\n",
              "      padding: 0 0 0 0;\n",
              "      width: 32px;\n",
              "    }\n",
              "\n",
              "    .colab-df-convert:hover {\n",
              "      background-color: #E2EBFA;\n",
              "      box-shadow: 0px 1px 2px rgba(60, 64, 67, 0.3), 0px 1px 3px 1px rgba(60, 64, 67, 0.15);\n",
              "      fill: #174EA6;\n",
              "    }\n",
              "\n",
              "    .colab-df-buttons div {\n",
              "      margin-bottom: 4px;\n",
              "    }\n",
              "\n",
              "    [theme=dark] .colab-df-convert {\n",
              "      background-color: #3B4455;\n",
              "      fill: #D2E3FC;\n",
              "    }\n",
              "\n",
              "    [theme=dark] .colab-df-convert:hover {\n",
              "      background-color: #434B5C;\n",
              "      box-shadow: 0px 1px 3px 1px rgba(0, 0, 0, 0.15);\n",
              "      filter: drop-shadow(0px 1px 2px rgba(0, 0, 0, 0.3));\n",
              "      fill: #FFFFFF;\n",
              "    }\n",
              "  </style>\n",
              "\n",
              "    <script>\n",
              "      const buttonEl =\n",
              "        document.querySelector('#df-265a9cc6-98b8-40e6-8633-3d20e1c9447d button.colab-df-convert');\n",
              "      buttonEl.style.display =\n",
              "        google.colab.kernel.accessAllowed ? 'block' : 'none';\n",
              "\n",
              "      async function convertToInteractive(key) {\n",
              "        const element = document.querySelector('#df-265a9cc6-98b8-40e6-8633-3d20e1c9447d');\n",
              "        const dataTable =\n",
              "          await google.colab.kernel.invokeFunction('convertToInteractive',\n",
              "                                                    [key], {});\n",
              "        if (!dataTable) return;\n",
              "\n",
              "        const docLinkHtml = 'Like what you see? Visit the ' +\n",
              "          '<a target=\"_blank\" href=https://colab.research.google.com/notebooks/data_table.ipynb>data table notebook</a>'\n",
              "          + ' to learn more about interactive tables.';\n",
              "        element.innerHTML = '';\n",
              "        dataTable['output_type'] = 'display_data';\n",
              "        await google.colab.output.renderOutput(dataTable, element);\n",
              "        const docLink = document.createElement('div');\n",
              "        docLink.innerHTML = docLinkHtml;\n",
              "        element.appendChild(docLink);\n",
              "      }\n",
              "    </script>\n",
              "  </div>\n",
              "\n",
              "\n",
              "<div id=\"df-845474f0-e6d0-419e-b82f-641b64a1dac4\">\n",
              "  <button class=\"colab-df-quickchart\" onclick=\"quickchart('df-845474f0-e6d0-419e-b82f-641b64a1dac4')\"\n",
              "            title=\"Suggest charts\"\n",
              "            style=\"display:none;\">\n",
              "\n",
              "<svg xmlns=\"http://www.w3.org/2000/svg\" height=\"24px\"viewBox=\"0 0 24 24\"\n",
              "     width=\"24px\">\n",
              "    <g>\n",
              "        <path d=\"M19 3H5c-1.1 0-2 .9-2 2v14c0 1.1.9 2 2 2h14c1.1 0 2-.9 2-2V5c0-1.1-.9-2-2-2zM9 17H7v-7h2v7zm4 0h-2V7h2v10zm4 0h-2v-4h2v4z\"/>\n",
              "    </g>\n",
              "</svg>\n",
              "  </button>\n",
              "\n",
              "<style>\n",
              "  .colab-df-quickchart {\n",
              "      --bg-color: #E8F0FE;\n",
              "      --fill-color: #1967D2;\n",
              "      --hover-bg-color: #E2EBFA;\n",
              "      --hover-fill-color: #174EA6;\n",
              "      --disabled-fill-color: #AAA;\n",
              "      --disabled-bg-color: #DDD;\n",
              "  }\n",
              "\n",
              "  [theme=dark] .colab-df-quickchart {\n",
              "      --bg-color: #3B4455;\n",
              "      --fill-color: #D2E3FC;\n",
              "      --hover-bg-color: #434B5C;\n",
              "      --hover-fill-color: #FFFFFF;\n",
              "      --disabled-bg-color: #3B4455;\n",
              "      --disabled-fill-color: #666;\n",
              "  }\n",
              "\n",
              "  .colab-df-quickchart {\n",
              "    background-color: var(--bg-color);\n",
              "    border: none;\n",
              "    border-radius: 50%;\n",
              "    cursor: pointer;\n",
              "    display: none;\n",
              "    fill: var(--fill-color);\n",
              "    height: 32px;\n",
              "    padding: 0;\n",
              "    width: 32px;\n",
              "  }\n",
              "\n",
              "  .colab-df-quickchart:hover {\n",
              "    background-color: var(--hover-bg-color);\n",
              "    box-shadow: 0 1px 2px rgba(60, 64, 67, 0.3), 0 1px 3px 1px rgba(60, 64, 67, 0.15);\n",
              "    fill: var(--button-hover-fill-color);\n",
              "  }\n",
              "\n",
              "  .colab-df-quickchart-complete:disabled,\n",
              "  .colab-df-quickchart-complete:disabled:hover {\n",
              "    background-color: var(--disabled-bg-color);\n",
              "    fill: var(--disabled-fill-color);\n",
              "    box-shadow: none;\n",
              "  }\n",
              "\n",
              "  .colab-df-spinner {\n",
              "    border: 2px solid var(--fill-color);\n",
              "    border-color: transparent;\n",
              "    border-bottom-color: var(--fill-color);\n",
              "    animation:\n",
              "      spin 1s steps(1) infinite;\n",
              "  }\n",
              "\n",
              "  @keyframes spin {\n",
              "    0% {\n",
              "      border-color: transparent;\n",
              "      border-bottom-color: var(--fill-color);\n",
              "      border-left-color: var(--fill-color);\n",
              "    }\n",
              "    20% {\n",
              "      border-color: transparent;\n",
              "      border-left-color: var(--fill-color);\n",
              "      border-top-color: var(--fill-color);\n",
              "    }\n",
              "    30% {\n",
              "      border-color: transparent;\n",
              "      border-left-color: var(--fill-color);\n",
              "      border-top-color: var(--fill-color);\n",
              "      border-right-color: var(--fill-color);\n",
              "    }\n",
              "    40% {\n",
              "      border-color: transparent;\n",
              "      border-right-color: var(--fill-color);\n",
              "      border-top-color: var(--fill-color);\n",
              "    }\n",
              "    60% {\n",
              "      border-color: transparent;\n",
              "      border-right-color: var(--fill-color);\n",
              "    }\n",
              "    80% {\n",
              "      border-color: transparent;\n",
              "      border-right-color: var(--fill-color);\n",
              "      border-bottom-color: var(--fill-color);\n",
              "    }\n",
              "    90% {\n",
              "      border-color: transparent;\n",
              "      border-bottom-color: var(--fill-color);\n",
              "    }\n",
              "  }\n",
              "</style>\n",
              "\n",
              "  <script>\n",
              "    async function quickchart(key) {\n",
              "      const quickchartButtonEl =\n",
              "        document.querySelector('#' + key + ' button');\n",
              "      quickchartButtonEl.disabled = true;  // To prevent multiple clicks.\n",
              "      quickchartButtonEl.classList.add('colab-df-spinner');\n",
              "      try {\n",
              "        const charts = await google.colab.kernel.invokeFunction(\n",
              "            'suggestCharts', [key], {});\n",
              "      } catch (error) {\n",
              "        console.error('Error during call to suggestCharts:', error);\n",
              "      }\n",
              "      quickchartButtonEl.classList.remove('colab-df-spinner');\n",
              "      quickchartButtonEl.classList.add('colab-df-quickchart-complete');\n",
              "    }\n",
              "    (() => {\n",
              "      let quickchartButtonEl =\n",
              "        document.querySelector('#df-845474f0-e6d0-419e-b82f-641b64a1dac4 button');\n",
              "      quickchartButtonEl.style.display =\n",
              "        google.colab.kernel.accessAllowed ? 'block' : 'none';\n",
              "    })();\n",
              "  </script>\n",
              "</div>\n",
              "    </div>\n",
              "  </div>\n"
            ],
            "application/vnd.google.colaboratory.intrinsic+json": {
              "type": "dataframe",
              "summary": "{\n  \"name\": \"data\",\n  \"rows\": 3,\n  \"fields\": [\n    {\n      \"column\": \"age\",\n      \"properties\": {\n        \"dtype\": \"number\",\n        \"std\": 14,\n        \"min\": 37,\n        \"max\": 63,\n        \"num_unique_values\": 3,\n        \"samples\": [\n          63,\n          37,\n          41\n        ],\n        \"semantic_type\": \"\",\n        \"description\": \"\"\n      }\n    },\n    {\n      \"column\": \"sex\",\n      \"properties\": {\n        \"dtype\": \"number\",\n        \"std\": 0,\n        \"min\": 0,\n        \"max\": 1,\n        \"num_unique_values\": 2,\n        \"samples\": [\n          0,\n          1\n        ],\n        \"semantic_type\": \"\",\n        \"description\": \"\"\n      }\n    },\n    {\n      \"column\": \"cp\",\n      \"properties\": {\n        \"dtype\": \"number\",\n        \"std\": 1,\n        \"min\": 1,\n        \"max\": 3,\n        \"num_unique_values\": 3,\n        \"samples\": [\n          3,\n          2\n        ],\n        \"semantic_type\": \"\",\n        \"description\": \"\"\n      }\n    },\n    {\n      \"column\": \"trestbps\",\n      \"properties\": {\n        \"dtype\": \"number\",\n        \"std\": 8,\n        \"min\": 130,\n        \"max\": 145,\n        \"num_unique_values\": 2,\n        \"samples\": [\n          130,\n          145\n        ],\n        \"semantic_type\": \"\",\n        \"description\": \"\"\n      }\n    },\n    {\n      \"column\": \"chol\",\n      \"properties\": {\n        \"dtype\": \"number\",\n        \"std\": 23,\n        \"min\": 204,\n        \"max\": 250,\n        \"num_unique_values\": 3,\n        \"samples\": [\n          233,\n          250\n        ],\n        \"semantic_type\": \"\",\n        \"description\": \"\"\n      }\n    },\n    {\n      \"column\": \"fbs\",\n      \"properties\": {\n        \"dtype\": \"number\",\n        \"std\": 0,\n        \"min\": 0,\n        \"max\": 1,\n        \"num_unique_values\": 2,\n        \"samples\": [\n          0,\n          1\n        ],\n        \"semantic_type\": \"\",\n        \"description\": \"\"\n      }\n    },\n    {\n      \"column\": \"restecg\",\n      \"properties\": {\n        \"dtype\": \"number\",\n        \"std\": 0,\n        \"min\": 0,\n        \"max\": 1,\n        \"num_unique_values\": 2,\n        \"samples\": [\n          1,\n          0\n        ],\n        \"semantic_type\": \"\",\n        \"description\": \"\"\n      }\n    },\n    {\n      \"column\": \"thalach\",\n      \"properties\": {\n        \"dtype\": \"number\",\n        \"std\": 18,\n        \"min\": 150,\n        \"max\": 187,\n        \"num_unique_values\": 3,\n        \"samples\": [\n          150,\n          187\n        ],\n        \"semantic_type\": \"\",\n        \"description\": \"\"\n      }\n    },\n    {\n      \"column\": \"exang\",\n      \"properties\": {\n        \"dtype\": \"number\",\n        \"std\": 0,\n        \"min\": 0,\n        \"max\": 0,\n        \"num_unique_values\": 1,\n        \"samples\": [\n          0\n        ],\n        \"semantic_type\": \"\",\n        \"description\": \"\"\n      }\n    },\n    {\n      \"column\": \"oldpeak\",\n      \"properties\": {\n        \"dtype\": \"number\",\n        \"std\": 1.0535653752852738,\n        \"min\": 1.4,\n        \"max\": 3.5,\n        \"num_unique_values\": 3,\n        \"samples\": [\n          2.3\n        ],\n        \"semantic_type\": \"\",\n        \"description\": \"\"\n      }\n    },\n    {\n      \"column\": \"slope\",\n      \"properties\": {\n        \"dtype\": \"number\",\n        \"std\": 1,\n        \"min\": 0,\n        \"max\": 2,\n        \"num_unique_values\": 2,\n        \"samples\": [\n          2\n        ],\n        \"semantic_type\": \"\",\n        \"description\": \"\"\n      }\n    },\n    {\n      \"column\": \"ca\",\n      \"properties\": {\n        \"dtype\": \"number\",\n        \"std\": 0,\n        \"min\": 0,\n        \"max\": 0,\n        \"num_unique_values\": 1,\n        \"samples\": [\n          0\n        ],\n        \"semantic_type\": \"\",\n        \"description\": \"\"\n      }\n    },\n    {\n      \"column\": \"thal\",\n      \"properties\": {\n        \"dtype\": \"number\",\n        \"std\": 0,\n        \"min\": 1,\n        \"max\": 2,\n        \"num_unique_values\": 2,\n        \"samples\": [\n          2\n        ],\n        \"semantic_type\": \"\",\n        \"description\": \"\"\n      }\n    },\n    {\n      \"column\": \"target\",\n      \"properties\": {\n        \"dtype\": \"number\",\n        \"std\": 0,\n        \"min\": 1,\n        \"max\": 1,\n        \"num_unique_values\": 1,\n        \"samples\": [\n          1\n        ],\n        \"semantic_type\": \"\",\n        \"description\": \"\"\n      }\n    }\n  ]\n}"
            }
          },
          "metadata": {},
          "execution_count": 51
        }
      ]
    },
    {
      "cell_type": "code",
      "source": [
        "print(data.columns)"
      ],
      "metadata": {
        "colab": {
          "base_uri": "https://localhost:8080/"
        },
        "id": "_-TU29bsG0EK",
        "outputId": "b9eb4b00-b4da-45d2-edbb-947c84eba513"
      },
      "execution_count": null,
      "outputs": [
        {
          "output_type": "stream",
          "name": "stdout",
          "text": [
            "Index(['age', 'sex', 'cp', 'trestbps', 'chol', 'fbs', 'restecg', 'thalach',\n",
            "       'exang', 'oldpeak', 'slope', 'ca', 'thal', 'target'],\n",
            "      dtype='object')\n"
          ]
        }
      ]
    },
    {
      "cell_type": "markdown",
      "metadata": {
        "id": "PyOMc9clHJpv"
      },
      "source": [
        "Разделим данную выборку на обучающую и тестовую части в отношении 3:1."
      ]
    },
    {
      "cell_type": "code",
      "metadata": {
        "id": "0yEEXqViHJpx",
        "colab": {
          "base_uri": "https://localhost:8080/"
        },
        "outputId": "33a61acf-8fe3-482b-d97e-c1f7b927f995"
      },
      "source": [
        "from sklearn.model_selection import train_test_split\n",
        "X_train, X_test, y_train, y_test = train_test_split(data.drop('target', axis=1), data['target'], test_size=0.25, random_state=13)\n",
        "X_train.shape, X_test.shape"
      ],
      "execution_count": null,
      "outputs": [
        {
          "output_type": "execute_result",
          "data": {
            "text/plain": [
              "((227, 13), (76, 13))"
            ]
          },
          "metadata": {},
          "execution_count": 5
        }
      ]
    },
    {
      "cell_type": "markdown",
      "metadata": {
        "id": "9dRzoKshHJp3"
      },
      "source": [
        "1. Обучите решающее дерево из `sklearn` (`sklearn.tree.DecisionTreeClassifier`) без ограничения на максимальную глубину (`max_depth=None`). В качестве сида поставьте `random_state=13`.\n",
        "\n",
        "   Подробнее о параметрах можно почитать в [документации](https://scikit-learn.org/stable/modules/generated/sklearn.tree.DecisionTreeClassifier.html).\n",
        "\n",
        "   Найдите долю правильных ответов полученного алгоритма на обучающей выборке (**в процентах**). Ответ округлите до двух знаков после запятой. Например, если значение доли правильных ответов будет равно 0.1234, то ответом будет 12.34 - ведь это 12.34%."
      ]
    },
    {
      "cell_type": "code",
      "metadata": {
        "id": "9c5bSOGzHJp4"
      },
      "source": [
        "from sklearn.tree import DecisionTreeClassifier\n",
        "from sklearn.metrics import accuracy_score\n",
        "dt = DecisionTreeClassifier(random_state=13,max_depth=None)\n",
        "dt.fit(X_train, y_train)\n",
        "y_pred_dt = dt.predict(X_train)"
      ],
      "execution_count": null,
      "outputs": []
    },
    {
      "cell_type": "code",
      "metadata": {
        "colab": {
          "base_uri": "https://localhost:8080/"
        },
        "id": "RCD7Gr__3oYz",
        "outputId": "bfa1cc1f-120a-4ac6-f07f-ace19cd9d122"
      },
      "source": [
        "round(accuracy_score(y_pred_dt, y_train)*100,2)"
      ],
      "execution_count": null,
      "outputs": [
        {
          "output_type": "execute_result",
          "data": {
            "text/plain": [
              "100.0"
            ]
          },
          "metadata": {},
          "execution_count": 7
        }
      ]
    },
    {
      "cell_type": "markdown",
      "metadata": {
        "id": "ff9U5ZB4HJp8"
      },
      "source": [
        "2. Теперь найдите долю правильных ответов полученного алгоритма на тестовой выборке (**в процентах**). Ответ округлите до двух знаков после запятой.\n",
        "\n",
        "    Заметно ли переобучение?"
      ]
    },
    {
      "cell_type": "code",
      "metadata": {
        "id": "3rmEY7W1HJp9",
        "colab": {
          "base_uri": "https://localhost:8080/"
        },
        "outputId": "4eeb26a6-7605-4acf-eaea-97358f953ffc"
      },
      "source": [
        "from sklearn.tree import DecisionTreeClassifier\n",
        "from sklearn.metrics import accuracy_score\n",
        "dt = DecisionTreeClassifier(random_state=13,max_depth=None)\n",
        "dt.fit(X_train, y_train)\n",
        "y_pred_dt = dt.predict(X_test)\n",
        "round(accuracy_score(y_pred_dt, y_test)*100,2)"
      ],
      "execution_count": null,
      "outputs": [
        {
          "output_type": "execute_result",
          "data": {
            "text/plain": [
              "67.11"
            ]
          },
          "metadata": {},
          "execution_count": 8
        }
      ]
    },
    {
      "cell_type": "markdown",
      "metadata": {
        "id": "Aas8PpNnHJqD"
      },
      "source": [
        "3. Подберите с помощью кросс-валидации оптимальные гиперпараметры алгоритма. Выбирайте из следующих наборов:\n",
        "\n",
        "\n",
        "- `max_depth`: [3, 4, 5, 6, 7, 8, 9, 10, None]\n",
        "- `max_features`: ['auto', 'log2', None]\n",
        "- `min_samples_leaf`: range(1, 10)\n",
        "- `min_samples_split`: range(2, 10)\n",
        "- `criterion`: ['gini', 'entropy']\n",
        "\n",
        "    В этом вам поможет метод `sklearn.model_selection.GridSearchCV`. Подробнее о том, какие параметры и методы в нем используются, и о примерах работы с ним можно прочитать в [документации](https://scikit-learn.org/stable/modules/generated/sklearn.model_selection.GridSearchCV.html).\n",
        "    \n",
        "    1) Создайте решающее дерево - не забудьте поставить `random_state=13`.\n",
        "    \n",
        "    2) Задайте `param_grid` - сетку (словарь) гиперпараметров и их значений, по которой будет проходить метод.\n",
        "    \n",
        "    3) Вызовите метод `GridSearchCV` - в качестве параметра `estimator` задайте решающее дерево из первого шага, `param_grid` - сетку из второго. Задайте параметр `cv=5`, чтобы кросс-валидация проходила по 5 фолдам. Также задайте параметр `scoring='accuracy'`, чтобы оценка качества моделей на кросс-валидации проходила с помощью доли правильных ответов. Запустите метод на обучающей выборке с помощью `fit`.\n",
        "    \n",
        "    4) Выведите лучшие параметры с помощью атрибута `best_params_`.\n",
        "    \n",
        "    Какое значение глубины дерева получилось оптимальным?"
      ]
    },
    {
      "cell_type": "code",
      "metadata": {
        "id": "SmZRia6S07PH"
      },
      "source": [
        "from sklearn.tree import DecisionTreeClassifier\n",
        "from sklearn.metrics import accuracy_score\n",
        "\n",
        "tree = DecisionTreeClassifier(random_state=13,max_depth=None)\n",
        "tree.fit(X_train, y_train)\n",
        "y_pred_dt = tree.predict(X_train)\n"
      ],
      "execution_count": null,
      "outputs": []
    },
    {
      "cell_type": "code",
      "source": [
        "from sklearn.datasets import load_iris\n",
        "from sklearn import tree\n",
        "iris = load_iris()\n",
        "X, y = iris.data, iris.target\n",
        "clf = tree.DecisionTreeClassifier()\n",
        "clf = clf.fit(X, y)"
      ],
      "metadata": {
        "id": "9He6i48NEA-w"
      },
      "execution_count": null,
      "outputs": []
    },
    {
      "cell_type": "code",
      "source": [
        "from sklearn import tree\n",
        "from sklearn.metrics import accuracy_score\n",
        "\n",
        "clf = tree.DecisionTreeClassifier(random_state=5,max_depth=None)\n",
        "clf=clf.fit(X_train, y_train)\n",
        "\n"
      ],
      "metadata": {
        "id": "_NFaQwOTElqP"
      },
      "execution_count": null,
      "outputs": []
    },
    {
      "cell_type": "code",
      "source": [
        "import graphviz\n",
        "dot_data = tree.export_graphviz(clf, out_file=None)\n",
        "graph = graphviz.Source(dot_data)\n",
        "graph.render(\"iris\")"
      ],
      "metadata": {
        "colab": {
          "base_uri": "https://localhost:8080/",
          "height": 193
        },
        "id": "S6NrxDtRCHUu",
        "outputId": "9f8594df-775c-4fc7-c459-465b5b5a786e"
      },
      "execution_count": null,
      "outputs": [
        {
          "output_type": "error",
          "ename": "NameError",
          "evalue": "name 'tree' is not defined",
          "traceback": [
            "\u001b[0;31m---------------------------------------------------------------------------\u001b[0m",
            "\u001b[0;31mNameError\u001b[0m                                 Traceback (most recent call last)",
            "\u001b[0;32m<ipython-input-1-1b8a4becc9ec>\u001b[0m in \u001b[0;36m<cell line: 2>\u001b[0;34m()\u001b[0m\n\u001b[1;32m      1\u001b[0m \u001b[0;32mimport\u001b[0m \u001b[0mgraphviz\u001b[0m\u001b[0;34m\u001b[0m\u001b[0;34m\u001b[0m\u001b[0m\n\u001b[0;32m----> 2\u001b[0;31m \u001b[0mdot_data\u001b[0m \u001b[0;34m=\u001b[0m \u001b[0mtree\u001b[0m\u001b[0;34m.\u001b[0m\u001b[0mexport_graphviz\u001b[0m\u001b[0;34m(\u001b[0m\u001b[0mclf\u001b[0m\u001b[0;34m,\u001b[0m \u001b[0mout_file\u001b[0m\u001b[0;34m=\u001b[0m\u001b[0;32mNone\u001b[0m\u001b[0;34m)\u001b[0m\u001b[0;34m\u001b[0m\u001b[0;34m\u001b[0m\u001b[0m\n\u001b[0m\u001b[1;32m      3\u001b[0m \u001b[0mgraph\u001b[0m \u001b[0;34m=\u001b[0m \u001b[0mgraphviz\u001b[0m\u001b[0;34m.\u001b[0m\u001b[0mSource\u001b[0m\u001b[0;34m(\u001b[0m\u001b[0mdot_data\u001b[0m\u001b[0;34m)\u001b[0m\u001b[0;34m\u001b[0m\u001b[0;34m\u001b[0m\u001b[0m\n\u001b[1;32m      4\u001b[0m \u001b[0mgraph\u001b[0m\u001b[0;34m.\u001b[0m\u001b[0mrender\u001b[0m\u001b[0;34m(\u001b[0m\u001b[0;34m\"iris\"\u001b[0m\u001b[0;34m)\u001b[0m\u001b[0;34m\u001b[0m\u001b[0;34m\u001b[0m\u001b[0m\n",
            "\u001b[0;31mNameError\u001b[0m: name 'tree' is not defined"
          ]
        }
      ]
    },
    {
      "cell_type": "code",
      "source": [],
      "metadata": {
        "id": "6IS1rBh3GBrA"
      },
      "execution_count": null,
      "outputs": []
    },
    {
      "cell_type": "code",
      "source": [
        "dot_data = tree.export_graphviz(clf, out_file=None,\n",
        "                    feature_names=data.columns[0:13],\n",
        "                     class_names=[\"болен\", \"здоров\"],\n",
        "                     filled=True, rounded=True,\n",
        "                     special_characters=True)\n",
        "graph = graphviz.Source(dot_data)\n",
        "graph"
      ],
      "metadata": {
        "colab": {
          "base_uri": "https://localhost:8080/",
          "height": 1000
        },
        "id": "DBoRCSeLEOed",
        "outputId": "2240a69c-873d-4e17-98e6-e744d85bea51"
      },
      "execution_count": null,
      "outputs": [
        {
          "output_type": "execute_result",
          "data": {
            "image/svg+xml": "<?xml version=\"1.0\" encoding=\"UTF-8\" standalone=\"no\"?>\n<!DOCTYPE svg PUBLIC \"-//W3C//DTD SVG 1.1//EN\"\n \"http://www.w3.org/Graphics/SVG/1.1/DTD/svg11.dtd\">\n<!-- Generated by graphviz version 2.43.0 (0)\n -->\n<!-- Title: Tree Pages: 1 -->\n<svg width=\"2233pt\" height=\"1147pt\"\n viewBox=\"0.00 0.00 2233.00 1147.00\" xmlns=\"http://www.w3.org/2000/svg\" xmlns:xlink=\"http://www.w3.org/1999/xlink\">\n<g id=\"graph0\" class=\"graph\" transform=\"scale(1 1) rotate(0) translate(4 1143)\">\n<title>Tree</title>\n<polygon fill=\"white\" stroke=\"transparent\" points=\"-4,4 -4,-1143 2229,-1143 2229,4 -4,4\"/>\n<!-- 0 -->\n<g id=\"node1\" class=\"node\">\n<title>0</title>\n<path fill=\"#e3f1fb\" stroke=\"black\" d=\"M1404.5,-1139C1404.5,-1139 1281.5,-1139 1281.5,-1139 1275.5,-1139 1269.5,-1133 1269.5,-1127 1269.5,-1127 1269.5,-1068 1269.5,-1068 1269.5,-1062 1275.5,-1056 1281.5,-1056 1281.5,-1056 1404.5,-1056 1404.5,-1056 1410.5,-1056 1416.5,-1062 1416.5,-1068 1416.5,-1068 1416.5,-1127 1416.5,-1127 1416.5,-1133 1410.5,-1139 1404.5,-1139\"/>\n<text text-anchor=\"start\" x=\"1318.5\" y=\"-1123.8\" font-family=\"Helvetica,sans-Serif\" font-size=\"14.00\">cp ≤ 0.5</text>\n<text text-anchor=\"start\" x=\"1307.5\" y=\"-1108.8\" font-family=\"Helvetica,sans-Serif\" font-size=\"14.00\">gini = 0.497</text>\n<text text-anchor=\"start\" x=\"1298\" y=\"-1093.8\" font-family=\"Helvetica,sans-Serif\" font-size=\"14.00\">samples = 227</text>\n<text text-anchor=\"start\" x=\"1277.5\" y=\"-1078.8\" font-family=\"Helvetica,sans-Serif\" font-size=\"14.00\">value = [105.0, 122.0]</text>\n<text text-anchor=\"start\" x=\"1297.5\" y=\"-1063.8\" font-family=\"Helvetica,sans-Serif\" font-size=\"14.00\">class = здоров</text>\n</g>\n<!-- 1 -->\n<g id=\"node2\" class=\"node\">\n<title>1</title>\n<path fill=\"#eeae7f\" stroke=\"black\" d=\"M1019,-1020C1019,-1020 933,-1020 933,-1020 927,-1020 921,-1014 921,-1008 921,-1008 921,-949 921,-949 921,-943 927,-937 933,-937 933,-937 1019,-937 1019,-937 1025,-937 1031,-943 1031,-949 1031,-949 1031,-1008 1031,-1008 1031,-1014 1025,-1020 1019,-1020\"/>\n<text text-anchor=\"start\" x=\"951.5\" y=\"-1004.8\" font-family=\"Helvetica,sans-Serif\" font-size=\"14.00\">ca ≤ 0.5</text>\n<text text-anchor=\"start\" x=\"940.5\" y=\"-989.8\" font-family=\"Helvetica,sans-Serif\" font-size=\"14.00\">gini = 0.386</text>\n<text text-anchor=\"start\" x=\"931\" y=\"-974.8\" font-family=\"Helvetica,sans-Serif\" font-size=\"14.00\">samples = 111</text>\n<text text-anchor=\"start\" x=\"929\" y=\"-959.8\" font-family=\"Helvetica,sans-Serif\" font-size=\"14.00\">value = [82, 29]</text>\n<text text-anchor=\"start\" x=\"933\" y=\"-944.8\" font-family=\"Helvetica,sans-Serif\" font-size=\"14.00\">class = болен</text>\n</g>\n<!-- 0&#45;&gt;1 -->\n<g id=\"edge1\" class=\"edge\">\n<title>0&#45;&gt;1</title>\n<path fill=\"none\" stroke=\"black\" d=\"M1269.17,-1072.96C1202.28,-1051.64 1104.66,-1020.52 1040.75,-1000.14\"/>\n<polygon fill=\"black\" stroke=\"black\" points=\"1041.77,-996.79 1031.18,-997.09 1039.64,-1003.46 1041.77,-996.79\"/>\n<text text-anchor=\"middle\" x=\"1042.65\" y=\"-1015.6\" font-family=\"Helvetica,sans-Serif\" font-size=\"14.00\">True</text>\n</g>\n<!-- 34 -->\n<g id=\"node35\" class=\"node\">\n<title>34</title>\n<path fill=\"#6ab5eb\" stroke=\"black\" d=\"M1626,-1020C1626,-1020 1540,-1020 1540,-1020 1534,-1020 1528,-1014 1528,-1008 1528,-1008 1528,-949 1528,-949 1528,-943 1534,-937 1540,-937 1540,-937 1626,-937 1626,-937 1632,-937 1638,-943 1638,-949 1638,-949 1638,-1008 1638,-1008 1638,-1014 1632,-1020 1626,-1020\"/>\n<text text-anchor=\"start\" x=\"1555\" y=\"-1004.8\" font-family=\"Helvetica,sans-Serif\" font-size=\"14.00\">thal ≤ 2.5</text>\n<text text-anchor=\"start\" x=\"1547.5\" y=\"-989.8\" font-family=\"Helvetica,sans-Serif\" font-size=\"14.00\">gini = 0.318</text>\n<text text-anchor=\"start\" x=\"1538\" y=\"-974.8\" font-family=\"Helvetica,sans-Serif\" font-size=\"14.00\">samples = 116</text>\n<text text-anchor=\"start\" x=\"1536\" y=\"-959.8\" font-family=\"Helvetica,sans-Serif\" font-size=\"14.00\">value = [23, 93]</text>\n<text text-anchor=\"start\" x=\"1537.5\" y=\"-944.8\" font-family=\"Helvetica,sans-Serif\" font-size=\"14.00\">class = здоров</text>\n</g>\n<!-- 0&#45;&gt;34 -->\n<g id=\"edge34\" class=\"edge\">\n<title>0&#45;&gt;34</title>\n<path fill=\"none\" stroke=\"black\" d=\"M1416.64,-1060.6C1449.25,-1044.71 1487.25,-1026.18 1518.7,-1010.85\"/>\n<polygon fill=\"black\" stroke=\"black\" points=\"1520.35,-1013.94 1527.81,-1006.41 1517.28,-1007.64 1520.35,-1013.94\"/>\n<text text-anchor=\"middle\" x=\"1519.66\" y=\"-1026.34\" font-family=\"Helvetica,sans-Serif\" font-size=\"14.00\">False</text>\n</g>\n<!-- 2 -->\n<g id=\"node3\" class=\"node\">\n<title>2</title>\n<path fill=\"#e8f4fc\" stroke=\"black\" d=\"M619,-901C619,-901 533,-901 533,-901 527,-901 521,-895 521,-889 521,-889 521,-830 521,-830 521,-824 527,-818 533,-818 533,-818 619,-818 619,-818 625,-818 631,-824 631,-830 631,-830 631,-889 631,-889 631,-895 625,-901 619,-901\"/>\n<text text-anchor=\"start\" x=\"529.5\" y=\"-885.8\" font-family=\"Helvetica,sans-Serif\" font-size=\"14.00\">thalach ≤ 159.0</text>\n<text text-anchor=\"start\" x=\"540.5\" y=\"-870.8\" font-family=\"Helvetica,sans-Serif\" font-size=\"14.00\">gini = 0.498</text>\n<text text-anchor=\"start\" x=\"535\" y=\"-855.8\" font-family=\"Helvetica,sans-Serif\" font-size=\"14.00\">samples = 49</text>\n<text text-anchor=\"start\" x=\"529\" y=\"-840.8\" font-family=\"Helvetica,sans-Serif\" font-size=\"14.00\">value = [23, 26]</text>\n<text text-anchor=\"start\" x=\"530.5\" y=\"-825.8\" font-family=\"Helvetica,sans-Serif\" font-size=\"14.00\">class = здоров</text>\n</g>\n<!-- 1&#45;&gt;2 -->\n<g id=\"edge2\" class=\"edge\">\n<title>1&#45;&gt;2</title>\n<path fill=\"none\" stroke=\"black\" d=\"M920.8,-961.35C847.63,-939.95 718.74,-902.25 640.96,-879.5\"/>\n<polygon fill=\"black\" stroke=\"black\" points=\"641.85,-876.12 631.27,-876.67 639.89,-882.83 641.85,-876.12\"/>\n</g>\n<!-- 23 -->\n<g id=\"node24\" class=\"node\">\n<title>23</title>\n<path fill=\"#e68743\" stroke=\"black\" d=\"M1015,-901C1015,-901 937,-901 937,-901 931,-901 925,-895 925,-889 925,-889 925,-830 925,-830 925,-824 931,-818 937,-818 937,-818 1015,-818 1015,-818 1021,-818 1027,-824 1027,-830 1027,-830 1027,-889 1027,-889 1027,-895 1021,-901 1015,-901\"/>\n<text text-anchor=\"start\" x=\"948.5\" y=\"-885.8\" font-family=\"Helvetica,sans-Serif\" font-size=\"14.00\">sex ≤ 0.5</text>\n<text text-anchor=\"start\" x=\"940.5\" y=\"-870.8\" font-family=\"Helvetica,sans-Serif\" font-size=\"14.00\">gini = 0.092</text>\n<text text-anchor=\"start\" x=\"935\" y=\"-855.8\" font-family=\"Helvetica,sans-Serif\" font-size=\"14.00\">samples = 62</text>\n<text text-anchor=\"start\" x=\"933\" y=\"-840.8\" font-family=\"Helvetica,sans-Serif\" font-size=\"14.00\">value = [59, 3]</text>\n<text text-anchor=\"start\" x=\"933\" y=\"-825.8\" font-family=\"Helvetica,sans-Serif\" font-size=\"14.00\">class = болен</text>\n</g>\n<!-- 1&#45;&gt;23 -->\n<g id=\"edge23\" class=\"edge\">\n<title>1&#45;&gt;23</title>\n<path fill=\"none\" stroke=\"black\" d=\"M976,-936.91C976,-928.65 976,-919.86 976,-911.3\"/>\n<polygon fill=\"black\" stroke=\"black\" points=\"979.5,-911.02 976,-901.02 972.5,-911.02 979.5,-911.02\"/>\n</g>\n<!-- 3 -->\n<g id=\"node4\" class=\"node\">\n<title>3</title>\n<path fill=\"#f3c3a1\" stroke=\"black\" d=\"M400.5,-782C400.5,-782 311.5,-782 311.5,-782 305.5,-782 299.5,-776 299.5,-770 299.5,-770 299.5,-711 299.5,-711 299.5,-705 305.5,-699 311.5,-699 311.5,-699 400.5,-699 400.5,-699 406.5,-699 412.5,-705 412.5,-711 412.5,-711 412.5,-770 412.5,-770 412.5,-776 406.5,-782 400.5,-782\"/>\n<text text-anchor=\"start\" x=\"307.5\" y=\"-766.8\" font-family=\"Helvetica,sans-Serif\" font-size=\"14.00\">trestbps ≤ 115.0</text>\n<text text-anchor=\"start\" x=\"320.5\" y=\"-751.8\" font-family=\"Helvetica,sans-Serif\" font-size=\"14.00\">gini = 0.451</text>\n<text text-anchor=\"start\" x=\"315\" y=\"-736.8\" font-family=\"Helvetica,sans-Serif\" font-size=\"14.00\">samples = 32</text>\n<text text-anchor=\"start\" x=\"309\" y=\"-721.8\" font-family=\"Helvetica,sans-Serif\" font-size=\"14.00\">value = [21, 11]</text>\n<text text-anchor=\"start\" x=\"313\" y=\"-706.8\" font-family=\"Helvetica,sans-Serif\" font-size=\"14.00\">class = болен</text>\n</g>\n<!-- 2&#45;&gt;3 -->\n<g id=\"edge3\" class=\"edge\">\n<title>2&#45;&gt;3</title>\n<path fill=\"none\" stroke=\"black\" d=\"M520.77,-829.13C490.76,-813.17 453.46,-793.33 421.94,-776.57\"/>\n<polygon fill=\"black\" stroke=\"black\" points=\"423.26,-773.31 412.79,-771.7 419.97,-779.49 423.26,-773.31\"/>\n</g>\n<!-- 18 -->\n<g id=\"node19\" class=\"node\">\n<title>18</title>\n<path fill=\"#53aae8\" stroke=\"black\" d=\"M617.5,-782C617.5,-782 534.5,-782 534.5,-782 528.5,-782 522.5,-776 522.5,-770 522.5,-770 522.5,-711 522.5,-711 522.5,-705 528.5,-699 534.5,-699 534.5,-699 617.5,-699 617.5,-699 623.5,-699 629.5,-705 629.5,-711 629.5,-711 629.5,-770 629.5,-770 629.5,-776 623.5,-782 617.5,-782\"/>\n<text text-anchor=\"start\" x=\"539\" y=\"-766.8\" font-family=\"Helvetica,sans-Serif\" font-size=\"14.00\">chol ≤ 272.5</text>\n<text text-anchor=\"start\" x=\"540.5\" y=\"-751.8\" font-family=\"Helvetica,sans-Serif\" font-size=\"14.00\">gini = 0.208</text>\n<text text-anchor=\"start\" x=\"535\" y=\"-736.8\" font-family=\"Helvetica,sans-Serif\" font-size=\"14.00\">samples = 17</text>\n<text text-anchor=\"start\" x=\"533\" y=\"-721.8\" font-family=\"Helvetica,sans-Serif\" font-size=\"14.00\">value = [2, 15]</text>\n<text text-anchor=\"start\" x=\"530.5\" y=\"-706.8\" font-family=\"Helvetica,sans-Serif\" font-size=\"14.00\">class = здоров</text>\n</g>\n<!-- 2&#45;&gt;18 -->\n<g id=\"edge18\" class=\"edge\">\n<title>2&#45;&gt;18</title>\n<path fill=\"none\" stroke=\"black\" d=\"M576,-817.91C576,-809.65 576,-800.86 576,-792.3\"/>\n<polygon fill=\"black\" stroke=\"black\" points=\"579.5,-792.02 576,-782.02 572.5,-792.02 579.5,-792.02\"/>\n</g>\n<!-- 4 -->\n<g id=\"node5\" class=\"node\">\n<title>4</title>\n<path fill=\"#5aade9\" stroke=\"black\" d=\"M215.5,-663C215.5,-663 132.5,-663 132.5,-663 126.5,-663 120.5,-657 120.5,-651 120.5,-651 120.5,-592 120.5,-592 120.5,-586 126.5,-580 132.5,-580 132.5,-580 215.5,-580 215.5,-580 221.5,-580 227.5,-586 227.5,-592 227.5,-592 227.5,-651 227.5,-651 227.5,-657 221.5,-663 215.5,-663\"/>\n<text text-anchor=\"start\" x=\"129.5\" y=\"-647.8\" font-family=\"Helvetica,sans-Serif\" font-size=\"14.00\">oldpeak ≤ 0.05</text>\n<text text-anchor=\"start\" x=\"138.5\" y=\"-632.8\" font-family=\"Helvetica,sans-Serif\" font-size=\"14.00\">gini = 0.245</text>\n<text text-anchor=\"start\" x=\"136.5\" y=\"-617.8\" font-family=\"Helvetica,sans-Serif\" font-size=\"14.00\">samples = 7</text>\n<text text-anchor=\"start\" x=\"134.5\" y=\"-602.8\" font-family=\"Helvetica,sans-Serif\" font-size=\"14.00\">value = [1, 6]</text>\n<text text-anchor=\"start\" x=\"128.5\" y=\"-587.8\" font-family=\"Helvetica,sans-Serif\" font-size=\"14.00\">class = здоров</text>\n</g>\n<!-- 3&#45;&gt;4 -->\n<g id=\"edge4\" class=\"edge\">\n<title>3&#45;&gt;4</title>\n<path fill=\"none\" stroke=\"black\" d=\"M299.41,-703.12C279.42,-690.27 256.82,-675.74 236.37,-662.6\"/>\n<polygon fill=\"black\" stroke=\"black\" points=\"238.06,-659.52 227.75,-657.06 234.27,-665.41 238.06,-659.52\"/>\n</g>\n<!-- 7 -->\n<g id=\"node8\" class=\"node\">\n<title>7</title>\n<path fill=\"#eca06a\" stroke=\"black\" d=\"M395,-663C395,-663 317,-663 317,-663 311,-663 305,-657 305,-651 305,-651 305,-592 305,-592 305,-586 311,-580 317,-580 317,-580 395,-580 395,-580 401,-580 407,-586 407,-592 407,-592 407,-651 407,-651 407,-657 401,-663 395,-663\"/>\n<text text-anchor=\"start\" x=\"315\" y=\"-647.8\" font-family=\"Helvetica,sans-Serif\" font-size=\"14.00\">oldpeak ≤ 0.6</text>\n<text text-anchor=\"start\" x=\"324\" y=\"-632.8\" font-family=\"Helvetica,sans-Serif\" font-size=\"14.00\">gini = 0.32</text>\n<text text-anchor=\"start\" x=\"315\" y=\"-617.8\" font-family=\"Helvetica,sans-Serif\" font-size=\"14.00\">samples = 25</text>\n<text text-anchor=\"start\" x=\"313\" y=\"-602.8\" font-family=\"Helvetica,sans-Serif\" font-size=\"14.00\">value = [20, 5]</text>\n<text text-anchor=\"start\" x=\"313\" y=\"-587.8\" font-family=\"Helvetica,sans-Serif\" font-size=\"14.00\">class = болен</text>\n</g>\n<!-- 3&#45;&gt;7 -->\n<g id=\"edge7\" class=\"edge\">\n<title>3&#45;&gt;7</title>\n<path fill=\"none\" stroke=\"black\" d=\"M356,-698.91C356,-690.65 356,-681.86 356,-673.3\"/>\n<polygon fill=\"black\" stroke=\"black\" points=\"359.5,-673.02 356,-663.02 352.5,-673.02 359.5,-673.02\"/>\n</g>\n<!-- 5 -->\n<g id=\"node6\" class=\"node\">\n<title>5</title>\n<path fill=\"#e58139\" stroke=\"black\" d=\"M90,-536.5C90,-536.5 12,-536.5 12,-536.5 6,-536.5 0,-530.5 0,-524.5 0,-524.5 0,-480.5 0,-480.5 0,-474.5 6,-468.5 12,-468.5 12,-468.5 90,-468.5 90,-468.5 96,-468.5 102,-474.5 102,-480.5 102,-480.5 102,-524.5 102,-524.5 102,-530.5 96,-536.5 90,-536.5\"/>\n<text text-anchor=\"start\" x=\"23\" y=\"-521.3\" font-family=\"Helvetica,sans-Serif\" font-size=\"14.00\">gini = 0.0</text>\n<text text-anchor=\"start\" x=\"13.5\" y=\"-506.3\" font-family=\"Helvetica,sans-Serif\" font-size=\"14.00\">samples = 1</text>\n<text text-anchor=\"start\" x=\"11.5\" y=\"-491.3\" font-family=\"Helvetica,sans-Serif\" font-size=\"14.00\">value = [1, 0]</text>\n<text text-anchor=\"start\" x=\"8\" y=\"-476.3\" font-family=\"Helvetica,sans-Serif\" font-size=\"14.00\">class = болен</text>\n</g>\n<!-- 4&#45;&gt;5 -->\n<g id=\"edge5\" class=\"edge\">\n<title>4&#45;&gt;5</title>\n<path fill=\"none\" stroke=\"black\" d=\"M131.33,-579.91C119.03,-568.21 105.62,-555.46 93.35,-543.78\"/>\n<polygon fill=\"black\" stroke=\"black\" points=\"95.53,-541.02 85.87,-536.67 90.7,-546.1 95.53,-541.02\"/>\n</g>\n<!-- 6 -->\n<g id=\"node7\" class=\"node\">\n<title>6</title>\n<path fill=\"#399de5\" stroke=\"black\" d=\"M215.5,-536.5C215.5,-536.5 132.5,-536.5 132.5,-536.5 126.5,-536.5 120.5,-530.5 120.5,-524.5 120.5,-524.5 120.5,-480.5 120.5,-480.5 120.5,-474.5 126.5,-468.5 132.5,-468.5 132.5,-468.5 215.5,-468.5 215.5,-468.5 221.5,-468.5 227.5,-474.5 227.5,-480.5 227.5,-480.5 227.5,-524.5 227.5,-524.5 227.5,-530.5 221.5,-536.5 215.5,-536.5\"/>\n<text text-anchor=\"start\" x=\"146\" y=\"-521.3\" font-family=\"Helvetica,sans-Serif\" font-size=\"14.00\">gini = 0.0</text>\n<text text-anchor=\"start\" x=\"136.5\" y=\"-506.3\" font-family=\"Helvetica,sans-Serif\" font-size=\"14.00\">samples = 6</text>\n<text text-anchor=\"start\" x=\"134.5\" y=\"-491.3\" font-family=\"Helvetica,sans-Serif\" font-size=\"14.00\">value = [0, 6]</text>\n<text text-anchor=\"start\" x=\"128.5\" y=\"-476.3\" font-family=\"Helvetica,sans-Serif\" font-size=\"14.00\">class = здоров</text>\n</g>\n<!-- 4&#45;&gt;6 -->\n<g id=\"edge6\" class=\"edge\">\n<title>4&#45;&gt;6</title>\n<path fill=\"none\" stroke=\"black\" d=\"M174,-579.91C174,-569.2 174,-557.62 174,-546.78\"/>\n<polygon fill=\"black\" stroke=\"black\" points=\"177.5,-546.67 174,-536.67 170.5,-546.67 177.5,-546.67\"/>\n</g>\n<!-- 8 -->\n<g id=\"node9\" class=\"node\">\n<title>8</title>\n<path fill=\"#ffffff\" stroke=\"black\" d=\"M336,-544C336,-544 258,-544 258,-544 252,-544 246,-538 246,-532 246,-532 246,-473 246,-473 246,-467 252,-461 258,-461 258,-461 336,-461 336,-461 342,-461 348,-467 348,-473 348,-473 348,-532 348,-532 348,-538 342,-544 336,-544\"/>\n<text text-anchor=\"start\" x=\"265\" y=\"-528.8\" font-family=\"Helvetica,sans-Serif\" font-size=\"14.00\">age ≤ 63.5</text>\n<text text-anchor=\"start\" x=\"269\" y=\"-513.8\" font-family=\"Helvetica,sans-Serif\" font-size=\"14.00\">gini = 0.5</text>\n<text text-anchor=\"start\" x=\"259.5\" y=\"-498.8\" font-family=\"Helvetica,sans-Serif\" font-size=\"14.00\">samples = 8</text>\n<text text-anchor=\"start\" x=\"257.5\" y=\"-483.8\" font-family=\"Helvetica,sans-Serif\" font-size=\"14.00\">value = [4, 4]</text>\n<text text-anchor=\"start\" x=\"254\" y=\"-468.8\" font-family=\"Helvetica,sans-Serif\" font-size=\"14.00\">class = болен</text>\n</g>\n<!-- 7&#45;&gt;8 -->\n<g id=\"edge8\" class=\"edge\">\n<title>7&#45;&gt;8</title>\n<path fill=\"none\" stroke=\"black\" d=\"M335.53,-579.91C331.18,-571.29 326.55,-562.09 322.05,-553.17\"/>\n<polygon fill=\"black\" stroke=\"black\" points=\"325.06,-551.37 317.43,-544.02 318.81,-554.53 325.06,-551.37\"/>\n</g>\n<!-- 15 -->\n<g id=\"node16\" class=\"node\">\n<title>15</title>\n<path fill=\"#e78945\" stroke=\"black\" d=\"M463.5,-544C463.5,-544 378.5,-544 378.5,-544 372.5,-544 366.5,-538 366.5,-532 366.5,-532 366.5,-473 366.5,-473 366.5,-467 372.5,-461 378.5,-461 378.5,-461 463.5,-461 463.5,-461 469.5,-461 475.5,-467 475.5,-473 475.5,-473 475.5,-532 475.5,-532 475.5,-538 469.5,-544 463.5,-544\"/>\n<text text-anchor=\"start\" x=\"374.5\" y=\"-528.8\" font-family=\"Helvetica,sans-Serif\" font-size=\"14.00\">thalach ≤ 156.5</text>\n<text text-anchor=\"start\" x=\"385.5\" y=\"-513.8\" font-family=\"Helvetica,sans-Serif\" font-size=\"14.00\">gini = 0.111</text>\n<text text-anchor=\"start\" x=\"380\" y=\"-498.8\" font-family=\"Helvetica,sans-Serif\" font-size=\"14.00\">samples = 17</text>\n<text text-anchor=\"start\" x=\"378\" y=\"-483.8\" font-family=\"Helvetica,sans-Serif\" font-size=\"14.00\">value = [16, 1]</text>\n<text text-anchor=\"start\" x=\"378\" y=\"-468.8\" font-family=\"Helvetica,sans-Serif\" font-size=\"14.00\">class = болен</text>\n</g>\n<!-- 7&#45;&gt;15 -->\n<g id=\"edge15\" class=\"edge\">\n<title>7&#45;&gt;15</title>\n<path fill=\"none\" stroke=\"black\" d=\"M378.55,-579.91C383.39,-571.2 388.56,-561.9 393.56,-552.89\"/>\n<polygon fill=\"black\" stroke=\"black\" points=\"396.69,-554.46 398.49,-544.02 390.57,-551.06 396.69,-554.46\"/>\n</g>\n<!-- 9 -->\n<g id=\"node10\" class=\"node\">\n<title>9</title>\n<path fill=\"#f2c09c\" stroke=\"black\" d=\"M214,-425C214,-425 136,-425 136,-425 130,-425 124,-419 124,-413 124,-413 124,-354 124,-354 124,-348 130,-342 136,-342 136,-342 214,-342 214,-342 220,-342 226,-348 226,-354 226,-354 226,-413 226,-413 226,-419 220,-425 214,-425\"/>\n<text text-anchor=\"start\" x=\"147.5\" y=\"-409.8\" font-family=\"Helvetica,sans-Serif\" font-size=\"14.00\">sex ≤ 0.5</text>\n<text text-anchor=\"start\" x=\"139.5\" y=\"-394.8\" font-family=\"Helvetica,sans-Serif\" font-size=\"14.00\">gini = 0.444</text>\n<text text-anchor=\"start\" x=\"137.5\" y=\"-379.8\" font-family=\"Helvetica,sans-Serif\" font-size=\"14.00\">samples = 6</text>\n<text text-anchor=\"start\" x=\"135.5\" y=\"-364.8\" font-family=\"Helvetica,sans-Serif\" font-size=\"14.00\">value = [4, 2]</text>\n<text text-anchor=\"start\" x=\"132\" y=\"-349.8\" font-family=\"Helvetica,sans-Serif\" font-size=\"14.00\">class = болен</text>\n</g>\n<!-- 8&#45;&gt;9 -->\n<g id=\"edge9\" class=\"edge\">\n<title>8&#45;&gt;9</title>\n<path fill=\"none\" stroke=\"black\" d=\"M254.67,-460.91C245.02,-451.65 234.68,-441.73 224.75,-432.21\"/>\n<polygon fill=\"black\" stroke=\"black\" points=\"226.89,-429.42 217.25,-425.02 222.05,-434.47 226.89,-429.42\"/>\n</g>\n<!-- 14 -->\n<g id=\"node15\" class=\"node\">\n<title>14</title>\n<path fill=\"#399de5\" stroke=\"black\" d=\"M339.5,-417.5C339.5,-417.5 256.5,-417.5 256.5,-417.5 250.5,-417.5 244.5,-411.5 244.5,-405.5 244.5,-405.5 244.5,-361.5 244.5,-361.5 244.5,-355.5 250.5,-349.5 256.5,-349.5 256.5,-349.5 339.5,-349.5 339.5,-349.5 345.5,-349.5 351.5,-355.5 351.5,-361.5 351.5,-361.5 351.5,-405.5 351.5,-405.5 351.5,-411.5 345.5,-417.5 339.5,-417.5\"/>\n<text text-anchor=\"start\" x=\"270\" y=\"-402.3\" font-family=\"Helvetica,sans-Serif\" font-size=\"14.00\">gini = 0.0</text>\n<text text-anchor=\"start\" x=\"260.5\" y=\"-387.3\" font-family=\"Helvetica,sans-Serif\" font-size=\"14.00\">samples = 2</text>\n<text text-anchor=\"start\" x=\"258.5\" y=\"-372.3\" font-family=\"Helvetica,sans-Serif\" font-size=\"14.00\">value = [0, 2]</text>\n<text text-anchor=\"start\" x=\"252.5\" y=\"-357.3\" font-family=\"Helvetica,sans-Serif\" font-size=\"14.00\">class = здоров</text>\n</g>\n<!-- 8&#45;&gt;14 -->\n<g id=\"edge14\" class=\"edge\">\n<title>8&#45;&gt;14</title>\n<path fill=\"none\" stroke=\"black\" d=\"M297.35,-460.91C297.44,-450.2 297.54,-438.62 297.63,-427.78\"/>\n<polygon fill=\"black\" stroke=\"black\" points=\"301.13,-427.7 297.72,-417.67 294.13,-427.64 301.13,-427.7\"/>\n</g>\n<!-- 10 -->\n<g id=\"node11\" class=\"node\">\n<title>10</title>\n<path fill=\"#e58139\" stroke=\"black\" d=\"M151,-298.5C151,-298.5 73,-298.5 73,-298.5 67,-298.5 61,-292.5 61,-286.5 61,-286.5 61,-242.5 61,-242.5 61,-236.5 67,-230.5 73,-230.5 73,-230.5 151,-230.5 151,-230.5 157,-230.5 163,-236.5 163,-242.5 163,-242.5 163,-286.5 163,-286.5 163,-292.5 157,-298.5 151,-298.5\"/>\n<text text-anchor=\"start\" x=\"84\" y=\"-283.3\" font-family=\"Helvetica,sans-Serif\" font-size=\"14.00\">gini = 0.0</text>\n<text text-anchor=\"start\" x=\"74.5\" y=\"-268.3\" font-family=\"Helvetica,sans-Serif\" font-size=\"14.00\">samples = 3</text>\n<text text-anchor=\"start\" x=\"72.5\" y=\"-253.3\" font-family=\"Helvetica,sans-Serif\" font-size=\"14.00\">value = [3, 0]</text>\n<text text-anchor=\"start\" x=\"69\" y=\"-238.3\" font-family=\"Helvetica,sans-Serif\" font-size=\"14.00\">class = болен</text>\n</g>\n<!-- 9&#45;&gt;10 -->\n<g id=\"edge10\" class=\"edge\">\n<title>9&#45;&gt;10</title>\n<path fill=\"none\" stroke=\"black\" d=\"M153.14,-341.91C147.2,-330.87 140.75,-318.9 134.76,-307.77\"/>\n<polygon fill=\"black\" stroke=\"black\" points=\"137.68,-305.81 129.86,-298.67 131.52,-309.13 137.68,-305.81\"/>\n</g>\n<!-- 11 -->\n<g id=\"node12\" class=\"node\">\n<title>11</title>\n<path fill=\"#9ccef2\" stroke=\"black\" d=\"M282.5,-306C282.5,-306 193.5,-306 193.5,-306 187.5,-306 181.5,-300 181.5,-294 181.5,-294 181.5,-235 181.5,-235 181.5,-229 187.5,-223 193.5,-223 193.5,-223 282.5,-223 282.5,-223 288.5,-223 294.5,-229 294.5,-235 294.5,-235 294.5,-294 294.5,-294 294.5,-300 288.5,-306 282.5,-306\"/>\n<text text-anchor=\"start\" x=\"189.5\" y=\"-290.8\" font-family=\"Helvetica,sans-Serif\" font-size=\"14.00\">trestbps ≤ 133.0</text>\n<text text-anchor=\"start\" x=\"202.5\" y=\"-275.8\" font-family=\"Helvetica,sans-Serif\" font-size=\"14.00\">gini = 0.444</text>\n<text text-anchor=\"start\" x=\"200.5\" y=\"-260.8\" font-family=\"Helvetica,sans-Serif\" font-size=\"14.00\">samples = 3</text>\n<text text-anchor=\"start\" x=\"198.5\" y=\"-245.8\" font-family=\"Helvetica,sans-Serif\" font-size=\"14.00\">value = [1, 2]</text>\n<text text-anchor=\"start\" x=\"192.5\" y=\"-230.8\" font-family=\"Helvetica,sans-Serif\" font-size=\"14.00\">class = здоров</text>\n</g>\n<!-- 9&#45;&gt;11 -->\n<g id=\"edge11\" class=\"edge\">\n<title>9&#45;&gt;11</title>\n<path fill=\"none\" stroke=\"black\" d=\"M196.86,-341.91C201.55,-333.2 206.56,-323.9 211.4,-314.89\"/>\n<polygon fill=\"black\" stroke=\"black\" points=\"214.52,-316.48 216.18,-306.02 208.36,-313.17 214.52,-316.48\"/>\n</g>\n<!-- 12 -->\n<g id=\"node13\" class=\"node\">\n<title>12</title>\n<path fill=\"#e58139\" stroke=\"black\" d=\"M216,-179.5C216,-179.5 138,-179.5 138,-179.5 132,-179.5 126,-173.5 126,-167.5 126,-167.5 126,-123.5 126,-123.5 126,-117.5 132,-111.5 138,-111.5 138,-111.5 216,-111.5 216,-111.5 222,-111.5 228,-117.5 228,-123.5 228,-123.5 228,-167.5 228,-167.5 228,-173.5 222,-179.5 216,-179.5\"/>\n<text text-anchor=\"start\" x=\"149\" y=\"-164.3\" font-family=\"Helvetica,sans-Serif\" font-size=\"14.00\">gini = 0.0</text>\n<text text-anchor=\"start\" x=\"139.5\" y=\"-149.3\" font-family=\"Helvetica,sans-Serif\" font-size=\"14.00\">samples = 1</text>\n<text text-anchor=\"start\" x=\"137.5\" y=\"-134.3\" font-family=\"Helvetica,sans-Serif\" font-size=\"14.00\">value = [1, 0]</text>\n<text text-anchor=\"start\" x=\"134\" y=\"-119.3\" font-family=\"Helvetica,sans-Serif\" font-size=\"14.00\">class = болен</text>\n</g>\n<!-- 11&#45;&gt;12 -->\n<g id=\"edge12\" class=\"edge\">\n<title>11&#45;&gt;12</title>\n<path fill=\"none\" stroke=\"black\" d=\"M216.84,-222.91C211.08,-211.87 204.84,-199.9 199.04,-188.77\"/>\n<polygon fill=\"black\" stroke=\"black\" points=\"202.02,-186.92 194.29,-179.67 195.81,-190.15 202.02,-186.92\"/>\n</g>\n<!-- 13 -->\n<g id=\"node14\" class=\"node\">\n<title>13</title>\n<path fill=\"#399de5\" stroke=\"black\" d=\"M341.5,-179.5C341.5,-179.5 258.5,-179.5 258.5,-179.5 252.5,-179.5 246.5,-173.5 246.5,-167.5 246.5,-167.5 246.5,-123.5 246.5,-123.5 246.5,-117.5 252.5,-111.5 258.5,-111.5 258.5,-111.5 341.5,-111.5 341.5,-111.5 347.5,-111.5 353.5,-117.5 353.5,-123.5 353.5,-123.5 353.5,-167.5 353.5,-167.5 353.5,-173.5 347.5,-179.5 341.5,-179.5\"/>\n<text text-anchor=\"start\" x=\"272\" y=\"-164.3\" font-family=\"Helvetica,sans-Serif\" font-size=\"14.00\">gini = 0.0</text>\n<text text-anchor=\"start\" x=\"262.5\" y=\"-149.3\" font-family=\"Helvetica,sans-Serif\" font-size=\"14.00\">samples = 2</text>\n<text text-anchor=\"start\" x=\"260.5\" y=\"-134.3\" font-family=\"Helvetica,sans-Serif\" font-size=\"14.00\">value = [0, 2]</text>\n<text text-anchor=\"start\" x=\"254.5\" y=\"-119.3\" font-family=\"Helvetica,sans-Serif\" font-size=\"14.00\">class = здоров</text>\n</g>\n<!-- 11&#45;&gt;13 -->\n<g id=\"edge13\" class=\"edge\">\n<title>11&#45;&gt;13</title>\n<path fill=\"none\" stroke=\"black\" d=\"M259.51,-222.91C265.36,-211.87 271.7,-199.9 277.6,-188.77\"/>\n<polygon fill=\"black\" stroke=\"black\" points=\"280.83,-190.14 282.42,-179.67 274.65,-186.86 280.83,-190.14\"/>\n</g>\n<!-- 16 -->\n<g id=\"node17\" class=\"node\">\n<title>16</title>\n<path fill=\"#e58139\" stroke=\"black\" d=\"M460,-417.5C460,-417.5 382,-417.5 382,-417.5 376,-417.5 370,-411.5 370,-405.5 370,-405.5 370,-361.5 370,-361.5 370,-355.5 376,-349.5 382,-349.5 382,-349.5 460,-349.5 460,-349.5 466,-349.5 472,-355.5 472,-361.5 472,-361.5 472,-405.5 472,-405.5 472,-411.5 466,-417.5 460,-417.5\"/>\n<text text-anchor=\"start\" x=\"393\" y=\"-402.3\" font-family=\"Helvetica,sans-Serif\" font-size=\"14.00\">gini = 0.0</text>\n<text text-anchor=\"start\" x=\"380\" y=\"-387.3\" font-family=\"Helvetica,sans-Serif\" font-size=\"14.00\">samples = 16</text>\n<text text-anchor=\"start\" x=\"378\" y=\"-372.3\" font-family=\"Helvetica,sans-Serif\" font-size=\"14.00\">value = [16, 0]</text>\n<text text-anchor=\"start\" x=\"378\" y=\"-357.3\" font-family=\"Helvetica,sans-Serif\" font-size=\"14.00\">class = болен</text>\n</g>\n<!-- 15&#45;&gt;16 -->\n<g id=\"edge16\" class=\"edge\">\n<title>15&#45;&gt;16</title>\n<path fill=\"none\" stroke=\"black\" d=\"M421,-460.91C421,-450.2 421,-438.62 421,-427.78\"/>\n<polygon fill=\"black\" stroke=\"black\" points=\"424.5,-427.67 421,-417.67 417.5,-427.67 424.5,-427.67\"/>\n</g>\n<!-- 17 -->\n<g id=\"node18\" class=\"node\">\n<title>17</title>\n<path fill=\"#399de5\" stroke=\"black\" d=\"M585.5,-417.5C585.5,-417.5 502.5,-417.5 502.5,-417.5 496.5,-417.5 490.5,-411.5 490.5,-405.5 490.5,-405.5 490.5,-361.5 490.5,-361.5 490.5,-355.5 496.5,-349.5 502.5,-349.5 502.5,-349.5 585.5,-349.5 585.5,-349.5 591.5,-349.5 597.5,-355.5 597.5,-361.5 597.5,-361.5 597.5,-405.5 597.5,-405.5 597.5,-411.5 591.5,-417.5 585.5,-417.5\"/>\n<text text-anchor=\"start\" x=\"516\" y=\"-402.3\" font-family=\"Helvetica,sans-Serif\" font-size=\"14.00\">gini = 0.0</text>\n<text text-anchor=\"start\" x=\"506.5\" y=\"-387.3\" font-family=\"Helvetica,sans-Serif\" font-size=\"14.00\">samples = 1</text>\n<text text-anchor=\"start\" x=\"504.5\" y=\"-372.3\" font-family=\"Helvetica,sans-Serif\" font-size=\"14.00\">value = [0, 1]</text>\n<text text-anchor=\"start\" x=\"498.5\" y=\"-357.3\" font-family=\"Helvetica,sans-Serif\" font-size=\"14.00\">class = здоров</text>\n</g>\n<!-- 15&#45;&gt;17 -->\n<g id=\"edge17\" class=\"edge\">\n<title>15&#45;&gt;17</title>\n<path fill=\"none\" stroke=\"black\" d=\"M463.67,-460.91C475.97,-449.21 489.38,-436.46 501.65,-424.78\"/>\n<polygon fill=\"black\" stroke=\"black\" points=\"504.3,-427.1 509.13,-417.67 499.47,-422.02 504.3,-427.1\"/>\n</g>\n<!-- 19 -->\n<g id=\"node20\" class=\"node\">\n<title>19</title>\n<path fill=\"#399de5\" stroke=\"black\" d=\"M555.5,-655.5C555.5,-655.5 472.5,-655.5 472.5,-655.5 466.5,-655.5 460.5,-649.5 460.5,-643.5 460.5,-643.5 460.5,-599.5 460.5,-599.5 460.5,-593.5 466.5,-587.5 472.5,-587.5 472.5,-587.5 555.5,-587.5 555.5,-587.5 561.5,-587.5 567.5,-593.5 567.5,-599.5 567.5,-599.5 567.5,-643.5 567.5,-643.5 567.5,-649.5 561.5,-655.5 555.5,-655.5\"/>\n<text text-anchor=\"start\" x=\"486\" y=\"-640.3\" font-family=\"Helvetica,sans-Serif\" font-size=\"14.00\">gini = 0.0</text>\n<text text-anchor=\"start\" x=\"473\" y=\"-625.3\" font-family=\"Helvetica,sans-Serif\" font-size=\"14.00\">samples = 13</text>\n<text text-anchor=\"start\" x=\"471\" y=\"-610.3\" font-family=\"Helvetica,sans-Serif\" font-size=\"14.00\">value = [0, 13]</text>\n<text text-anchor=\"start\" x=\"468.5\" y=\"-595.3\" font-family=\"Helvetica,sans-Serif\" font-size=\"14.00\">class = здоров</text>\n</g>\n<!-- 18&#45;&gt;19 -->\n<g id=\"edge19\" class=\"edge\">\n<title>18&#45;&gt;19</title>\n<path fill=\"none\" stroke=\"black\" d=\"M554.49,-698.91C548.64,-687.87 542.3,-675.9 536.4,-664.77\"/>\n<polygon fill=\"black\" stroke=\"black\" points=\"539.35,-662.86 531.58,-655.67 533.17,-666.14 539.35,-662.86\"/>\n</g>\n<!-- 20 -->\n<g id=\"node21\" class=\"node\">\n<title>20</title>\n<path fill=\"#ffffff\" stroke=\"black\" d=\"M678.5,-663C678.5,-663 597.5,-663 597.5,-663 591.5,-663 585.5,-657 585.5,-651 585.5,-651 585.5,-592 585.5,-592 585.5,-586 591.5,-580 597.5,-580 597.5,-580 678.5,-580 678.5,-580 684.5,-580 690.5,-586 690.5,-592 690.5,-592 690.5,-651 690.5,-651 690.5,-657 684.5,-663 678.5,-663\"/>\n<text text-anchor=\"start\" x=\"593.5\" y=\"-647.8\" font-family=\"Helvetica,sans-Serif\" font-size=\"14.00\">oldpeak ≤ 0.55</text>\n<text text-anchor=\"start\" x=\"610\" y=\"-632.8\" font-family=\"Helvetica,sans-Serif\" font-size=\"14.00\">gini = 0.5</text>\n<text text-anchor=\"start\" x=\"600.5\" y=\"-617.8\" font-family=\"Helvetica,sans-Serif\" font-size=\"14.00\">samples = 4</text>\n<text text-anchor=\"start\" x=\"598.5\" y=\"-602.8\" font-family=\"Helvetica,sans-Serif\" font-size=\"14.00\">value = [2, 2]</text>\n<text text-anchor=\"start\" x=\"595\" y=\"-587.8\" font-family=\"Helvetica,sans-Serif\" font-size=\"14.00\">class = болен</text>\n</g>\n<!-- 18&#45;&gt;20 -->\n<g id=\"edge20\" class=\"edge\">\n<title>18&#45;&gt;20</title>\n<path fill=\"none\" stroke=\"black\" d=\"M597.51,-698.91C602.13,-690.2 607.05,-680.9 611.83,-671.89\"/>\n<polygon fill=\"black\" stroke=\"black\" points=\"614.94,-673.5 616.53,-663.02 608.75,-670.22 614.94,-673.5\"/>\n</g>\n<!-- 21 -->\n<g id=\"node22\" class=\"node\">\n<title>21</title>\n<path fill=\"#e58139\" stroke=\"black\" d=\"M584,-536.5C584,-536.5 506,-536.5 506,-536.5 500,-536.5 494,-530.5 494,-524.5 494,-524.5 494,-480.5 494,-480.5 494,-474.5 500,-468.5 506,-468.5 506,-468.5 584,-468.5 584,-468.5 590,-468.5 596,-474.5 596,-480.5 596,-480.5 596,-524.5 596,-524.5 596,-530.5 590,-536.5 584,-536.5\"/>\n<text text-anchor=\"start\" x=\"517\" y=\"-521.3\" font-family=\"Helvetica,sans-Serif\" font-size=\"14.00\">gini = 0.0</text>\n<text text-anchor=\"start\" x=\"507.5\" y=\"-506.3\" font-family=\"Helvetica,sans-Serif\" font-size=\"14.00\">samples = 2</text>\n<text text-anchor=\"start\" x=\"505.5\" y=\"-491.3\" font-family=\"Helvetica,sans-Serif\" font-size=\"14.00\">value = [2, 0]</text>\n<text text-anchor=\"start\" x=\"502\" y=\"-476.3\" font-family=\"Helvetica,sans-Serif\" font-size=\"14.00\">class = болен</text>\n</g>\n<!-- 20&#45;&gt;21 -->\n<g id=\"edge21\" class=\"edge\">\n<title>20&#45;&gt;21</title>\n<path fill=\"none\" stroke=\"black\" d=\"M605.73,-579.91C596.7,-568.54 586.87,-556.18 577.81,-544.77\"/>\n<polygon fill=\"black\" stroke=\"black\" points=\"580.33,-542.32 571.36,-536.67 574.85,-546.67 580.33,-542.32\"/>\n</g>\n<!-- 22 -->\n<g id=\"node23\" class=\"node\">\n<title>22</title>\n<path fill=\"#399de5\" stroke=\"black\" d=\"M709.5,-536.5C709.5,-536.5 626.5,-536.5 626.5,-536.5 620.5,-536.5 614.5,-530.5 614.5,-524.5 614.5,-524.5 614.5,-480.5 614.5,-480.5 614.5,-474.5 620.5,-468.5 626.5,-468.5 626.5,-468.5 709.5,-468.5 709.5,-468.5 715.5,-468.5 721.5,-474.5 721.5,-480.5 721.5,-480.5 721.5,-524.5 721.5,-524.5 721.5,-530.5 715.5,-536.5 709.5,-536.5\"/>\n<text text-anchor=\"start\" x=\"640\" y=\"-521.3\" font-family=\"Helvetica,sans-Serif\" font-size=\"14.00\">gini = 0.0</text>\n<text text-anchor=\"start\" x=\"630.5\" y=\"-506.3\" font-family=\"Helvetica,sans-Serif\" font-size=\"14.00\">samples = 2</text>\n<text text-anchor=\"start\" x=\"628.5\" y=\"-491.3\" font-family=\"Helvetica,sans-Serif\" font-size=\"14.00\">value = [0, 2]</text>\n<text text-anchor=\"start\" x=\"622.5\" y=\"-476.3\" font-family=\"Helvetica,sans-Serif\" font-size=\"14.00\">class = здоров</text>\n</g>\n<!-- 20&#45;&gt;22 -->\n<g id=\"edge22\" class=\"edge\">\n<title>20&#45;&gt;22</title>\n<path fill=\"none\" stroke=\"black\" d=\"M648.41,-579.91C651.18,-569.09 654.19,-557.38 656.99,-546.44\"/>\n<polygon fill=\"black\" stroke=\"black\" points=\"660.4,-547.22 659.5,-536.67 653.62,-545.48 660.4,-547.22\"/>\n</g>\n<!-- 24 -->\n<g id=\"node25\" class=\"node\">\n<title>24</title>\n<path fill=\"#eca06a\" stroke=\"black\" d=\"M953,-782C953,-782 875,-782 875,-782 869,-782 863,-776 863,-770 863,-770 863,-711 863,-711 863,-705 869,-699 875,-699 875,-699 953,-699 953,-699 959,-699 965,-705 965,-711 965,-711 965,-770 965,-770 965,-776 959,-782 953,-782\"/>\n<text text-anchor=\"start\" x=\"877\" y=\"-766.8\" font-family=\"Helvetica,sans-Serif\" font-size=\"14.00\">chol ≤ 298.5</text>\n<text text-anchor=\"start\" x=\"882\" y=\"-751.8\" font-family=\"Helvetica,sans-Serif\" font-size=\"14.00\">gini = 0.32</text>\n<text text-anchor=\"start\" x=\"873\" y=\"-736.8\" font-family=\"Helvetica,sans-Serif\" font-size=\"14.00\">samples = 10</text>\n<text text-anchor=\"start\" x=\"874.5\" y=\"-721.8\" font-family=\"Helvetica,sans-Serif\" font-size=\"14.00\">value = [8, 2]</text>\n<text text-anchor=\"start\" x=\"871\" y=\"-706.8\" font-family=\"Helvetica,sans-Serif\" font-size=\"14.00\">class = болен</text>\n</g>\n<!-- 23&#45;&gt;24 -->\n<g id=\"edge24\" class=\"edge\">\n<title>23&#45;&gt;24</title>\n<path fill=\"none\" stroke=\"black\" d=\"M954.49,-817.91C949.87,-809.2 944.95,-799.9 940.17,-790.89\"/>\n<polygon fill=\"black\" stroke=\"black\" points=\"943.25,-789.22 935.47,-782.02 937.06,-792.5 943.25,-789.22\"/>\n</g>\n<!-- 29 -->\n<g id=\"node30\" class=\"node\">\n<title>29</title>\n<path fill=\"#e6833d\" stroke=\"black\" d=\"M1081.5,-782C1081.5,-782 996.5,-782 996.5,-782 990.5,-782 984.5,-776 984.5,-770 984.5,-770 984.5,-711 984.5,-711 984.5,-705 990.5,-699 996.5,-699 996.5,-699 1081.5,-699 1081.5,-699 1087.5,-699 1093.5,-705 1093.5,-711 1093.5,-711 1093.5,-770 1093.5,-770 1093.5,-776 1087.5,-782 1081.5,-782\"/>\n<text text-anchor=\"start\" x=\"992.5\" y=\"-766.8\" font-family=\"Helvetica,sans-Serif\" font-size=\"14.00\">thalach ≤ 106.5</text>\n<text text-anchor=\"start\" x=\"1003.5\" y=\"-751.8\" font-family=\"Helvetica,sans-Serif\" font-size=\"14.00\">gini = 0.038</text>\n<text text-anchor=\"start\" x=\"998\" y=\"-736.8\" font-family=\"Helvetica,sans-Serif\" font-size=\"14.00\">samples = 52</text>\n<text text-anchor=\"start\" x=\"996\" y=\"-721.8\" font-family=\"Helvetica,sans-Serif\" font-size=\"14.00\">value = [51, 1]</text>\n<text text-anchor=\"start\" x=\"996\" y=\"-706.8\" font-family=\"Helvetica,sans-Serif\" font-size=\"14.00\">class = болен</text>\n</g>\n<!-- 23&#45;&gt;29 -->\n<g id=\"edge29\" class=\"edge\">\n<title>23&#45;&gt;29</title>\n<path fill=\"none\" stroke=\"black\" d=\"M997.86,-817.91C1002.55,-809.2 1007.56,-799.9 1012.4,-790.89\"/>\n<polygon fill=\"black\" stroke=\"black\" points=\"1015.52,-792.48 1017.18,-782.02 1009.36,-789.17 1015.52,-792.48\"/>\n</g>\n<!-- 25 -->\n<g id=\"node26\" class=\"node\">\n<title>25</title>\n<path fill=\"#e58139\" stroke=\"black\" d=\"M830,-655.5C830,-655.5 752,-655.5 752,-655.5 746,-655.5 740,-649.5 740,-643.5 740,-643.5 740,-599.5 740,-599.5 740,-593.5 746,-587.5 752,-587.5 752,-587.5 830,-587.5 830,-587.5 836,-587.5 842,-593.5 842,-599.5 842,-599.5 842,-643.5 842,-643.5 842,-649.5 836,-655.5 830,-655.5\"/>\n<text text-anchor=\"start\" x=\"763\" y=\"-640.3\" font-family=\"Helvetica,sans-Serif\" font-size=\"14.00\">gini = 0.0</text>\n<text text-anchor=\"start\" x=\"753.5\" y=\"-625.3\" font-family=\"Helvetica,sans-Serif\" font-size=\"14.00\">samples = 7</text>\n<text text-anchor=\"start\" x=\"751.5\" y=\"-610.3\" font-family=\"Helvetica,sans-Serif\" font-size=\"14.00\">value = [7, 0]</text>\n<text text-anchor=\"start\" x=\"748\" y=\"-595.3\" font-family=\"Helvetica,sans-Serif\" font-size=\"14.00\">class = болен</text>\n</g>\n<!-- 24&#45;&gt;25 -->\n<g id=\"edge25\" class=\"edge\">\n<title>24&#45;&gt;25</title>\n<path fill=\"none\" stroke=\"black\" d=\"M871.33,-698.91C859.03,-687.21 845.62,-674.46 833.35,-662.78\"/>\n<polygon fill=\"black\" stroke=\"black\" points=\"835.53,-660.02 825.87,-655.67 830.7,-665.1 835.53,-660.02\"/>\n</g>\n<!-- 26 -->\n<g id=\"node27\" class=\"node\">\n<title>26</title>\n<path fill=\"#9ccef2\" stroke=\"black\" d=\"M955.5,-663C955.5,-663 872.5,-663 872.5,-663 866.5,-663 860.5,-657 860.5,-651 860.5,-651 860.5,-592 860.5,-592 860.5,-586 866.5,-580 872.5,-580 872.5,-580 955.5,-580 955.5,-580 961.5,-580 967.5,-586 967.5,-592 967.5,-592 967.5,-651 967.5,-651 967.5,-657 961.5,-663 955.5,-663\"/>\n<text text-anchor=\"start\" x=\"882\" y=\"-647.8\" font-family=\"Helvetica,sans-Serif\" font-size=\"14.00\">age ≤ 56.5</text>\n<text text-anchor=\"start\" x=\"878.5\" y=\"-632.8\" font-family=\"Helvetica,sans-Serif\" font-size=\"14.00\">gini = 0.444</text>\n<text text-anchor=\"start\" x=\"876.5\" y=\"-617.8\" font-family=\"Helvetica,sans-Serif\" font-size=\"14.00\">samples = 3</text>\n<text text-anchor=\"start\" x=\"874.5\" y=\"-602.8\" font-family=\"Helvetica,sans-Serif\" font-size=\"14.00\">value = [1, 2]</text>\n<text text-anchor=\"start\" x=\"868.5\" y=\"-587.8\" font-family=\"Helvetica,sans-Serif\" font-size=\"14.00\">class = здоров</text>\n</g>\n<!-- 24&#45;&gt;26 -->\n<g id=\"edge26\" class=\"edge\">\n<title>24&#45;&gt;26</title>\n<path fill=\"none\" stroke=\"black\" d=\"M914,-698.91C914,-690.65 914,-681.86 914,-673.3\"/>\n<polygon fill=\"black\" stroke=\"black\" points=\"917.5,-673.02 914,-663.02 910.5,-673.02 917.5,-673.02\"/>\n</g>\n<!-- 27 -->\n<g id=\"node28\" class=\"node\">\n<title>27</title>\n<path fill=\"#e58139\" stroke=\"black\" d=\"M830,-536.5C830,-536.5 752,-536.5 752,-536.5 746,-536.5 740,-530.5 740,-524.5 740,-524.5 740,-480.5 740,-480.5 740,-474.5 746,-468.5 752,-468.5 752,-468.5 830,-468.5 830,-468.5 836,-468.5 842,-474.5 842,-480.5 842,-480.5 842,-524.5 842,-524.5 842,-530.5 836,-536.5 830,-536.5\"/>\n<text text-anchor=\"start\" x=\"763\" y=\"-521.3\" font-family=\"Helvetica,sans-Serif\" font-size=\"14.00\">gini = 0.0</text>\n<text text-anchor=\"start\" x=\"753.5\" y=\"-506.3\" font-family=\"Helvetica,sans-Serif\" font-size=\"14.00\">samples = 1</text>\n<text text-anchor=\"start\" x=\"751.5\" y=\"-491.3\" font-family=\"Helvetica,sans-Serif\" font-size=\"14.00\">value = [1, 0]</text>\n<text text-anchor=\"start\" x=\"748\" y=\"-476.3\" font-family=\"Helvetica,sans-Serif\" font-size=\"14.00\">class = болен</text>\n</g>\n<!-- 26&#45;&gt;27 -->\n<g id=\"edge27\" class=\"edge\">\n<title>26&#45;&gt;27</title>\n<path fill=\"none\" stroke=\"black\" d=\"M871.33,-579.91C859.03,-568.21 845.62,-555.46 833.35,-543.78\"/>\n<polygon fill=\"black\" stroke=\"black\" points=\"835.53,-541.02 825.87,-536.67 830.7,-546.1 835.53,-541.02\"/>\n</g>\n<!-- 28 -->\n<g id=\"node29\" class=\"node\">\n<title>28</title>\n<path fill=\"#399de5\" stroke=\"black\" d=\"M955.5,-536.5C955.5,-536.5 872.5,-536.5 872.5,-536.5 866.5,-536.5 860.5,-530.5 860.5,-524.5 860.5,-524.5 860.5,-480.5 860.5,-480.5 860.5,-474.5 866.5,-468.5 872.5,-468.5 872.5,-468.5 955.5,-468.5 955.5,-468.5 961.5,-468.5 967.5,-474.5 967.5,-480.5 967.5,-480.5 967.5,-524.5 967.5,-524.5 967.5,-530.5 961.5,-536.5 955.5,-536.5\"/>\n<text text-anchor=\"start\" x=\"886\" y=\"-521.3\" font-family=\"Helvetica,sans-Serif\" font-size=\"14.00\">gini = 0.0</text>\n<text text-anchor=\"start\" x=\"876.5\" y=\"-506.3\" font-family=\"Helvetica,sans-Serif\" font-size=\"14.00\">samples = 2</text>\n<text text-anchor=\"start\" x=\"874.5\" y=\"-491.3\" font-family=\"Helvetica,sans-Serif\" font-size=\"14.00\">value = [0, 2]</text>\n<text text-anchor=\"start\" x=\"868.5\" y=\"-476.3\" font-family=\"Helvetica,sans-Serif\" font-size=\"14.00\">class = здоров</text>\n</g>\n<!-- 26&#45;&gt;28 -->\n<g id=\"edge28\" class=\"edge\">\n<title>26&#45;&gt;28</title>\n<path fill=\"none\" stroke=\"black\" d=\"M914,-579.91C914,-569.2 914,-557.62 914,-546.78\"/>\n<polygon fill=\"black\" stroke=\"black\" points=\"917.5,-546.67 914,-536.67 910.5,-546.67 917.5,-546.67\"/>\n</g>\n<!-- 30 -->\n<g id=\"node31\" class=\"node\">\n<title>30</title>\n<path fill=\"#e99355\" stroke=\"black\" d=\"M1078,-663C1078,-663 1000,-663 1000,-663 994,-663 988,-657 988,-651 988,-651 988,-592 988,-592 988,-586 994,-580 1000,-580 1000,-580 1078,-580 1078,-580 1084,-580 1090,-586 1090,-592 1090,-592 1090,-651 1090,-651 1090,-657 1084,-663 1078,-663\"/>\n<text text-anchor=\"start\" x=\"998\" y=\"-647.8\" font-family=\"Helvetica,sans-Serif\" font-size=\"14.00\">oldpeak ≤ 0.6</text>\n<text text-anchor=\"start\" x=\"1003.5\" y=\"-632.8\" font-family=\"Helvetica,sans-Serif\" font-size=\"14.00\">gini = 0.219</text>\n<text text-anchor=\"start\" x=\"1001.5\" y=\"-617.8\" font-family=\"Helvetica,sans-Serif\" font-size=\"14.00\">samples = 8</text>\n<text text-anchor=\"start\" x=\"999.5\" y=\"-602.8\" font-family=\"Helvetica,sans-Serif\" font-size=\"14.00\">value = [7, 1]</text>\n<text text-anchor=\"start\" x=\"996\" y=\"-587.8\" font-family=\"Helvetica,sans-Serif\" font-size=\"14.00\">class = болен</text>\n</g>\n<!-- 29&#45;&gt;30 -->\n<g id=\"edge30\" class=\"edge\">\n<title>29&#45;&gt;30</title>\n<path fill=\"none\" stroke=\"black\" d=\"M1039,-698.91C1039,-690.65 1039,-681.86 1039,-673.3\"/>\n<polygon fill=\"black\" stroke=\"black\" points=\"1042.5,-673.02 1039,-663.02 1035.5,-673.02 1042.5,-673.02\"/>\n</g>\n<!-- 33 -->\n<g id=\"node34\" class=\"node\">\n<title>33</title>\n<path fill=\"#e58139\" stroke=\"black\" d=\"M1198,-655.5C1198,-655.5 1120,-655.5 1120,-655.5 1114,-655.5 1108,-649.5 1108,-643.5 1108,-643.5 1108,-599.5 1108,-599.5 1108,-593.5 1114,-587.5 1120,-587.5 1120,-587.5 1198,-587.5 1198,-587.5 1204,-587.5 1210,-593.5 1210,-599.5 1210,-599.5 1210,-643.5 1210,-643.5 1210,-649.5 1204,-655.5 1198,-655.5\"/>\n<text text-anchor=\"start\" x=\"1131\" y=\"-640.3\" font-family=\"Helvetica,sans-Serif\" font-size=\"14.00\">gini = 0.0</text>\n<text text-anchor=\"start\" x=\"1118\" y=\"-625.3\" font-family=\"Helvetica,sans-Serif\" font-size=\"14.00\">samples = 44</text>\n<text text-anchor=\"start\" x=\"1116\" y=\"-610.3\" font-family=\"Helvetica,sans-Serif\" font-size=\"14.00\">value = [44, 0]</text>\n<text text-anchor=\"start\" x=\"1116\" y=\"-595.3\" font-family=\"Helvetica,sans-Serif\" font-size=\"14.00\">class = болен</text>\n</g>\n<!-- 29&#45;&gt;33 -->\n<g id=\"edge33\" class=\"edge\">\n<title>29&#45;&gt;33</title>\n<path fill=\"none\" stroke=\"black\" d=\"M1080.63,-698.91C1092.63,-687.21 1105.71,-674.46 1117.69,-662.78\"/>\n<polygon fill=\"black\" stroke=\"black\" points=\"1120.27,-665.15 1124.98,-655.67 1115.38,-660.14 1120.27,-665.15\"/>\n</g>\n<!-- 31 -->\n<g id=\"node32\" class=\"node\">\n<title>31</title>\n<path fill=\"#399de5\" stroke=\"black\" d=\"M1080.5,-536.5C1080.5,-536.5 997.5,-536.5 997.5,-536.5 991.5,-536.5 985.5,-530.5 985.5,-524.5 985.5,-524.5 985.5,-480.5 985.5,-480.5 985.5,-474.5 991.5,-468.5 997.5,-468.5 997.5,-468.5 1080.5,-468.5 1080.5,-468.5 1086.5,-468.5 1092.5,-474.5 1092.5,-480.5 1092.5,-480.5 1092.5,-524.5 1092.5,-524.5 1092.5,-530.5 1086.5,-536.5 1080.5,-536.5\"/>\n<text text-anchor=\"start\" x=\"1011\" y=\"-521.3\" font-family=\"Helvetica,sans-Serif\" font-size=\"14.00\">gini = 0.0</text>\n<text text-anchor=\"start\" x=\"1001.5\" y=\"-506.3\" font-family=\"Helvetica,sans-Serif\" font-size=\"14.00\">samples = 1</text>\n<text text-anchor=\"start\" x=\"999.5\" y=\"-491.3\" font-family=\"Helvetica,sans-Serif\" font-size=\"14.00\">value = [0, 1]</text>\n<text text-anchor=\"start\" x=\"993.5\" y=\"-476.3\" font-family=\"Helvetica,sans-Serif\" font-size=\"14.00\">class = здоров</text>\n</g>\n<!-- 30&#45;&gt;31 -->\n<g id=\"edge31\" class=\"edge\">\n<title>30&#45;&gt;31</title>\n<path fill=\"none\" stroke=\"black\" d=\"M1039,-579.91C1039,-569.2 1039,-557.62 1039,-546.78\"/>\n<polygon fill=\"black\" stroke=\"black\" points=\"1042.5,-546.67 1039,-536.67 1035.5,-546.67 1042.5,-546.67\"/>\n</g>\n<!-- 32 -->\n<g id=\"node33\" class=\"node\">\n<title>32</title>\n<path fill=\"#e58139\" stroke=\"black\" d=\"M1201,-536.5C1201,-536.5 1123,-536.5 1123,-536.5 1117,-536.5 1111,-530.5 1111,-524.5 1111,-524.5 1111,-480.5 1111,-480.5 1111,-474.5 1117,-468.5 1123,-468.5 1123,-468.5 1201,-468.5 1201,-468.5 1207,-468.5 1213,-474.5 1213,-480.5 1213,-480.5 1213,-524.5 1213,-524.5 1213,-530.5 1207,-536.5 1201,-536.5\"/>\n<text text-anchor=\"start\" x=\"1134\" y=\"-521.3\" font-family=\"Helvetica,sans-Serif\" font-size=\"14.00\">gini = 0.0</text>\n<text text-anchor=\"start\" x=\"1124.5\" y=\"-506.3\" font-family=\"Helvetica,sans-Serif\" font-size=\"14.00\">samples = 7</text>\n<text text-anchor=\"start\" x=\"1122.5\" y=\"-491.3\" font-family=\"Helvetica,sans-Serif\" font-size=\"14.00\">value = [7, 0]</text>\n<text text-anchor=\"start\" x=\"1119\" y=\"-476.3\" font-family=\"Helvetica,sans-Serif\" font-size=\"14.00\">class = болен</text>\n</g>\n<!-- 30&#45;&gt;32 -->\n<g id=\"edge32\" class=\"edge\">\n<title>30&#45;&gt;32</title>\n<path fill=\"none\" stroke=\"black\" d=\"M1081.67,-579.91C1093.97,-568.21 1107.38,-555.46 1119.65,-543.78\"/>\n<polygon fill=\"black\" stroke=\"black\" points=\"1122.3,-546.1 1127.13,-536.67 1117.47,-541.02 1122.3,-546.1\"/>\n</g>\n<!-- 35 -->\n<g id=\"node36\" class=\"node\">\n<title>35</title>\n<path fill=\"#4fa8e8\" stroke=\"black\" d=\"M1624.5,-901C1624.5,-901 1541.5,-901 1541.5,-901 1535.5,-901 1529.5,-895 1529.5,-889 1529.5,-889 1529.5,-830 1529.5,-830 1529.5,-824 1535.5,-818 1541.5,-818 1541.5,-818 1624.5,-818 1624.5,-818 1630.5,-818 1636.5,-824 1636.5,-830 1636.5,-830 1636.5,-889 1636.5,-889 1636.5,-895 1630.5,-901 1624.5,-901\"/>\n<text text-anchor=\"start\" x=\"1551\" y=\"-885.8\" font-family=\"Helvetica,sans-Serif\" font-size=\"14.00\">age ≤ 56.5</text>\n<text text-anchor=\"start\" x=\"1547.5\" y=\"-870.8\" font-family=\"Helvetica,sans-Serif\" font-size=\"14.00\">gini = 0.182</text>\n<text text-anchor=\"start\" x=\"1542\" y=\"-855.8\" font-family=\"Helvetica,sans-Serif\" font-size=\"14.00\">samples = 89</text>\n<text text-anchor=\"start\" x=\"1540\" y=\"-840.8\" font-family=\"Helvetica,sans-Serif\" font-size=\"14.00\">value = [9, 80]</text>\n<text text-anchor=\"start\" x=\"1537.5\" y=\"-825.8\" font-family=\"Helvetica,sans-Serif\" font-size=\"14.00\">class = здоров</text>\n</g>\n<!-- 34&#45;&gt;35 -->\n<g id=\"edge35\" class=\"edge\">\n<title>34&#45;&gt;35</title>\n<path fill=\"none\" stroke=\"black\" d=\"M1583,-936.91C1583,-928.65 1583,-919.86 1583,-911.3\"/>\n<polygon fill=\"black\" stroke=\"black\" points=\"1586.5,-911.02 1583,-901.02 1579.5,-911.02 1586.5,-911.02\"/>\n</g>\n<!-- 52 -->\n<g id=\"node53\" class=\"node\">\n<title>52</title>\n<path fill=\"#fdf6f1\" stroke=\"black\" d=\"M1945,-901C1945,-901 1859,-901 1859,-901 1853,-901 1847,-895 1847,-889 1847,-889 1847,-830 1847,-830 1847,-824 1853,-818 1859,-818 1859,-818 1945,-818 1945,-818 1951,-818 1957,-824 1957,-830 1957,-830 1957,-889 1957,-889 1957,-895 1951,-901 1945,-901\"/>\n<text text-anchor=\"start\" x=\"1876\" y=\"-885.8\" font-family=\"Helvetica,sans-Serif\" font-size=\"14.00\">fbs ≤ 0.5</text>\n<text text-anchor=\"start\" x=\"1866.5\" y=\"-870.8\" font-family=\"Helvetica,sans-Serif\" font-size=\"14.00\">gini = 0.499</text>\n<text text-anchor=\"start\" x=\"1861\" y=\"-855.8\" font-family=\"Helvetica,sans-Serif\" font-size=\"14.00\">samples = 27</text>\n<text text-anchor=\"start\" x=\"1855\" y=\"-840.8\" font-family=\"Helvetica,sans-Serif\" font-size=\"14.00\">value = [14, 13]</text>\n<text text-anchor=\"start\" x=\"1859\" y=\"-825.8\" font-family=\"Helvetica,sans-Serif\" font-size=\"14.00\">class = болен</text>\n</g>\n<!-- 34&#45;&gt;52 -->\n<g id=\"edge52\" class=\"edge\">\n<title>34&#45;&gt;52</title>\n<path fill=\"none\" stroke=\"black\" d=\"M1638.2,-957.25C1693.61,-936.93 1778.91,-905.64 1837.43,-884.18\"/>\n<polygon fill=\"black\" stroke=\"black\" points=\"1838.76,-887.42 1846.94,-880.69 1836.35,-880.85 1838.76,-887.42\"/>\n</g>\n<!-- 36 -->\n<g id=\"node37\" class=\"node\">\n<title>36</title>\n<path fill=\"#3c9fe5\" stroke=\"black\" d=\"M1563.5,-782C1563.5,-782 1474.5,-782 1474.5,-782 1468.5,-782 1462.5,-776 1462.5,-770 1462.5,-770 1462.5,-711 1462.5,-711 1462.5,-705 1468.5,-699 1474.5,-699 1474.5,-699 1563.5,-699 1563.5,-699 1569.5,-699 1575.5,-705 1575.5,-711 1575.5,-711 1575.5,-770 1575.5,-770 1575.5,-776 1569.5,-782 1563.5,-782\"/>\n<text text-anchor=\"start\" x=\"1470.5\" y=\"-766.8\" font-family=\"Helvetica,sans-Serif\" font-size=\"14.00\">trestbps ≤ 109.0</text>\n<text text-anchor=\"start\" x=\"1483.5\" y=\"-751.8\" font-family=\"Helvetica,sans-Serif\" font-size=\"14.00\">gini = 0.034</text>\n<text text-anchor=\"start\" x=\"1478\" y=\"-736.8\" font-family=\"Helvetica,sans-Serif\" font-size=\"14.00\">samples = 58</text>\n<text text-anchor=\"start\" x=\"1476\" y=\"-721.8\" font-family=\"Helvetica,sans-Serif\" font-size=\"14.00\">value = [1, 57]</text>\n<text text-anchor=\"start\" x=\"1473.5\" y=\"-706.8\" font-family=\"Helvetica,sans-Serif\" font-size=\"14.00\">class = здоров</text>\n</g>\n<!-- 35&#45;&gt;36 -->\n<g id=\"edge36\" class=\"edge\">\n<title>35&#45;&gt;36</title>\n<path fill=\"none\" stroke=\"black\" d=\"M1560.8,-817.91C1556.03,-809.2 1550.94,-799.9 1546.02,-790.89\"/>\n<polygon fill=\"black\" stroke=\"black\" points=\"1549.03,-789.11 1541.17,-782.02 1542.89,-792.47 1549.03,-789.11\"/>\n</g>\n<!-- 41 -->\n<g id=\"node42\" class=\"node\">\n<title>41</title>\n<path fill=\"#7ebfee\" stroke=\"black\" d=\"M1688.5,-782C1688.5,-782 1605.5,-782 1605.5,-782 1599.5,-782 1593.5,-776 1593.5,-770 1593.5,-770 1593.5,-711 1593.5,-711 1593.5,-705 1599.5,-699 1605.5,-699 1605.5,-699 1688.5,-699 1688.5,-699 1694.5,-699 1700.5,-705 1700.5,-711 1700.5,-711 1700.5,-770 1700.5,-770 1700.5,-776 1694.5,-782 1688.5,-782\"/>\n<text text-anchor=\"start\" x=\"1619.5\" y=\"-766.8\" font-family=\"Helvetica,sans-Serif\" font-size=\"14.00\">sex ≤ 0.5</text>\n<text text-anchor=\"start\" x=\"1611.5\" y=\"-751.8\" font-family=\"Helvetica,sans-Serif\" font-size=\"14.00\">gini = 0.383</text>\n<text text-anchor=\"start\" x=\"1606\" y=\"-736.8\" font-family=\"Helvetica,sans-Serif\" font-size=\"14.00\">samples = 31</text>\n<text text-anchor=\"start\" x=\"1604\" y=\"-721.8\" font-family=\"Helvetica,sans-Serif\" font-size=\"14.00\">value = [8, 23]</text>\n<text text-anchor=\"start\" x=\"1601.5\" y=\"-706.8\" font-family=\"Helvetica,sans-Serif\" font-size=\"14.00\">class = здоров</text>\n</g>\n<!-- 35&#45;&gt;41 -->\n<g id=\"edge41\" class=\"edge\">\n<title>35&#45;&gt;41</title>\n<path fill=\"none\" stroke=\"black\" d=\"M1605.2,-817.91C1609.97,-809.2 1615.06,-799.9 1619.98,-790.89\"/>\n<polygon fill=\"black\" stroke=\"black\" points=\"1623.11,-792.47 1624.83,-782.02 1616.97,-789.11 1623.11,-792.47\"/>\n</g>\n<!-- 37 -->\n<g id=\"node38\" class=\"node\">\n<title>37</title>\n<path fill=\"#6ab6ec\" stroke=\"black\" d=\"M1436.5,-663C1436.5,-663 1351.5,-663 1351.5,-663 1345.5,-663 1339.5,-657 1339.5,-651 1339.5,-651 1339.5,-592 1339.5,-592 1339.5,-586 1345.5,-580 1351.5,-580 1351.5,-580 1436.5,-580 1436.5,-580 1442.5,-580 1448.5,-586 1448.5,-592 1448.5,-592 1448.5,-651 1448.5,-651 1448.5,-657 1442.5,-663 1436.5,-663\"/>\n<text text-anchor=\"start\" x=\"1347.5\" y=\"-647.8\" font-family=\"Helvetica,sans-Serif\" font-size=\"14.00\">thalach ≤ 159.5</text>\n<text text-anchor=\"start\" x=\"1362\" y=\"-632.8\" font-family=\"Helvetica,sans-Serif\" font-size=\"14.00\">gini = 0.32</text>\n<text text-anchor=\"start\" x=\"1356.5\" y=\"-617.8\" font-family=\"Helvetica,sans-Serif\" font-size=\"14.00\">samples = 5</text>\n<text text-anchor=\"start\" x=\"1354.5\" y=\"-602.8\" font-family=\"Helvetica,sans-Serif\" font-size=\"14.00\">value = [1, 4]</text>\n<text text-anchor=\"start\" x=\"1348.5\" y=\"-587.8\" font-family=\"Helvetica,sans-Serif\" font-size=\"14.00\">class = здоров</text>\n</g>\n<!-- 36&#45;&gt;37 -->\n<g id=\"edge37\" class=\"edge\">\n<title>36&#45;&gt;37</title>\n<path fill=\"none\" stroke=\"black\" d=\"M1475.63,-698.91C1465.65,-689.56 1454.94,-679.54 1444.67,-669.93\"/>\n<polygon fill=\"black\" stroke=\"black\" points=\"1446.98,-667.3 1437.29,-663.02 1442.2,-672.41 1446.98,-667.3\"/>\n</g>\n<!-- 40 -->\n<g id=\"node41\" class=\"node\">\n<title>40</title>\n<path fill=\"#399de5\" stroke=\"black\" d=\"M1561.5,-655.5C1561.5,-655.5 1478.5,-655.5 1478.5,-655.5 1472.5,-655.5 1466.5,-649.5 1466.5,-643.5 1466.5,-643.5 1466.5,-599.5 1466.5,-599.5 1466.5,-593.5 1472.5,-587.5 1478.5,-587.5 1478.5,-587.5 1561.5,-587.5 1561.5,-587.5 1567.5,-587.5 1573.5,-593.5 1573.5,-599.5 1573.5,-599.5 1573.5,-643.5 1573.5,-643.5 1573.5,-649.5 1567.5,-655.5 1561.5,-655.5\"/>\n<text text-anchor=\"start\" x=\"1492\" y=\"-640.3\" font-family=\"Helvetica,sans-Serif\" font-size=\"14.00\">gini = 0.0</text>\n<text text-anchor=\"start\" x=\"1479\" y=\"-625.3\" font-family=\"Helvetica,sans-Serif\" font-size=\"14.00\">samples = 53</text>\n<text text-anchor=\"start\" x=\"1477\" y=\"-610.3\" font-family=\"Helvetica,sans-Serif\" font-size=\"14.00\">value = [0, 53]</text>\n<text text-anchor=\"start\" x=\"1474.5\" y=\"-595.3\" font-family=\"Helvetica,sans-Serif\" font-size=\"14.00\">class = здоров</text>\n</g>\n<!-- 36&#45;&gt;40 -->\n<g id=\"edge40\" class=\"edge\">\n<title>36&#45;&gt;40</title>\n<path fill=\"none\" stroke=\"black\" d=\"M1519.35,-698.91C1519.44,-688.2 1519.54,-676.62 1519.63,-665.78\"/>\n<polygon fill=\"black\" stroke=\"black\" points=\"1523.13,-665.7 1519.72,-655.67 1516.13,-665.64 1523.13,-665.7\"/>\n</g>\n<!-- 38 -->\n<g id=\"node39\" class=\"node\">\n<title>38</title>\n<path fill=\"#e58139\" stroke=\"black\" d=\"M1321,-536.5C1321,-536.5 1243,-536.5 1243,-536.5 1237,-536.5 1231,-530.5 1231,-524.5 1231,-524.5 1231,-480.5 1231,-480.5 1231,-474.5 1237,-468.5 1243,-468.5 1243,-468.5 1321,-468.5 1321,-468.5 1327,-468.5 1333,-474.5 1333,-480.5 1333,-480.5 1333,-524.5 1333,-524.5 1333,-530.5 1327,-536.5 1321,-536.5\"/>\n<text text-anchor=\"start\" x=\"1254\" y=\"-521.3\" font-family=\"Helvetica,sans-Serif\" font-size=\"14.00\">gini = 0.0</text>\n<text text-anchor=\"start\" x=\"1244.5\" y=\"-506.3\" font-family=\"Helvetica,sans-Serif\" font-size=\"14.00\">samples = 1</text>\n<text text-anchor=\"start\" x=\"1242.5\" y=\"-491.3\" font-family=\"Helvetica,sans-Serif\" font-size=\"14.00\">value = [1, 0]</text>\n<text text-anchor=\"start\" x=\"1239\" y=\"-476.3\" font-family=\"Helvetica,sans-Serif\" font-size=\"14.00\">class = болен</text>\n</g>\n<!-- 37&#45;&gt;38 -->\n<g id=\"edge38\" class=\"edge\">\n<title>37&#45;&gt;38</title>\n<path fill=\"none\" stroke=\"black\" d=\"M1355.14,-579.91C1344.05,-568.32 1331.97,-555.7 1320.88,-544.11\"/>\n<polygon fill=\"black\" stroke=\"black\" points=\"1323.19,-541.47 1313.75,-536.67 1318.14,-546.31 1323.19,-541.47\"/>\n</g>\n<!-- 39 -->\n<g id=\"node40\" class=\"node\">\n<title>39</title>\n<path fill=\"#399de5\" stroke=\"black\" d=\"M1446.5,-536.5C1446.5,-536.5 1363.5,-536.5 1363.5,-536.5 1357.5,-536.5 1351.5,-530.5 1351.5,-524.5 1351.5,-524.5 1351.5,-480.5 1351.5,-480.5 1351.5,-474.5 1357.5,-468.5 1363.5,-468.5 1363.5,-468.5 1446.5,-468.5 1446.5,-468.5 1452.5,-468.5 1458.5,-474.5 1458.5,-480.5 1458.5,-480.5 1458.5,-524.5 1458.5,-524.5 1458.5,-530.5 1452.5,-536.5 1446.5,-536.5\"/>\n<text text-anchor=\"start\" x=\"1377\" y=\"-521.3\" font-family=\"Helvetica,sans-Serif\" font-size=\"14.00\">gini = 0.0</text>\n<text text-anchor=\"start\" x=\"1367.5\" y=\"-506.3\" font-family=\"Helvetica,sans-Serif\" font-size=\"14.00\">samples = 4</text>\n<text text-anchor=\"start\" x=\"1365.5\" y=\"-491.3\" font-family=\"Helvetica,sans-Serif\" font-size=\"14.00\">value = [0, 4]</text>\n<text text-anchor=\"start\" x=\"1359.5\" y=\"-476.3\" font-family=\"Helvetica,sans-Serif\" font-size=\"14.00\">class = здоров</text>\n</g>\n<!-- 37&#45;&gt;39 -->\n<g id=\"edge39\" class=\"edge\">\n<title>37&#45;&gt;39</title>\n<path fill=\"none\" stroke=\"black\" d=\"M1397.82,-579.91C1398.82,-569.2 1399.91,-557.62 1400.93,-546.78\"/>\n<polygon fill=\"black\" stroke=\"black\" points=\"1404.43,-546.95 1401.88,-536.67 1397.46,-546.3 1404.43,-546.95\"/>\n</g>\n<!-- 42 -->\n<g id=\"node43\" class=\"node\">\n<title>42</title>\n<path fill=\"#45a3e7\" stroke=\"black\" d=\"M1687.5,-663C1687.5,-663 1604.5,-663 1604.5,-663 1598.5,-663 1592.5,-657 1592.5,-651 1592.5,-651 1592.5,-592 1592.5,-592 1592.5,-586 1598.5,-580 1604.5,-580 1604.5,-580 1687.5,-580 1687.5,-580 1693.5,-580 1699.5,-586 1699.5,-592 1699.5,-592 1699.5,-651 1699.5,-651 1699.5,-657 1693.5,-663 1687.5,-663\"/>\n<text text-anchor=\"start\" x=\"1614\" y=\"-647.8\" font-family=\"Helvetica,sans-Serif\" font-size=\"14.00\">age ≤ 57.5</text>\n<text text-anchor=\"start\" x=\"1610.5\" y=\"-632.8\" font-family=\"Helvetica,sans-Serif\" font-size=\"14.00\">gini = 0.111</text>\n<text text-anchor=\"start\" x=\"1605\" y=\"-617.8\" font-family=\"Helvetica,sans-Serif\" font-size=\"14.00\">samples = 17</text>\n<text text-anchor=\"start\" x=\"1603\" y=\"-602.8\" font-family=\"Helvetica,sans-Serif\" font-size=\"14.00\">value = [1, 16]</text>\n<text text-anchor=\"start\" x=\"1600.5\" y=\"-587.8\" font-family=\"Helvetica,sans-Serif\" font-size=\"14.00\">class = здоров</text>\n</g>\n<!-- 41&#45;&gt;42 -->\n<g id=\"edge42\" class=\"edge\">\n<title>41&#45;&gt;42</title>\n<path fill=\"none\" stroke=\"black\" d=\"M1646.65,-698.91C1646.58,-690.65 1646.51,-681.86 1646.43,-673.3\"/>\n<polygon fill=\"black\" stroke=\"black\" points=\"1649.93,-672.99 1646.35,-663.02 1642.93,-673.05 1649.93,-672.99\"/>\n</g>\n<!-- 45 -->\n<g id=\"node46\" class=\"node\">\n<title>45</title>\n<path fill=\"#ffffff\" stroke=\"black\" d=\"M1818.5,-663C1818.5,-663 1729.5,-663 1729.5,-663 1723.5,-663 1717.5,-657 1717.5,-651 1717.5,-651 1717.5,-592 1717.5,-592 1717.5,-586 1723.5,-580 1729.5,-580 1729.5,-580 1818.5,-580 1818.5,-580 1824.5,-580 1830.5,-586 1830.5,-592 1830.5,-592 1830.5,-651 1830.5,-651 1830.5,-657 1824.5,-663 1818.5,-663\"/>\n<text text-anchor=\"start\" x=\"1725.5\" y=\"-647.8\" font-family=\"Helvetica,sans-Serif\" font-size=\"14.00\">trestbps ≤ 142.5</text>\n<text text-anchor=\"start\" x=\"1746\" y=\"-632.8\" font-family=\"Helvetica,sans-Serif\" font-size=\"14.00\">gini = 0.5</text>\n<text text-anchor=\"start\" x=\"1733\" y=\"-617.8\" font-family=\"Helvetica,sans-Serif\" font-size=\"14.00\">samples = 14</text>\n<text text-anchor=\"start\" x=\"1734.5\" y=\"-602.8\" font-family=\"Helvetica,sans-Serif\" font-size=\"14.00\">value = [7, 7]</text>\n<text text-anchor=\"start\" x=\"1731\" y=\"-587.8\" font-family=\"Helvetica,sans-Serif\" font-size=\"14.00\">class = болен</text>\n</g>\n<!-- 41&#45;&gt;45 -->\n<g id=\"edge45\" class=\"edge\">\n<title>41&#45;&gt;45</title>\n<path fill=\"none\" stroke=\"black\" d=\"M1691.06,-698.91C1701.21,-689.56 1712.09,-679.54 1722.52,-669.93\"/>\n<polygon fill=\"black\" stroke=\"black\" points=\"1725.03,-672.37 1730.02,-663.02 1720.29,-667.22 1725.03,-672.37\"/>\n</g>\n<!-- 43 -->\n<g id=\"node44\" class=\"node\">\n<title>43</title>\n<path fill=\"#e58139\" stroke=\"black\" d=\"M1567,-536.5C1567,-536.5 1489,-536.5 1489,-536.5 1483,-536.5 1477,-530.5 1477,-524.5 1477,-524.5 1477,-480.5 1477,-480.5 1477,-474.5 1483,-468.5 1489,-468.5 1489,-468.5 1567,-468.5 1567,-468.5 1573,-468.5 1579,-474.5 1579,-480.5 1579,-480.5 1579,-524.5 1579,-524.5 1579,-530.5 1573,-536.5 1567,-536.5\"/>\n<text text-anchor=\"start\" x=\"1500\" y=\"-521.3\" font-family=\"Helvetica,sans-Serif\" font-size=\"14.00\">gini = 0.0</text>\n<text text-anchor=\"start\" x=\"1490.5\" y=\"-506.3\" font-family=\"Helvetica,sans-Serif\" font-size=\"14.00\">samples = 1</text>\n<text text-anchor=\"start\" x=\"1488.5\" y=\"-491.3\" font-family=\"Helvetica,sans-Serif\" font-size=\"14.00\">value = [1, 0]</text>\n<text text-anchor=\"start\" x=\"1485\" y=\"-476.3\" font-family=\"Helvetica,sans-Serif\" font-size=\"14.00\">class = болен</text>\n</g>\n<!-- 42&#45;&gt;43 -->\n<g id=\"edge43\" class=\"edge\">\n<title>42&#45;&gt;43</title>\n<path fill=\"none\" stroke=\"black\" d=\"M1605.06,-579.91C1593.26,-568.21 1580.4,-555.46 1568.62,-543.78\"/>\n<polygon fill=\"black\" stroke=\"black\" points=\"1571.02,-541.22 1561.45,-536.67 1566.09,-546.19 1571.02,-541.22\"/>\n</g>\n<!-- 44 -->\n<g id=\"node45\" class=\"node\">\n<title>44</title>\n<path fill=\"#399de5\" stroke=\"black\" d=\"M1692.5,-536.5C1692.5,-536.5 1609.5,-536.5 1609.5,-536.5 1603.5,-536.5 1597.5,-530.5 1597.5,-524.5 1597.5,-524.5 1597.5,-480.5 1597.5,-480.5 1597.5,-474.5 1603.5,-468.5 1609.5,-468.5 1609.5,-468.5 1692.5,-468.5 1692.5,-468.5 1698.5,-468.5 1704.5,-474.5 1704.5,-480.5 1704.5,-480.5 1704.5,-524.5 1704.5,-524.5 1704.5,-530.5 1698.5,-536.5 1692.5,-536.5\"/>\n<text text-anchor=\"start\" x=\"1623\" y=\"-521.3\" font-family=\"Helvetica,sans-Serif\" font-size=\"14.00\">gini = 0.0</text>\n<text text-anchor=\"start\" x=\"1610\" y=\"-506.3\" font-family=\"Helvetica,sans-Serif\" font-size=\"14.00\">samples = 16</text>\n<text text-anchor=\"start\" x=\"1608\" y=\"-491.3\" font-family=\"Helvetica,sans-Serif\" font-size=\"14.00\">value = [0, 16]</text>\n<text text-anchor=\"start\" x=\"1605.5\" y=\"-476.3\" font-family=\"Helvetica,sans-Serif\" font-size=\"14.00\">class = здоров</text>\n</g>\n<!-- 42&#45;&gt;44 -->\n<g id=\"edge44\" class=\"edge\">\n<title>42&#45;&gt;44</title>\n<path fill=\"none\" stroke=\"black\" d=\"M1647.73,-579.91C1648.19,-569.2 1648.69,-557.62 1649.15,-546.78\"/>\n<polygon fill=\"black\" stroke=\"black\" points=\"1652.65,-546.81 1649.58,-536.67 1645.66,-546.51 1652.65,-546.81\"/>\n</g>\n<!-- 46 -->\n<g id=\"node47\" class=\"node\">\n<title>46</title>\n<path fill=\"#f0b78e\" stroke=\"black\" d=\"M1813,-544C1813,-544 1735,-544 1735,-544 1729,-544 1723,-538 1723,-532 1723,-532 1723,-473 1723,-473 1723,-467 1729,-461 1735,-461 1735,-461 1813,-461 1813,-461 1819,-461 1825,-467 1825,-473 1825,-473 1825,-532 1825,-532 1825,-538 1819,-544 1813,-544\"/>\n<text text-anchor=\"start\" x=\"1733\" y=\"-528.8\" font-family=\"Helvetica,sans-Serif\" font-size=\"14.00\">oldpeak ≤ 0.4</text>\n<text text-anchor=\"start\" x=\"1742\" y=\"-513.8\" font-family=\"Helvetica,sans-Serif\" font-size=\"14.00\">gini = 0.42</text>\n<text text-anchor=\"start\" x=\"1733\" y=\"-498.8\" font-family=\"Helvetica,sans-Serif\" font-size=\"14.00\">samples = 10</text>\n<text text-anchor=\"start\" x=\"1734.5\" y=\"-483.8\" font-family=\"Helvetica,sans-Serif\" font-size=\"14.00\">value = [7, 3]</text>\n<text text-anchor=\"start\" x=\"1731\" y=\"-468.8\" font-family=\"Helvetica,sans-Serif\" font-size=\"14.00\">class = болен</text>\n</g>\n<!-- 45&#45;&gt;46 -->\n<g id=\"edge46\" class=\"edge\">\n<title>45&#45;&gt;46</title>\n<path fill=\"none\" stroke=\"black\" d=\"M1774,-579.91C1774,-571.65 1774,-562.86 1774,-554.3\"/>\n<polygon fill=\"black\" stroke=\"black\" points=\"1777.5,-554.02 1774,-544.02 1770.5,-554.02 1777.5,-554.02\"/>\n</g>\n<!-- 51 -->\n<g id=\"node52\" class=\"node\">\n<title>51</title>\n<path fill=\"#399de5\" stroke=\"black\" d=\"M1938.5,-536.5C1938.5,-536.5 1855.5,-536.5 1855.5,-536.5 1849.5,-536.5 1843.5,-530.5 1843.5,-524.5 1843.5,-524.5 1843.5,-480.5 1843.5,-480.5 1843.5,-474.5 1849.5,-468.5 1855.5,-468.5 1855.5,-468.5 1938.5,-468.5 1938.5,-468.5 1944.5,-468.5 1950.5,-474.5 1950.5,-480.5 1950.5,-480.5 1950.5,-524.5 1950.5,-524.5 1950.5,-530.5 1944.5,-536.5 1938.5,-536.5\"/>\n<text text-anchor=\"start\" x=\"1869\" y=\"-521.3\" font-family=\"Helvetica,sans-Serif\" font-size=\"14.00\">gini = 0.0</text>\n<text text-anchor=\"start\" x=\"1859.5\" y=\"-506.3\" font-family=\"Helvetica,sans-Serif\" font-size=\"14.00\">samples = 4</text>\n<text text-anchor=\"start\" x=\"1857.5\" y=\"-491.3\" font-family=\"Helvetica,sans-Serif\" font-size=\"14.00\">value = [0, 4]</text>\n<text text-anchor=\"start\" x=\"1851.5\" y=\"-476.3\" font-family=\"Helvetica,sans-Serif\" font-size=\"14.00\">class = здоров</text>\n</g>\n<!-- 45&#45;&gt;51 -->\n<g id=\"edge51\" class=\"edge\">\n<title>45&#45;&gt;51</title>\n<path fill=\"none\" stroke=\"black\" d=\"M1816.67,-579.91C1828.97,-568.21 1842.38,-555.46 1854.65,-543.78\"/>\n<polygon fill=\"black\" stroke=\"black\" points=\"1857.3,-546.1 1862.13,-536.67 1852.47,-541.02 1857.3,-546.1\"/>\n</g>\n<!-- 47 -->\n<g id=\"node48\" class=\"node\">\n<title>47</title>\n<path fill=\"#7bbeee\" stroke=\"black\" d=\"M1694.5,-425C1694.5,-425 1611.5,-425 1611.5,-425 1605.5,-425 1599.5,-419 1599.5,-413 1599.5,-413 1599.5,-354 1599.5,-354 1599.5,-348 1605.5,-342 1611.5,-342 1611.5,-342 1694.5,-342 1694.5,-342 1700.5,-342 1706.5,-348 1706.5,-354 1706.5,-354 1706.5,-413 1706.5,-413 1706.5,-419 1700.5,-425 1694.5,-425\"/>\n<text text-anchor=\"start\" x=\"1621\" y=\"-409.8\" font-family=\"Helvetica,sans-Serif\" font-size=\"14.00\">age ≤ 63.0</text>\n<text text-anchor=\"start\" x=\"1617.5\" y=\"-394.8\" font-family=\"Helvetica,sans-Serif\" font-size=\"14.00\">gini = 0.375</text>\n<text text-anchor=\"start\" x=\"1615.5\" y=\"-379.8\" font-family=\"Helvetica,sans-Serif\" font-size=\"14.00\">samples = 4</text>\n<text text-anchor=\"start\" x=\"1613.5\" y=\"-364.8\" font-family=\"Helvetica,sans-Serif\" font-size=\"14.00\">value = [1, 3]</text>\n<text text-anchor=\"start\" x=\"1607.5\" y=\"-349.8\" font-family=\"Helvetica,sans-Serif\" font-size=\"14.00\">class = здоров</text>\n</g>\n<!-- 46&#45;&gt;47 -->\n<g id=\"edge47\" class=\"edge\">\n<title>46&#45;&gt;47</title>\n<path fill=\"none\" stroke=\"black\" d=\"M1732.02,-460.91C1722.45,-451.65 1712.19,-441.73 1702.34,-432.21\"/>\n<polygon fill=\"black\" stroke=\"black\" points=\"1704.53,-429.46 1694.91,-425.02 1699.66,-434.49 1704.53,-429.46\"/>\n</g>\n<!-- 50 -->\n<g id=\"node51\" class=\"node\">\n<title>50</title>\n<path fill=\"#e58139\" stroke=\"black\" d=\"M1815,-417.5C1815,-417.5 1737,-417.5 1737,-417.5 1731,-417.5 1725,-411.5 1725,-405.5 1725,-405.5 1725,-361.5 1725,-361.5 1725,-355.5 1731,-349.5 1737,-349.5 1737,-349.5 1815,-349.5 1815,-349.5 1821,-349.5 1827,-355.5 1827,-361.5 1827,-361.5 1827,-405.5 1827,-405.5 1827,-411.5 1821,-417.5 1815,-417.5\"/>\n<text text-anchor=\"start\" x=\"1748\" y=\"-402.3\" font-family=\"Helvetica,sans-Serif\" font-size=\"14.00\">gini = 0.0</text>\n<text text-anchor=\"start\" x=\"1738.5\" y=\"-387.3\" font-family=\"Helvetica,sans-Serif\" font-size=\"14.00\">samples = 6</text>\n<text text-anchor=\"start\" x=\"1736.5\" y=\"-372.3\" font-family=\"Helvetica,sans-Serif\" font-size=\"14.00\">value = [6, 0]</text>\n<text text-anchor=\"start\" x=\"1733\" y=\"-357.3\" font-family=\"Helvetica,sans-Serif\" font-size=\"14.00\">class = болен</text>\n</g>\n<!-- 46&#45;&gt;50 -->\n<g id=\"edge50\" class=\"edge\">\n<title>46&#45;&gt;50</title>\n<path fill=\"none\" stroke=\"black\" d=\"M1774.69,-460.91C1774.88,-450.2 1775.07,-438.62 1775.26,-427.78\"/>\n<polygon fill=\"black\" stroke=\"black\" points=\"1778.76,-427.73 1775.43,-417.67 1771.76,-427.61 1778.76,-427.73\"/>\n</g>\n<!-- 48 -->\n<g id=\"node49\" class=\"node\">\n<title>48</title>\n<path fill=\"#399de5\" stroke=\"black\" d=\"M1573.5,-298.5C1573.5,-298.5 1490.5,-298.5 1490.5,-298.5 1484.5,-298.5 1478.5,-292.5 1478.5,-286.5 1478.5,-286.5 1478.5,-242.5 1478.5,-242.5 1478.5,-236.5 1484.5,-230.5 1490.5,-230.5 1490.5,-230.5 1573.5,-230.5 1573.5,-230.5 1579.5,-230.5 1585.5,-236.5 1585.5,-242.5 1585.5,-242.5 1585.5,-286.5 1585.5,-286.5 1585.5,-292.5 1579.5,-298.5 1573.5,-298.5\"/>\n<text text-anchor=\"start\" x=\"1504\" y=\"-283.3\" font-family=\"Helvetica,sans-Serif\" font-size=\"14.00\">gini = 0.0</text>\n<text text-anchor=\"start\" x=\"1494.5\" y=\"-268.3\" font-family=\"Helvetica,sans-Serif\" font-size=\"14.00\">samples = 3</text>\n<text text-anchor=\"start\" x=\"1492.5\" y=\"-253.3\" font-family=\"Helvetica,sans-Serif\" font-size=\"14.00\">value = [0, 3]</text>\n<text text-anchor=\"start\" x=\"1486.5\" y=\"-238.3\" font-family=\"Helvetica,sans-Serif\" font-size=\"14.00\">class = здоров</text>\n</g>\n<!-- 47&#45;&gt;48 -->\n<g id=\"edge48\" class=\"edge\">\n<title>47&#45;&gt;48</title>\n<path fill=\"none\" stroke=\"black\" d=\"M1611.02,-341.91C1598.92,-330.21 1585.73,-317.46 1573.66,-305.78\"/>\n<polygon fill=\"black\" stroke=\"black\" points=\"1575.92,-303.1 1566.3,-298.67 1571.06,-308.13 1575.92,-303.1\"/>\n</g>\n<!-- 49 -->\n<g id=\"node50\" class=\"node\">\n<title>49</title>\n<path fill=\"#e58139\" stroke=\"black\" d=\"M1694,-298.5C1694,-298.5 1616,-298.5 1616,-298.5 1610,-298.5 1604,-292.5 1604,-286.5 1604,-286.5 1604,-242.5 1604,-242.5 1604,-236.5 1610,-230.5 1616,-230.5 1616,-230.5 1694,-230.5 1694,-230.5 1700,-230.5 1706,-236.5 1706,-242.5 1706,-242.5 1706,-286.5 1706,-286.5 1706,-292.5 1700,-298.5 1694,-298.5\"/>\n<text text-anchor=\"start\" x=\"1627\" y=\"-283.3\" font-family=\"Helvetica,sans-Serif\" font-size=\"14.00\">gini = 0.0</text>\n<text text-anchor=\"start\" x=\"1617.5\" y=\"-268.3\" font-family=\"Helvetica,sans-Serif\" font-size=\"14.00\">samples = 1</text>\n<text text-anchor=\"start\" x=\"1615.5\" y=\"-253.3\" font-family=\"Helvetica,sans-Serif\" font-size=\"14.00\">value = [1, 0]</text>\n<text text-anchor=\"start\" x=\"1612\" y=\"-238.3\" font-family=\"Helvetica,sans-Serif\" font-size=\"14.00\">class = болен</text>\n</g>\n<!-- 47&#45;&gt;49 -->\n<g id=\"edge49\" class=\"edge\">\n<title>47&#45;&gt;49</title>\n<path fill=\"none\" stroke=\"black\" d=\"M1653.69,-341.91C1653.88,-331.2 1654.07,-319.62 1654.26,-308.78\"/>\n<polygon fill=\"black\" stroke=\"black\" points=\"1657.76,-308.73 1654.43,-298.67 1650.76,-308.61 1657.76,-308.73\"/>\n</g>\n<!-- 53 -->\n<g id=\"node54\" class=\"node\">\n<title>53</title>\n<path fill=\"#f4c9aa\" stroke=\"black\" d=\"M1941,-782C1941,-782 1863,-782 1863,-782 1857,-782 1851,-776 1851,-770 1851,-770 1851,-711 1851,-711 1851,-705 1857,-699 1863,-699 1863,-699 1941,-699 1941,-699 1947,-699 1953,-705 1953,-711 1953,-711 1953,-770 1953,-770 1953,-776 1947,-782 1941,-782\"/>\n<text text-anchor=\"start\" x=\"1865\" y=\"-766.8\" font-family=\"Helvetica,sans-Serif\" font-size=\"14.00\">chol ≤ 205.5</text>\n<text text-anchor=\"start\" x=\"1866.5\" y=\"-751.8\" font-family=\"Helvetica,sans-Serif\" font-size=\"14.00\">gini = 0.463</text>\n<text text-anchor=\"start\" x=\"1861\" y=\"-736.8\" font-family=\"Helvetica,sans-Serif\" font-size=\"14.00\">samples = 22</text>\n<text text-anchor=\"start\" x=\"1859\" y=\"-721.8\" font-family=\"Helvetica,sans-Serif\" font-size=\"14.00\">value = [14, 8]</text>\n<text text-anchor=\"start\" x=\"1859\" y=\"-706.8\" font-family=\"Helvetica,sans-Serif\" font-size=\"14.00\">class = болен</text>\n</g>\n<!-- 52&#45;&gt;53 -->\n<g id=\"edge53\" class=\"edge\">\n<title>52&#45;&gt;53</title>\n<path fill=\"none\" stroke=\"black\" d=\"M1902,-817.91C1902,-809.65 1902,-800.86 1902,-792.3\"/>\n<polygon fill=\"black\" stroke=\"black\" points=\"1905.5,-792.02 1902,-782.02 1898.5,-792.02 1905.5,-792.02\"/>\n</g>\n<!-- 70 -->\n<g id=\"node71\" class=\"node\">\n<title>70</title>\n<path fill=\"#399de5\" stroke=\"black\" d=\"M2066.5,-774.5C2066.5,-774.5 1983.5,-774.5 1983.5,-774.5 1977.5,-774.5 1971.5,-768.5 1971.5,-762.5 1971.5,-762.5 1971.5,-718.5 1971.5,-718.5 1971.5,-712.5 1977.5,-706.5 1983.5,-706.5 1983.5,-706.5 2066.5,-706.5 2066.5,-706.5 2072.5,-706.5 2078.5,-712.5 2078.5,-718.5 2078.5,-718.5 2078.5,-762.5 2078.5,-762.5 2078.5,-768.5 2072.5,-774.5 2066.5,-774.5\"/>\n<text text-anchor=\"start\" x=\"1997\" y=\"-759.3\" font-family=\"Helvetica,sans-Serif\" font-size=\"14.00\">gini = 0.0</text>\n<text text-anchor=\"start\" x=\"1987.5\" y=\"-744.3\" font-family=\"Helvetica,sans-Serif\" font-size=\"14.00\">samples = 5</text>\n<text text-anchor=\"start\" x=\"1985.5\" y=\"-729.3\" font-family=\"Helvetica,sans-Serif\" font-size=\"14.00\">value = [0, 5]</text>\n<text text-anchor=\"start\" x=\"1979.5\" y=\"-714.3\" font-family=\"Helvetica,sans-Serif\" font-size=\"14.00\">class = здоров</text>\n</g>\n<!-- 52&#45;&gt;70 -->\n<g id=\"edge70\" class=\"edge\">\n<title>52&#45;&gt;70</title>\n<path fill=\"none\" stroke=\"black\" d=\"M1944.67,-817.91C1956.97,-806.21 1970.38,-793.46 1982.65,-781.78\"/>\n<polygon fill=\"black\" stroke=\"black\" points=\"1985.3,-784.1 1990.13,-774.67 1980.47,-779.02 1985.3,-784.1\"/>\n</g>\n<!-- 54 -->\n<g id=\"node55\" class=\"node\">\n<title>54</title>\n<path fill=\"#399de5\" stroke=\"black\" d=\"M1943.5,-655.5C1943.5,-655.5 1860.5,-655.5 1860.5,-655.5 1854.5,-655.5 1848.5,-649.5 1848.5,-643.5 1848.5,-643.5 1848.5,-599.5 1848.5,-599.5 1848.5,-593.5 1854.5,-587.5 1860.5,-587.5 1860.5,-587.5 1943.5,-587.5 1943.5,-587.5 1949.5,-587.5 1955.5,-593.5 1955.5,-599.5 1955.5,-599.5 1955.5,-643.5 1955.5,-643.5 1955.5,-649.5 1949.5,-655.5 1943.5,-655.5\"/>\n<text text-anchor=\"start\" x=\"1874\" y=\"-640.3\" font-family=\"Helvetica,sans-Serif\" font-size=\"14.00\">gini = 0.0</text>\n<text text-anchor=\"start\" x=\"1864.5\" y=\"-625.3\" font-family=\"Helvetica,sans-Serif\" font-size=\"14.00\">samples = 2</text>\n<text text-anchor=\"start\" x=\"1862.5\" y=\"-610.3\" font-family=\"Helvetica,sans-Serif\" font-size=\"14.00\">value = [0, 2]</text>\n<text text-anchor=\"start\" x=\"1856.5\" y=\"-595.3\" font-family=\"Helvetica,sans-Serif\" font-size=\"14.00\">class = здоров</text>\n</g>\n<!-- 53&#45;&gt;54 -->\n<g id=\"edge54\" class=\"edge\">\n<title>53&#45;&gt;54</title>\n<path fill=\"none\" stroke=\"black\" d=\"M1902,-698.91C1902,-688.2 1902,-676.62 1902,-665.78\"/>\n<polygon fill=\"black\" stroke=\"black\" points=\"1905.5,-665.67 1902,-655.67 1898.5,-665.67 1905.5,-665.67\"/>\n</g>\n<!-- 55 -->\n<g id=\"node56\" class=\"node\">\n<title>55</title>\n<path fill=\"#f0b78e\" stroke=\"black\" d=\"M2064,-663C2064,-663 1986,-663 1986,-663 1980,-663 1974,-657 1974,-651 1974,-651 1974,-592 1974,-592 1974,-586 1980,-580 1986,-580 1986,-580 2064,-580 2064,-580 2070,-580 2076,-586 2076,-592 2076,-592 2076,-651 2076,-651 2076,-657 2070,-663 2064,-663\"/>\n<text text-anchor=\"start\" x=\"1988\" y=\"-647.8\" font-family=\"Helvetica,sans-Serif\" font-size=\"14.00\">chol ≤ 311.0</text>\n<text text-anchor=\"start\" x=\"1993\" y=\"-632.8\" font-family=\"Helvetica,sans-Serif\" font-size=\"14.00\">gini = 0.42</text>\n<text text-anchor=\"start\" x=\"1984\" y=\"-617.8\" font-family=\"Helvetica,sans-Serif\" font-size=\"14.00\">samples = 20</text>\n<text text-anchor=\"start\" x=\"1982\" y=\"-602.8\" font-family=\"Helvetica,sans-Serif\" font-size=\"14.00\">value = [14, 6]</text>\n<text text-anchor=\"start\" x=\"1982\" y=\"-587.8\" font-family=\"Helvetica,sans-Serif\" font-size=\"14.00\">class = болен</text>\n</g>\n<!-- 53&#45;&gt;55 -->\n<g id=\"edge55\" class=\"edge\">\n<title>53&#45;&gt;55</title>\n<path fill=\"none\" stroke=\"black\" d=\"M1944.67,-698.91C1954.5,-689.56 1965.04,-679.54 1975.14,-669.93\"/>\n<polygon fill=\"black\" stroke=\"black\" points=\"1977.57,-672.45 1982.4,-663.02 1972.74,-667.38 1977.57,-672.45\"/>\n</g>\n<!-- 56 -->\n<g id=\"node57\" class=\"node\">\n<title>56</title>\n<path fill=\"#eca572\" stroke=\"black\" d=\"M2061,-544C2061,-544 1983,-544 1983,-544 1977,-544 1971,-538 1971,-532 1971,-532 1971,-473 1971,-473 1971,-467 1977,-461 1983,-461 1983,-461 2061,-461 2061,-461 2067,-461 2073,-467 2073,-473 2073,-473 2073,-532 2073,-532 2073,-538 2067,-544 2061,-544\"/>\n<text text-anchor=\"start\" x=\"1997.5\" y=\"-528.8\" font-family=\"Helvetica,sans-Serif\" font-size=\"14.00\">ca ≤ 3.0</text>\n<text text-anchor=\"start\" x=\"1986.5\" y=\"-513.8\" font-family=\"Helvetica,sans-Serif\" font-size=\"14.00\">gini = 0.346</text>\n<text text-anchor=\"start\" x=\"1981\" y=\"-498.8\" font-family=\"Helvetica,sans-Serif\" font-size=\"14.00\">samples = 18</text>\n<text text-anchor=\"start\" x=\"1979\" y=\"-483.8\" font-family=\"Helvetica,sans-Serif\" font-size=\"14.00\">value = [14, 4]</text>\n<text text-anchor=\"start\" x=\"1979\" y=\"-468.8\" font-family=\"Helvetica,sans-Serif\" font-size=\"14.00\">class = болен</text>\n</g>\n<!-- 55&#45;&gt;56 -->\n<g id=\"edge56\" class=\"edge\">\n<title>55&#45;&gt;56</title>\n<path fill=\"none\" stroke=\"black\" d=\"M2023.96,-579.91C2023.75,-571.56 2023.52,-562.67 2023.3,-554.02\"/>\n<polygon fill=\"black\" stroke=\"black\" points=\"2026.79,-553.93 2023.04,-544.02 2019.8,-554.11 2026.79,-553.93\"/>\n</g>\n<!-- 69 -->\n<g id=\"node70\" class=\"node\">\n<title>69</title>\n<path fill=\"#399de5\" stroke=\"black\" d=\"M2186.5,-536.5C2186.5,-536.5 2103.5,-536.5 2103.5,-536.5 2097.5,-536.5 2091.5,-530.5 2091.5,-524.5 2091.5,-524.5 2091.5,-480.5 2091.5,-480.5 2091.5,-474.5 2097.5,-468.5 2103.5,-468.5 2103.5,-468.5 2186.5,-468.5 2186.5,-468.5 2192.5,-468.5 2198.5,-474.5 2198.5,-480.5 2198.5,-480.5 2198.5,-524.5 2198.5,-524.5 2198.5,-530.5 2192.5,-536.5 2186.5,-536.5\"/>\n<text text-anchor=\"start\" x=\"2117\" y=\"-521.3\" font-family=\"Helvetica,sans-Serif\" font-size=\"14.00\">gini = 0.0</text>\n<text text-anchor=\"start\" x=\"2107.5\" y=\"-506.3\" font-family=\"Helvetica,sans-Serif\" font-size=\"14.00\">samples = 2</text>\n<text text-anchor=\"start\" x=\"2105.5\" y=\"-491.3\" font-family=\"Helvetica,sans-Serif\" font-size=\"14.00\">value = [0, 2]</text>\n<text text-anchor=\"start\" x=\"2099.5\" y=\"-476.3\" font-family=\"Helvetica,sans-Serif\" font-size=\"14.00\">class = здоров</text>\n</g>\n<!-- 55&#45;&gt;69 -->\n<g id=\"edge69\" class=\"edge\">\n<title>55&#45;&gt;69</title>\n<path fill=\"none\" stroke=\"black\" d=\"M2066.63,-579.91C2078.63,-568.21 2091.71,-555.46 2103.69,-543.78\"/>\n<polygon fill=\"black\" stroke=\"black\" points=\"2106.27,-546.15 2110.98,-536.67 2101.38,-541.14 2106.27,-546.15\"/>\n</g>\n<!-- 57 -->\n<g id=\"node58\" class=\"node\">\n<title>57</title>\n<path fill=\"#eb9c63\" stroke=\"black\" d=\"M1999,-425C1999,-425 1921,-425 1921,-425 1915,-425 1909,-419 1909,-413 1909,-413 1909,-354 1909,-354 1909,-348 1915,-342 1921,-342 1921,-342 1999,-342 1999,-342 2005,-342 2011,-348 2011,-354 2011,-354 2011,-413 2011,-413 2011,-419 2005,-425 1999,-425\"/>\n<text text-anchor=\"start\" x=\"1926.5\" y=\"-409.8\" font-family=\"Helvetica,sans-Serif\" font-size=\"14.00\">slope ≤ 1.5</text>\n<text text-anchor=\"start\" x=\"1924.5\" y=\"-394.8\" font-family=\"Helvetica,sans-Serif\" font-size=\"14.00\">gini = 0.291</text>\n<text text-anchor=\"start\" x=\"1919\" y=\"-379.8\" font-family=\"Helvetica,sans-Serif\" font-size=\"14.00\">samples = 17</text>\n<text text-anchor=\"start\" x=\"1917\" y=\"-364.8\" font-family=\"Helvetica,sans-Serif\" font-size=\"14.00\">value = [14, 3]</text>\n<text text-anchor=\"start\" x=\"1917\" y=\"-349.8\" font-family=\"Helvetica,sans-Serif\" font-size=\"14.00\">class = болен</text>\n</g>\n<!-- 56&#45;&gt;57 -->\n<g id=\"edge57\" class=\"edge\">\n<title>56&#45;&gt;57</title>\n<path fill=\"none\" stroke=\"black\" d=\"M2000.49,-460.91C1995.87,-452.2 1990.95,-442.9 1986.17,-433.89\"/>\n<polygon fill=\"black\" stroke=\"black\" points=\"1989.25,-432.22 1981.47,-425.02 1983.06,-435.5 1989.25,-432.22\"/>\n</g>\n<!-- 68 -->\n<g id=\"node69\" class=\"node\">\n<title>68</title>\n<path fill=\"#399de5\" stroke=\"black\" d=\"M2124.5,-417.5C2124.5,-417.5 2041.5,-417.5 2041.5,-417.5 2035.5,-417.5 2029.5,-411.5 2029.5,-405.5 2029.5,-405.5 2029.5,-361.5 2029.5,-361.5 2029.5,-355.5 2035.5,-349.5 2041.5,-349.5 2041.5,-349.5 2124.5,-349.5 2124.5,-349.5 2130.5,-349.5 2136.5,-355.5 2136.5,-361.5 2136.5,-361.5 2136.5,-405.5 2136.5,-405.5 2136.5,-411.5 2130.5,-417.5 2124.5,-417.5\"/>\n<text text-anchor=\"start\" x=\"2055\" y=\"-402.3\" font-family=\"Helvetica,sans-Serif\" font-size=\"14.00\">gini = 0.0</text>\n<text text-anchor=\"start\" x=\"2045.5\" y=\"-387.3\" font-family=\"Helvetica,sans-Serif\" font-size=\"14.00\">samples = 1</text>\n<text text-anchor=\"start\" x=\"2043.5\" y=\"-372.3\" font-family=\"Helvetica,sans-Serif\" font-size=\"14.00\">value = [0, 1]</text>\n<text text-anchor=\"start\" x=\"2037.5\" y=\"-357.3\" font-family=\"Helvetica,sans-Serif\" font-size=\"14.00\">class = здоров</text>\n</g>\n<!-- 56&#45;&gt;68 -->\n<g id=\"edge68\" class=\"edge\">\n<title>56&#45;&gt;68</title>\n<path fill=\"none\" stroke=\"black\" d=\"M2043.16,-460.91C2048.92,-449.87 2055.16,-437.9 2060.96,-426.77\"/>\n<polygon fill=\"black\" stroke=\"black\" points=\"2064.19,-428.15 2065.71,-417.67 2057.98,-424.92 2064.19,-428.15\"/>\n</g>\n<!-- 58 -->\n<g id=\"node59\" class=\"node\">\n<title>58</title>\n<path fill=\"#e78c4b\" stroke=\"black\" d=\"M1938,-306C1938,-306 1860,-306 1860,-306 1854,-306 1848,-300 1848,-294 1848,-294 1848,-235 1848,-235 1848,-229 1854,-223 1860,-223 1860,-223 1938,-223 1938,-223 1944,-223 1950,-229 1950,-235 1950,-235 1950,-294 1950,-294 1950,-300 1944,-306 1938,-306\"/>\n<text text-anchor=\"start\" x=\"1858\" y=\"-290.8\" font-family=\"Helvetica,sans-Serif\" font-size=\"14.00\">oldpeak ≤ 0.5</text>\n<text text-anchor=\"start\" x=\"1863.5\" y=\"-275.8\" font-family=\"Helvetica,sans-Serif\" font-size=\"14.00\">gini = 0.153</text>\n<text text-anchor=\"start\" x=\"1858\" y=\"-260.8\" font-family=\"Helvetica,sans-Serif\" font-size=\"14.00\">samples = 12</text>\n<text text-anchor=\"start\" x=\"1856\" y=\"-245.8\" font-family=\"Helvetica,sans-Serif\" font-size=\"14.00\">value = [11, 1]</text>\n<text text-anchor=\"start\" x=\"1856\" y=\"-230.8\" font-family=\"Helvetica,sans-Serif\" font-size=\"14.00\">class = болен</text>\n</g>\n<!-- 57&#45;&gt;58 -->\n<g id=\"edge58\" class=\"edge\">\n<title>57&#45;&gt;58</title>\n<path fill=\"none\" stroke=\"black\" d=\"M1938.84,-341.91C1934.29,-333.2 1929.45,-323.9 1924.75,-314.89\"/>\n<polygon fill=\"black\" stroke=\"black\" points=\"1927.85,-313.27 1920.13,-306.02 1921.65,-316.51 1927.85,-313.27\"/>\n</g>\n<!-- 63 -->\n<g id=\"node64\" class=\"node\">\n<title>63</title>\n<path fill=\"#f6d5bd\" stroke=\"black\" d=\"M2061.5,-306C2061.5,-306 1980.5,-306 1980.5,-306 1974.5,-306 1968.5,-300 1968.5,-294 1968.5,-294 1968.5,-235 1968.5,-235 1968.5,-229 1974.5,-223 1980.5,-223 1980.5,-223 2061.5,-223 2061.5,-223 2067.5,-223 2073.5,-229 2073.5,-235 2073.5,-235 2073.5,-294 2073.5,-294 2073.5,-300 2067.5,-306 2061.5,-306\"/>\n<text text-anchor=\"start\" x=\"1976.5\" y=\"-290.8\" font-family=\"Helvetica,sans-Serif\" font-size=\"14.00\">oldpeak ≤ 0.65</text>\n<text text-anchor=\"start\" x=\"1989\" y=\"-275.8\" font-family=\"Helvetica,sans-Serif\" font-size=\"14.00\">gini = 0.48</text>\n<text text-anchor=\"start\" x=\"1983.5\" y=\"-260.8\" font-family=\"Helvetica,sans-Serif\" font-size=\"14.00\">samples = 5</text>\n<text text-anchor=\"start\" x=\"1981.5\" y=\"-245.8\" font-family=\"Helvetica,sans-Serif\" font-size=\"14.00\">value = [3, 2]</text>\n<text text-anchor=\"start\" x=\"1978\" y=\"-230.8\" font-family=\"Helvetica,sans-Serif\" font-size=\"14.00\">class = болен</text>\n</g>\n<!-- 57&#45;&gt;63 -->\n<g id=\"edge63\" class=\"edge\">\n<title>57&#45;&gt;63</title>\n<path fill=\"none\" stroke=\"black\" d=\"M1981.16,-341.91C1985.71,-333.2 1990.55,-323.9 1995.25,-314.89\"/>\n<polygon fill=\"black\" stroke=\"black\" points=\"1998.35,-316.51 1999.87,-306.02 1992.15,-313.27 1998.35,-316.51\"/>\n</g>\n<!-- 59 -->\n<g id=\"node60\" class=\"node\">\n<title>59</title>\n<path fill=\"#f2c09c\" stroke=\"black\" d=\"M1817.5,-187C1817.5,-187 1732.5,-187 1732.5,-187 1726.5,-187 1720.5,-181 1720.5,-175 1720.5,-175 1720.5,-116 1720.5,-116 1720.5,-110 1726.5,-104 1732.5,-104 1732.5,-104 1817.5,-104 1817.5,-104 1823.5,-104 1829.5,-110 1829.5,-116 1829.5,-116 1829.5,-175 1829.5,-175 1829.5,-181 1823.5,-187 1817.5,-187\"/>\n<text text-anchor=\"start\" x=\"1728.5\" y=\"-171.8\" font-family=\"Helvetica,sans-Serif\" font-size=\"14.00\">thalach ≤ 148.5</text>\n<text text-anchor=\"start\" x=\"1739.5\" y=\"-156.8\" font-family=\"Helvetica,sans-Serif\" font-size=\"14.00\">gini = 0.444</text>\n<text text-anchor=\"start\" x=\"1737.5\" y=\"-141.8\" font-family=\"Helvetica,sans-Serif\" font-size=\"14.00\">samples = 3</text>\n<text text-anchor=\"start\" x=\"1735.5\" y=\"-126.8\" font-family=\"Helvetica,sans-Serif\" font-size=\"14.00\">value = [2, 1]</text>\n<text text-anchor=\"start\" x=\"1732\" y=\"-111.8\" font-family=\"Helvetica,sans-Serif\" font-size=\"14.00\">class = болен</text>\n</g>\n<!-- 58&#45;&gt;59 -->\n<g id=\"edge59\" class=\"edge\">\n<title>58&#45;&gt;59</title>\n<path fill=\"none\" stroke=\"black\" d=\"M1855.98,-222.91C1846.07,-213.56 1835.45,-203.54 1825.27,-193.93\"/>\n<polygon fill=\"black\" stroke=\"black\" points=\"1827.62,-191.34 1817.95,-187.02 1822.82,-196.43 1827.62,-191.34\"/>\n</g>\n<!-- 62 -->\n<g id=\"node63\" class=\"node\">\n<title>62</title>\n<path fill=\"#e58139\" stroke=\"black\" d=\"M1938,-179.5C1938,-179.5 1860,-179.5 1860,-179.5 1854,-179.5 1848,-173.5 1848,-167.5 1848,-167.5 1848,-123.5 1848,-123.5 1848,-117.5 1854,-111.5 1860,-111.5 1860,-111.5 1938,-111.5 1938,-111.5 1944,-111.5 1950,-117.5 1950,-123.5 1950,-123.5 1950,-167.5 1950,-167.5 1950,-173.5 1944,-179.5 1938,-179.5\"/>\n<text text-anchor=\"start\" x=\"1871\" y=\"-164.3\" font-family=\"Helvetica,sans-Serif\" font-size=\"14.00\">gini = 0.0</text>\n<text text-anchor=\"start\" x=\"1861.5\" y=\"-149.3\" font-family=\"Helvetica,sans-Serif\" font-size=\"14.00\">samples = 9</text>\n<text text-anchor=\"start\" x=\"1859.5\" y=\"-134.3\" font-family=\"Helvetica,sans-Serif\" font-size=\"14.00\">value = [9, 0]</text>\n<text text-anchor=\"start\" x=\"1856\" y=\"-119.3\" font-family=\"Helvetica,sans-Serif\" font-size=\"14.00\">class = болен</text>\n</g>\n<!-- 58&#45;&gt;62 -->\n<g id=\"edge62\" class=\"edge\">\n<title>58&#45;&gt;62</title>\n<path fill=\"none\" stroke=\"black\" d=\"M1899,-222.91C1899,-212.2 1899,-200.62 1899,-189.78\"/>\n<polygon fill=\"black\" stroke=\"black\" points=\"1902.5,-189.67 1899,-179.67 1895.5,-189.67 1902.5,-189.67\"/>\n</g>\n<!-- 60 -->\n<g id=\"node61\" class=\"node\">\n<title>60</title>\n<path fill=\"#399de5\" stroke=\"black\" d=\"M1785.5,-68C1785.5,-68 1702.5,-68 1702.5,-68 1696.5,-68 1690.5,-62 1690.5,-56 1690.5,-56 1690.5,-12 1690.5,-12 1690.5,-6 1696.5,0 1702.5,0 1702.5,0 1785.5,0 1785.5,0 1791.5,0 1797.5,-6 1797.5,-12 1797.5,-12 1797.5,-56 1797.5,-56 1797.5,-62 1791.5,-68 1785.5,-68\"/>\n<text text-anchor=\"start\" x=\"1716\" y=\"-52.8\" font-family=\"Helvetica,sans-Serif\" font-size=\"14.00\">gini = 0.0</text>\n<text text-anchor=\"start\" x=\"1706.5\" y=\"-37.8\" font-family=\"Helvetica,sans-Serif\" font-size=\"14.00\">samples = 1</text>\n<text text-anchor=\"start\" x=\"1704.5\" y=\"-22.8\" font-family=\"Helvetica,sans-Serif\" font-size=\"14.00\">value = [0, 1]</text>\n<text text-anchor=\"start\" x=\"1698.5\" y=\"-7.8\" font-family=\"Helvetica,sans-Serif\" font-size=\"14.00\">class = здоров</text>\n</g>\n<!-- 59&#45;&gt;60 -->\n<g id=\"edge60\" class=\"edge\">\n<title>59&#45;&gt;60</title>\n<path fill=\"none\" stroke=\"black\" d=\"M1763.46,-103.73C1761.08,-95.34 1758.57,-86.47 1756.18,-78.01\"/>\n<polygon fill=\"black\" stroke=\"black\" points=\"1759.52,-76.97 1753.43,-68.3 1752.78,-78.87 1759.52,-76.97\"/>\n</g>\n<!-- 61 -->\n<g id=\"node62\" class=\"node\">\n<title>61</title>\n<path fill=\"#e58139\" stroke=\"black\" d=\"M1906,-68C1906,-68 1828,-68 1828,-68 1822,-68 1816,-62 1816,-56 1816,-56 1816,-12 1816,-12 1816,-6 1822,0 1828,0 1828,0 1906,0 1906,0 1912,0 1918,-6 1918,-12 1918,-12 1918,-56 1918,-56 1918,-62 1912,-68 1906,-68\"/>\n<text text-anchor=\"start\" x=\"1839\" y=\"-52.8\" font-family=\"Helvetica,sans-Serif\" font-size=\"14.00\">gini = 0.0</text>\n<text text-anchor=\"start\" x=\"1829.5\" y=\"-37.8\" font-family=\"Helvetica,sans-Serif\" font-size=\"14.00\">samples = 2</text>\n<text text-anchor=\"start\" x=\"1827.5\" y=\"-22.8\" font-family=\"Helvetica,sans-Serif\" font-size=\"14.00\">value = [2, 0]</text>\n<text text-anchor=\"start\" x=\"1824\" y=\"-7.8\" font-family=\"Helvetica,sans-Serif\" font-size=\"14.00\">class = болен</text>\n</g>\n<!-- 59&#45;&gt;61 -->\n<g id=\"edge61\" class=\"edge\">\n<title>59&#45;&gt;61</title>\n<path fill=\"none\" stroke=\"black\" d=\"M1809.26,-103.73C1816.84,-94.7 1824.89,-85.12 1832.48,-76.08\"/>\n<polygon fill=\"black\" stroke=\"black\" points=\"1835.27,-78.21 1839.02,-68.3 1829.91,-73.7 1835.27,-78.21\"/>\n</g>\n<!-- 64 -->\n<g id=\"node65\" class=\"node\">\n<title>64</title>\n<path fill=\"#e58139\" stroke=\"black\" d=\"M2059,-179.5C2059,-179.5 1981,-179.5 1981,-179.5 1975,-179.5 1969,-173.5 1969,-167.5 1969,-167.5 1969,-123.5 1969,-123.5 1969,-117.5 1975,-111.5 1981,-111.5 1981,-111.5 2059,-111.5 2059,-111.5 2065,-111.5 2071,-117.5 2071,-123.5 2071,-123.5 2071,-167.5 2071,-167.5 2071,-173.5 2065,-179.5 2059,-179.5\"/>\n<text text-anchor=\"start\" x=\"1992\" y=\"-164.3\" font-family=\"Helvetica,sans-Serif\" font-size=\"14.00\">gini = 0.0</text>\n<text text-anchor=\"start\" x=\"1982.5\" y=\"-149.3\" font-family=\"Helvetica,sans-Serif\" font-size=\"14.00\">samples = 2</text>\n<text text-anchor=\"start\" x=\"1980.5\" y=\"-134.3\" font-family=\"Helvetica,sans-Serif\" font-size=\"14.00\">value = [2, 0]</text>\n<text text-anchor=\"start\" x=\"1977\" y=\"-119.3\" font-family=\"Helvetica,sans-Serif\" font-size=\"14.00\">class = болен</text>\n</g>\n<!-- 63&#45;&gt;64 -->\n<g id=\"edge64\" class=\"edge\">\n<title>63&#45;&gt;64</title>\n<path fill=\"none\" stroke=\"black\" d=\"M2020.65,-222.91C2020.56,-212.2 2020.46,-200.62 2020.37,-189.78\"/>\n<polygon fill=\"black\" stroke=\"black\" points=\"2023.87,-189.64 2020.28,-179.67 2016.87,-189.7 2023.87,-189.64\"/>\n</g>\n<!-- 65 -->\n<g id=\"node66\" class=\"node\">\n<title>65</title>\n<path fill=\"#9ccef2\" stroke=\"black\" d=\"M2186.5,-187C2186.5,-187 2101.5,-187 2101.5,-187 2095.5,-187 2089.5,-181 2089.5,-175 2089.5,-175 2089.5,-116 2089.5,-116 2089.5,-110 2095.5,-104 2101.5,-104 2101.5,-104 2186.5,-104 2186.5,-104 2192.5,-104 2198.5,-110 2198.5,-116 2198.5,-116 2198.5,-175 2198.5,-175 2198.5,-181 2192.5,-187 2186.5,-187\"/>\n<text text-anchor=\"start\" x=\"2097.5\" y=\"-171.8\" font-family=\"Helvetica,sans-Serif\" font-size=\"14.00\">thalach ≤ 169.0</text>\n<text text-anchor=\"start\" x=\"2108.5\" y=\"-156.8\" font-family=\"Helvetica,sans-Serif\" font-size=\"14.00\">gini = 0.444</text>\n<text text-anchor=\"start\" x=\"2106.5\" y=\"-141.8\" font-family=\"Helvetica,sans-Serif\" font-size=\"14.00\">samples = 3</text>\n<text text-anchor=\"start\" x=\"2104.5\" y=\"-126.8\" font-family=\"Helvetica,sans-Serif\" font-size=\"14.00\">value = [1, 2]</text>\n<text text-anchor=\"start\" x=\"2098.5\" y=\"-111.8\" font-family=\"Helvetica,sans-Serif\" font-size=\"14.00\">class = здоров</text>\n</g>\n<!-- 63&#45;&gt;65 -->\n<g id=\"edge65\" class=\"edge\">\n<title>63&#45;&gt;65</title>\n<path fill=\"none\" stroke=\"black\" d=\"M2063.67,-222.91C2073.5,-213.56 2084.04,-203.54 2094.14,-193.93\"/>\n<polygon fill=\"black\" stroke=\"black\" points=\"2096.57,-196.45 2101.4,-187.02 2091.74,-191.38 2096.57,-196.45\"/>\n</g>\n<!-- 66 -->\n<g id=\"node67\" class=\"node\">\n<title>66</title>\n<path fill=\"#399de5\" stroke=\"black\" d=\"M2092.5,-68C2092.5,-68 2009.5,-68 2009.5,-68 2003.5,-68 1997.5,-62 1997.5,-56 1997.5,-56 1997.5,-12 1997.5,-12 1997.5,-6 2003.5,0 2009.5,0 2009.5,0 2092.5,0 2092.5,0 2098.5,0 2104.5,-6 2104.5,-12 2104.5,-12 2104.5,-56 2104.5,-56 2104.5,-62 2098.5,-68 2092.5,-68\"/>\n<text text-anchor=\"start\" x=\"2023\" y=\"-52.8\" font-family=\"Helvetica,sans-Serif\" font-size=\"14.00\">gini = 0.0</text>\n<text text-anchor=\"start\" x=\"2013.5\" y=\"-37.8\" font-family=\"Helvetica,sans-Serif\" font-size=\"14.00\">samples = 2</text>\n<text text-anchor=\"start\" x=\"2011.5\" y=\"-22.8\" font-family=\"Helvetica,sans-Serif\" font-size=\"14.00\">value = [0, 2]</text>\n<text text-anchor=\"start\" x=\"2005.5\" y=\"-7.8\" font-family=\"Helvetica,sans-Serif\" font-size=\"14.00\">class = здоров</text>\n</g>\n<!-- 65&#45;&gt;66 -->\n<g id=\"edge66\" class=\"edge\">\n<title>65&#45;&gt;66</title>\n<path fill=\"none\" stroke=\"black\" d=\"M2109.37,-103.73C2101.7,-94.7 2093.57,-85.12 2085.89,-76.08\"/>\n<polygon fill=\"black\" stroke=\"black\" points=\"2088.42,-73.66 2079.28,-68.3 2083.09,-78.19 2088.42,-73.66\"/>\n</g>\n<!-- 67 -->\n<g id=\"node68\" class=\"node\">\n<title>67</title>\n<path fill=\"#e58139\" stroke=\"black\" d=\"M2213,-68C2213,-68 2135,-68 2135,-68 2129,-68 2123,-62 2123,-56 2123,-56 2123,-12 2123,-12 2123,-6 2129,0 2135,0 2135,0 2213,0 2213,0 2219,0 2225,-6 2225,-12 2225,-12 2225,-56 2225,-56 2225,-62 2219,-68 2213,-68\"/>\n<text text-anchor=\"start\" x=\"2146\" y=\"-52.8\" font-family=\"Helvetica,sans-Serif\" font-size=\"14.00\">gini = 0.0</text>\n<text text-anchor=\"start\" x=\"2136.5\" y=\"-37.8\" font-family=\"Helvetica,sans-Serif\" font-size=\"14.00\">samples = 1</text>\n<text text-anchor=\"start\" x=\"2134.5\" y=\"-22.8\" font-family=\"Helvetica,sans-Serif\" font-size=\"14.00\">value = [1, 0]</text>\n<text text-anchor=\"start\" x=\"2131\" y=\"-7.8\" font-family=\"Helvetica,sans-Serif\" font-size=\"14.00\">class = болен</text>\n</g>\n<!-- 65&#45;&gt;67 -->\n<g id=\"edge67\" class=\"edge\">\n<title>65&#45;&gt;67</title>\n<path fill=\"none\" stroke=\"black\" d=\"M2155.17,-103.73C2157.47,-95.34 2159.9,-86.47 2162.22,-78.01\"/>\n<polygon fill=\"black\" stroke=\"black\" points=\"2165.61,-78.87 2164.88,-68.3 2158.86,-77.02 2165.61,-78.87\"/>\n</g>\n</g>\n</svg>\n",
            "text/plain": [
              "<graphviz.sources.Source at 0x79198d31f400>"
            ]
          },
          "metadata": {},
          "execution_count": 64
        }
      ]
    },
    {
      "cell_type": "code",
      "source": [],
      "metadata": {
        "id": "O56K1q_gFg8y"
      },
      "execution_count": null,
      "outputs": []
    },
    {
      "cell_type": "code",
      "metadata": {
        "id": "IiqDev4YHJqF"
      },
      "source": [
        "from sklearn.model_selection import GridSearchCV\n",
        "grid_searcher = GridSearchCV (DecisionTreeClassifier(random_state=13,max_depth=None),\n",
        "                             param_grid={'max_depth': [3, 4, 5, 6, 7, 8, 9, 10, None],\n",
        "                                         'max_features': ['auto', 'log2', None],\n",
        "                                         'min_samples_leaf': range(1, 10),\n",
        "                                         'min_samples_split': range(2, 10),\n",
        "                                        'criterion': ['gini', 'entropy']},\n",
        "                             cv=5,\n",
        "\n",
        "                             scoring='accuracy')"
      ],
      "execution_count": null,
      "outputs": []
    },
    {
      "cell_type": "code",
      "metadata": {
        "id": "7WYFqiwHArl5",
        "colab": {
          "base_uri": "https://localhost:8080/"
        },
        "outputId": "67081c96-49a0-47b5-c372-3990ce66d76d"
      },
      "source": [
        "grid_searcher.fit(X_train, y_train);"
      ],
      "execution_count": null,
      "outputs": [
        {
          "output_type": "stream",
          "name": "stderr",
          "text": [
            "/usr/local/lib/python3.10/dist-packages/sklearn/model_selection/_validation.py:528: FitFailedWarning: \n",
            "6480 fits failed out of a total of 19440.\n",
            "The score on these train-test partitions for these parameters will be set to nan.\n",
            "If these failures are not expected, you can try to debug them by setting error_score='raise'.\n",
            "\n",
            "Below are more details about the failures:\n",
            "--------------------------------------------------------------------------------\n",
            "6480 fits failed with the following error:\n",
            "Traceback (most recent call last):\n",
            "  File \"/usr/local/lib/python3.10/dist-packages/sklearn/model_selection/_validation.py\", line 866, in _fit_and_score\n",
            "    estimator.fit(X_train, y_train, **fit_params)\n",
            "  File \"/usr/local/lib/python3.10/dist-packages/sklearn/base.py\", line 1382, in wrapper\n",
            "    estimator._validate_params()\n",
            "  File \"/usr/local/lib/python3.10/dist-packages/sklearn/base.py\", line 436, in _validate_params\n",
            "    validate_parameter_constraints(\n",
            "  File \"/usr/local/lib/python3.10/dist-packages/sklearn/utils/_param_validation.py\", line 98, in validate_parameter_constraints\n",
            "    raise InvalidParameterError(\n",
            "sklearn.utils._param_validation.InvalidParameterError: The 'max_features' parameter of DecisionTreeClassifier must be an int in the range [1, inf), a float in the range (0.0, 1.0], a str among {'log2', 'sqrt'} or None. Got 'auto' instead.\n",
            "\n",
            "  warnings.warn(some_fits_failed_message, FitFailedWarning)\n",
            "/usr/local/lib/python3.10/dist-packages/sklearn/model_selection/_search.py:1107: UserWarning: One or more of the test scores are non-finite: [       nan        nan        nan ... 0.81024155 0.81024155 0.81024155]\n",
            "  warnings.warn(\n"
          ]
        }
      ]
    },
    {
      "cell_type": "code",
      "metadata": {
        "colab": {
          "base_uri": "https://localhost:8080/"
        },
        "id": "GRXB1Q80BZ34",
        "outputId": "17128332-896e-4f49-d3d3-5559cd7cc205"
      },
      "source": [
        "grid_searcher.best_params_"
      ],
      "execution_count": null,
      "outputs": [
        {
          "output_type": "execute_result",
          "data": {
            "text/plain": [
              "{'criterion': 'gini',\n",
              " 'max_depth': 9,\n",
              " 'max_features': 'log2',\n",
              " 'min_samples_leaf': 3,\n",
              " 'min_samples_split': 9}"
            ]
          },
          "metadata": {},
          "execution_count": 12
        }
      ]
    },
    {
      "cell_type": "markdown",
      "metadata": {
        "id": "dyRbohSiHJqJ"
      },
      "source": [
        "4. Какое лучшее усредненное значение доли правильных ответов получилось на кросс-валидации (для оптимальных значений гиперпараметров)? Вам поможет атрибут `best_score_`. Ответ округлите до двух знаков после запятой и дайте в процентах."
      ]
    },
    {
      "cell_type": "code",
      "metadata": {
        "id": "uP1bIAXlHJqK",
        "colab": {
          "base_uri": "https://localhost:8080/"
        },
        "outputId": "ea946f52-2515-479e-85e8-076df77d30fb"
      },
      "source": [
        "print(round(grid_searcher.best_score_*100,2))"
      ],
      "execution_count": null,
      "outputs": [
        {
          "output_type": "stream",
          "name": "stdout",
          "text": [
            "83.24\n"
          ]
        }
      ]
    },
    {
      "cell_type": "markdown",
      "metadata": {
        "id": "UcTvaN8PHJqP"
      },
      "source": [
        "5. Найдите долю правильных ответов решающего дерева с подобранными оптимальными значениями гиперпараметров на обучающей выборке (**в процентах**). Ответ округлите до двух знаков после запятой."
      ]
    },
    {
      "cell_type": "code",
      "metadata": {
        "id": "zqVhMvbHHJqR",
        "colab": {
          "base_uri": "https://localhost:8080/"
        },
        "outputId": "d2e2676e-5a44-4efe-f7c5-b4ddc5a4bc59"
      },
      "source": [
        "best_predictions = grid_searcher.predict(X_train)\n",
        "\n",
        "print(round(accuracy_score(best_predictions, y_train)*100,2))"
      ],
      "execution_count": null,
      "outputs": [
        {
          "output_type": "stream",
          "name": "stdout",
          "text": [
            "90.75\n"
          ]
        }
      ]
    },
    {
      "cell_type": "markdown",
      "metadata": {
        "id": "jHtJdYfCHJqT"
      },
      "source": [
        "6. Найдите долю правильных ответов решающего дерева с подобранными оптимальными значениями гиперпараметров на тестовой выборке (**в процентах**). Ответ округлите до двух знаков после запятой.\n",
        "\n",
        "    Уменьшилось ли переобучение?"
      ]
    },
    {
      "cell_type": "code",
      "metadata": {
        "id": "W5vLBojcHJqU",
        "colab": {
          "base_uri": "https://localhost:8080/"
        },
        "outputId": "877c94d2-66b9-4315-8435-98417dfeb6e8"
      },
      "source": [
        "best_predictions = grid_searcher.predict(X_test)\n",
        "print(round(accuracy_score(best_predictions, y_test)*100,2))"
      ],
      "execution_count": null,
      "outputs": [
        {
          "output_type": "stream",
          "name": "stdout",
          "text": [
            "73.68\n"
          ]
        }
      ]
    },
    {
      "cell_type": "code",
      "metadata": {
        "colab": {
          "base_uri": "https://localhost:8080/"
        },
        "id": "DU7vLQzI7xU7",
        "outputId": "a356a9e9-ba12-4cc0-b7cf-506141e042fd"
      },
      "source": [
        "best_predictions"
      ],
      "execution_count": null,
      "outputs": [
        {
          "output_type": "execute_result",
          "data": {
            "text/plain": [
              "array([0, 1, 1, 1, 0, 0, 1, 0, 1, 1, 1, 1, 0, 0, 1, 0, 0, 0, 0, 0, 1, 0,\n",
              "       1, 0, 1, 1, 1, 1, 0, 0, 1, 0, 0, 1, 0, 0, 1, 0, 0, 0, 1, 0, 0, 1,\n",
              "       0, 1, 0, 0, 0, 0, 1, 0, 1, 0, 1, 0, 0, 1, 1, 1, 1, 1, 0, 1, 0, 0,\n",
              "       0, 1, 1, 1, 1, 0, 0, 0, 1, 0])"
            ]
          },
          "metadata": {},
          "execution_count": 16
        }
      ]
    },
    {
      "cell_type": "markdown",
      "metadata": {
        "id": "VZoPqUOtHJqX"
      },
      "source": [
        "7. Решающее дерево позволяет предсказывать не только классы, но и вероятности классов - с помощью метода `predict_proba`. Посмотрите на вероятности классов полученного решающего дерева и посчитайте значение AUC-ROC. Ответ округлите до двух знаков после запятой."
      ]
    },
    {
      "cell_type": "code",
      "metadata": {
        "id": "RElo_Tp8HJqY",
        "colab": {
          "base_uri": "https://localhost:8080/"
        },
        "outputId": "0fbf0748-28c3-4051-b4a7-9dce4742c58d"
      },
      "source": [
        "from sklearn.metrics import roc_auc_score\n",
        "\n",
        "y_pred = grid_searcher.predict_proba(X_test)[:,1]\n",
        "\n",
        "print(round(roc_auc_score(y_test, y_pred),2))"
      ],
      "execution_count": null,
      "outputs": [
        {
          "output_type": "stream",
          "name": "stdout",
          "text": [
            "0.77\n"
          ]
        }
      ]
    },
    {
      "cell_type": "code",
      "metadata": {
        "colab": {
          "base_uri": "https://localhost:8080/"
        },
        "id": "FosOfm5GGHVU",
        "outputId": "8e27230d-e47d-40a5-d9f0-6f41d99c4142"
      },
      "source": [
        "y_pred"
      ],
      "execution_count": null,
      "outputs": [
        {
          "output_type": "execute_result",
          "data": {
            "text/plain": [
              "array([0.        , 1.        , 0.66666667, 0.57142857, 0.2       ,\n",
              "       0.25      , 0.71428571, 0.2       , 1.        , 0.66666667,\n",
              "       1.        , 1.        , 0.33333333, 0.33333333, 1.        ,\n",
              "       0.42857143, 0.14285714, 0.33333333, 0.33333333, 0.        ,\n",
              "       1.        , 0.        , 1.        , 0.        , 1.        ,\n",
              "       1.        , 1.        , 1.        , 0.        , 0.25      ,\n",
              "       0.57142857, 0.42857143, 0.33333333, 0.66666667, 0.        ,\n",
              "       0.        , 1.        , 0.        , 0.2       , 0.        ,\n",
              "       1.        , 0.33333333, 0.        , 0.57142857, 0.42857143,\n",
              "       0.66666667, 0.        , 0.2       , 0.14285714, 0.2       ,\n",
              "       1.        , 0.        , 1.        , 0.33333333, 1.        ,\n",
              "       0.        , 0.        , 1.        , 1.        , 1.        ,\n",
              "       1.        , 1.        , 0.        , 1.        , 0.        ,\n",
              "       0.        , 0.        , 1.        , 1.        , 1.        ,\n",
              "       1.        , 0.        , 0.2       , 0.        , 1.        ,\n",
              "       0.        ])"
            ]
          },
          "metadata": {},
          "execution_count": 18
        }
      ]
    },
    {
      "cell_type": "code",
      "metadata": {
        "colab": {
          "base_uri": "https://localhost:8080/",
          "height": 458
        },
        "id": "kEyHiYTwGJJj",
        "outputId": "3580f8c1-adcf-46ff-d5dc-62c722549066"
      },
      "source": [
        "y_test"
      ],
      "execution_count": null,
      "outputs": [
        {
          "output_type": "execute_result",
          "data": {
            "text/plain": [
              "203    0\n",
              "30     1\n",
              "58     1\n",
              "90     1\n",
              "119    1\n",
              "      ..\n",
              "66     1\n",
              "184    0\n",
              "290    0\n",
              "140    1\n",
              "292    0\n",
              "Name: target, Length: 76, dtype: int64"
            ],
            "text/html": [
              "<div>\n",
              "<style scoped>\n",
              "    .dataframe tbody tr th:only-of-type {\n",
              "        vertical-align: middle;\n",
              "    }\n",
              "\n",
              "    .dataframe tbody tr th {\n",
              "        vertical-align: top;\n",
              "    }\n",
              "\n",
              "    .dataframe thead th {\n",
              "        text-align: right;\n",
              "    }\n",
              "</style>\n",
              "<table border=\"1\" class=\"dataframe\">\n",
              "  <thead>\n",
              "    <tr style=\"text-align: right;\">\n",
              "      <th></th>\n",
              "      <th>target</th>\n",
              "    </tr>\n",
              "  </thead>\n",
              "  <tbody>\n",
              "    <tr>\n",
              "      <th>203</th>\n",
              "      <td>0</td>\n",
              "    </tr>\n",
              "    <tr>\n",
              "      <th>30</th>\n",
              "      <td>1</td>\n",
              "    </tr>\n",
              "    <tr>\n",
              "      <th>58</th>\n",
              "      <td>1</td>\n",
              "    </tr>\n",
              "    <tr>\n",
              "      <th>90</th>\n",
              "      <td>1</td>\n",
              "    </tr>\n",
              "    <tr>\n",
              "      <th>119</th>\n",
              "      <td>1</td>\n",
              "    </tr>\n",
              "    <tr>\n",
              "      <th>...</th>\n",
              "      <td>...</td>\n",
              "    </tr>\n",
              "    <tr>\n",
              "      <th>66</th>\n",
              "      <td>1</td>\n",
              "    </tr>\n",
              "    <tr>\n",
              "      <th>184</th>\n",
              "      <td>0</td>\n",
              "    </tr>\n",
              "    <tr>\n",
              "      <th>290</th>\n",
              "      <td>0</td>\n",
              "    </tr>\n",
              "    <tr>\n",
              "      <th>140</th>\n",
              "      <td>1</td>\n",
              "    </tr>\n",
              "    <tr>\n",
              "      <th>292</th>\n",
              "      <td>0</td>\n",
              "    </tr>\n",
              "  </tbody>\n",
              "</table>\n",
              "<p>76 rows × 1 columns</p>\n",
              "</div><br><label><b>dtype:</b> int64</label>"
            ]
          },
          "metadata": {},
          "execution_count": 19
        }
      ]
    },
    {
      "cell_type": "markdown",
      "metadata": {
        "id": "EHaj9rjcHJqa"
      },
      "source": [
        "8. Какой признак является самым важным по мнению полученного решающего дерева? Чтобы это проверить, вам поможет атрибут `feature_importances_`."
      ]
    },
    {
      "cell_type": "code",
      "metadata": {
        "id": "Z2JZ-Ds-HJqb",
        "colab": {
          "base_uri": "https://localhost:8080/"
        },
        "outputId": "536a8ce9-bbee-4855-ca88-2884b77e437e"
      },
      "source": [
        "dt.feature_importances_"
      ],
      "execution_count": null,
      "outputs": [
        {
          "output_type": "execute_result",
          "data": {
            "text/plain": [
              "array([0.07773343, 0.045513  , 0.30305604, 0.11124416, 0.08185137,\n",
              "       0.02923589, 0.        , 0.05894548, 0.        , 0.0862486 ,\n",
              "       0.01808537, 0.12413278, 0.06395387])"
            ]
          },
          "metadata": {},
          "execution_count": 20
        }
      ]
    },
    {
      "cell_type": "code",
      "metadata": {
        "colab": {
          "base_uri": "https://localhost:8080/"
        },
        "id": "sp1i31BYAr7U",
        "outputId": "fa053025-456f-4b18-d109-05fb39803dee"
      },
      "source": [
        "grid_searcher.best_estimator_.feature_importances_"
      ],
      "execution_count": null,
      "outputs": [
        {
          "output_type": "execute_result",
          "data": {
            "text/plain": [
              "array([0.00768745, 0.11857961, 0.        , 0.00622126, 0.03031571,\n",
              "       0.        , 0.00554163, 0.15552678, 0.15383366, 0.06550299,\n",
              "       0.23535585, 0.18479243, 0.03664263])"
            ]
          },
          "metadata": {},
          "execution_count": 21
        }
      ]
    },
    {
      "cell_type": "code",
      "metadata": {
        "colab": {
          "base_uri": "https://localhost:8080/"
        },
        "id": "VbPjo3a9HuGV",
        "outputId": "911662da-3fcd-4dd5-ed22-e395ac2239e1"
      },
      "source": [
        "max(grid_searcher.best_estimator_.feature_importances_)"
      ],
      "execution_count": null,
      "outputs": [
        {
          "output_type": "execute_result",
          "data": {
            "text/plain": [
              "0.23535584619015162"
            ]
          },
          "metadata": {},
          "execution_count": 22
        }
      ]
    },
    {
      "cell_type": "code",
      "metadata": {
        "id": "K9e7ZcdIH1wQ"
      },
      "source": [
        "#значит третий признак с 0.235 самый важный, это признак slope"
      ],
      "execution_count": null,
      "outputs": []
    },
    {
      "cell_type": "code",
      "source": [
        "tree.plot_tree(tree)"
      ],
      "metadata": {
        "colab": {
          "base_uri": "https://localhost:8080/",
          "height": 141
        },
        "id": "A2d-YekKBmWI",
        "outputId": "63c6e084-062b-4a65-b27e-8f05e6cac31b"
      },
      "execution_count": null,
      "outputs": [
        {
          "output_type": "error",
          "ename": "AttributeError",
          "evalue": "'DecisionTreeClassifier' object has no attribute 'plot_tree'",
          "traceback": [
            "\u001b[0;31m---------------------------------------------------------------------------\u001b[0m",
            "\u001b[0;31mAttributeError\u001b[0m                            Traceback (most recent call last)",
            "\u001b[0;32m<ipython-input-26-0efb5db80959>\u001b[0m in \u001b[0;36m<cell line: 1>\u001b[0;34m()\u001b[0m\n\u001b[0;32m----> 1\u001b[0;31m \u001b[0mtree\u001b[0m\u001b[0;34m.\u001b[0m\u001b[0mplot_tree\u001b[0m\u001b[0;34m(\u001b[0m\u001b[0mtree\u001b[0m\u001b[0;34m)\u001b[0m\u001b[0;34m\u001b[0m\u001b[0;34m\u001b[0m\u001b[0m\n\u001b[0m",
            "\u001b[0;31mAttributeError\u001b[0m: 'DecisionTreeClassifier' object has no attribute 'plot_tree'"
          ]
        }
      ]
    }
  ]
}